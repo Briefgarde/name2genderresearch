{
 "cells": [
  {
   "cell_type": "markdown",
   "id": "7f74bef7",
   "metadata": {},
   "source": [
    "This notebook has for goal to preprocess the Wikidata dataset. \n",
    "\n",
    "# Description of the dataset before processing\n",
    "\n",
    "The wikidata dataset is constituted of 10 smaller subset, each containing names (person_label), date of births (dobs), countries (countries) and continent (continents) of 500 person from a given continent and gender. It also contain the Wikidata identifier for those persons (person). \n",
    "\n",
    "The continent included are : \n",
    "- Africa\n",
    "- Asia\n",
    "- Europe\n",
    "- North America\n",
    "- South America\n",
    "\n",
    "The gender included are : \n",
    "- Male\n",
    "- Female\n",
    "\n",
    "Those two categories include anyone tagged either male, female, cisgender male or cisgender female. \n",
    "\n",
    "When fetching data from Wikidata, the date of birth was capped between 1900 and 2025 to prevent cases where someone's date of birth was not filled, and to avoid particularly old names that may mess up the more modern services being used. \n",
    "\n",
    "# Preprocessing tasks\n",
    "\n",
    "The current 10 subset will need to be check for duplicates. Some of the people included have multiple countries and continents of citizenship, meaning they might have shown up multiple time on different queries. The check for duplication will be made on the Wikidata identifier, then on duplicate tuples sharing the same name and country. \n",
    "\n",
    "Once checked for duplicates, the dataset will need to be manually treated to identify the first, middle and last name(s) of the people included. This step is fully manual, but can be softened a little bit by previously flagging names that have particularities in them. \n",
    "\n",
    "Particularities in this context include : \n",
    "- Any middles names\n",
    "- Double barreled names (ex : Smith-Jones)\n",
    "- ASCII characters (any character that is not the standard a-zA-Z. All accents are included here too.)\n",
    "- Numbers in the name\n",
    "- trailing spaces and other irregularities with blank spaces. \n",
    "- Potential punctuation in the name (ex: Adam J.)\n",
    "\n",
    "Any full name not flagged by this identification process should thus be a simple \"FirstName LastName\" name. It'll be separated into first and last names columns on the logic that the surname is the first, and the last name is the second. This is NOT guaranteed, but is supported by a partial visual control of the dataset. \n",
    "\n",
    "Finally, the services that can make use of the country of origin of the name, for the most part, only accept the ISO code of the country. Since the country is only registered as a string here, we use pycountry to make a fuzzy search of the string and return the ISO code. "
   ]
  },
  {
   "cell_type": "code",
   "execution_count": 1,
   "id": "8dde10f9",
   "metadata": {},
   "outputs": [],
   "source": [
    "import numpy as np\n",
    "import pandas as pd\n",
    "from pathlib import Path\n",
    "import pycountry"
   ]
  },
  {
   "cell_type": "markdown",
   "id": "9863f339",
   "metadata": {},
   "source": [
    "## Joining subsets "
   ]
  },
  {
   "cell_type": "code",
   "execution_count": 2,
   "id": "515ff463",
   "metadata": {},
   "outputs": [
    {
     "name": "stdout",
     "output_type": "stream",
     "text": [
      "Combined 10 files.\n",
      "Big dataset shape: (5000, 6)\n"
     ]
    }
   ],
   "source": [
    "data_dir = Path(\"../../data/rawData/wikidata5k\")\n",
    "\n",
    "csv_files = list(data_dir.glob(\"*.csv\"))\n",
    "\n",
    "dfs = [pd.read_csv(f) for f in csv_files]\n",
    "\n",
    "big_df = pd.concat(dfs, ignore_index=True)\n",
    "\n",
    "print(f\"Combined {len(csv_files)} files.\")\n",
    "print(f\"Big dataset shape: {big_df.shape}\")"
   ]
  },
  {
   "cell_type": "markdown",
   "id": "4c847583",
   "metadata": {},
   "source": [
    "## Removing duplicates identifier"
   ]
  },
  {
   "cell_type": "code",
   "execution_count": 3,
   "id": "6191a712",
   "metadata": {},
   "outputs": [],
   "source": [
    "clean_df = big_df.drop_duplicates(subset=['person'], keep='first')"
   ]
  },
  {
   "cell_type": "code",
   "execution_count": 4,
   "id": "ac6f452c",
   "metadata": {},
   "outputs": [
    {
     "name": "stdout",
     "output_type": "stream",
     "text": [
      "Before cleaning: (5000, 6)\n",
      "After cleaning : (4881, 6)\n",
      "Removed 119 duplicates (2.38% of rows).\n"
     ]
    }
   ],
   "source": [
    "print(\"Before cleaning:\", big_df.shape)\n",
    "print(\"After cleaning :\", clean_df.shape)\n",
    "\n",
    "duplicate_count = big_df.shape[0] - clean_df.shape[0]\n",
    "duplicate_ratio = duplicate_count / big_df.shape[0] * 100\n",
    "print(f\"Removed {duplicate_count} duplicates ({duplicate_ratio:.2f}% of rows).\")"
   ]
  },
  {
   "cell_type": "code",
   "execution_count": 5,
   "id": "c7df8bbd",
   "metadata": {},
   "outputs": [
    {
     "name": "stdout",
     "output_type": "stream",
     "text": [
      "Unique persons: 4881\n",
      "Rows in clean_df: 4881\n"
     ]
    }
   ],
   "source": [
    "print(\"Unique persons:\", clean_df['person'].nunique())\n",
    "print(\"Rows in clean_df:\", clean_df.shape[0])"
   ]
  },
  {
   "cell_type": "code",
   "execution_count": 6,
   "id": "f2a56054",
   "metadata": {},
   "outputs": [
    {
     "name": "stdout",
     "output_type": "stream",
     "text": [
      "Fraction of missing values per column:\n",
      "person          0.0\n",
      "person_label    0.0\n",
      "genders         0.0\n",
      "dobs            0.0\n",
      "countries       0.0\n",
      "continents      0.0\n",
      "dtype: float64\n"
     ]
    }
   ],
   "source": [
    "missing_summary = clean_df.isnull().mean().sort_values(ascending=False)\n",
    "print(\"Fraction of missing values per column:\")\n",
    "print(missing_summary)"
   ]
  },
  {
   "cell_type": "code",
   "execution_count": 7,
   "id": "c28ab42d",
   "metadata": {},
   "outputs": [
    {
     "name": "stdout",
     "output_type": "stream",
     "text": [
      "continents     countries  person_label            \n",
      "Europe         Poland     Andrzej Kowalski            5\n",
      "               Hungary    Tibor Flórián               2\n",
      "               Italy      Lorenzo Casini              2\n",
      "South America  Brazil     Fabio Ribeiro               2\n",
      "               Venezuela  José Urriola                1\n",
      "                          Jhonnatan Medina-Álvarez    1\n",
      "Africa         Algeria    Isma Kaddouri               1\n",
      "South America  Venezuela  Victor Luces                1\n",
      "Africa         Algeria    Abdel Medioub               1\n",
      "                          Asma Guesmi                 1\n",
      "                          Fatima Hellilou             1\n",
      "                          Khaled Benaissa             1\n",
      "                          Leila Beratto               1\n",
      "                          Mohamed Esseghir            1\n",
      "                          Mohamed Zerguini            1\n",
      "                          Myriam Belkiri              1\n",
      "                          Ratiba Derfoul              1\n",
      "                          Selma Hellal                1\n",
      "                          Sofiane Benfatah            1\n",
      "                          Soraya Mellili              1\n",
      "Name: count, dtype: int64\n"
     ]
    }
   ],
   "source": [
    "print(clean_df[['continents', 'countries', 'person_label']].value_counts(normalize=False).head(20))"
   ]
  },
  {
   "cell_type": "markdown",
   "id": "930853c7",
   "metadata": {},
   "source": [
    "## Removing duplicate names\n",
    "\n",
    "After removing duplicate based on the identifier, some names were still appearing in duplicates. This is unncessary, as the services used are deterministic, they'd produce the same results for any of those names assuming the same output on other variables, such as country of origins. Based on this, duplicate names that also have the same country of origin will be removed. "
   ]
  },
  {
   "cell_type": "code",
   "execution_count": 8,
   "id": "3c4c3195",
   "metadata": {},
   "outputs": [
    {
     "name": "stdout",
     "output_type": "stream",
     "text": [
      "4874\n",
      "continents  countries  person_label         \n",
      "Africa      Algeria    Abdel Medioub            1\n",
      "                       Asma Guesmi              1\n",
      "                       Boumédiene Bensmaine     1\n",
      "                       Brahim Haggiag           1\n",
      "                       Fadila Hachemaoui        1\n",
      "                       Faouzia Mebarki          1\n",
      "                       Fatima Hellilou          1\n",
      "                       Ghaniyya Bouhouia        1\n",
      "                       Hassane Mezine           1\n",
      "                       Hicham Benayad-Cherif    1\n",
      "                       Isma Kaddouri            1\n",
      "                       Khaled Benaissa          1\n",
      "                       Leila Beratto            1\n",
      "                       Mohamed Esseghir         1\n",
      "                       Mohamed Zerguini         1\n",
      "                       Myriam Belkiri           1\n",
      "                       Ratiba Derfoul           1\n",
      "                       Selma Hellal             1\n",
      "                       Sofiane Benfatah         1\n",
      "                       Soraya Mellili           1\n",
      "Name: count, dtype: int64\n"
     ]
    }
   ],
   "source": [
    "clean_df = clean_df.drop_duplicates(subset=['continents', 'countries', 'person_label'], keep='first')\n",
    "print(clean_df['person_label'].value_counts().sum())\n",
    "print(clean_df[['continents', 'countries', 'person_label']].value_counts(normalize=False).head(20))"
   ]
  },
  {
   "cell_type": "markdown",
   "id": "19f50ea6",
   "metadata": {},
   "source": [
    "## Flagging names"
   ]
  },
  {
   "cell_type": "code",
   "execution_count": 9,
   "id": "3657b437",
   "metadata": {},
   "outputs": [
    {
     "name": "stdout",
     "output_type": "stream",
     "text": [
      "Total rows: 4874\n",
      "Potential middle names: 882\n",
      "Percentage: 18.10%\n"
     ]
    }
   ],
   "source": [
    "middle_name_mask = clean_df['person_label'].str.strip().str.count(\" \") >= 2\n",
    "\n",
    "middle_name_count = middle_name_mask.sum()\n",
    "\n",
    "print(f\"Total rows: {clean_df.shape[0]}\")\n",
    "print(f\"Potential middle names: {middle_name_count}\")\n",
    "print(f\"Percentage: {middle_name_count / clean_df.shape[0] * 100:.2f}%\")\n",
    "\n",
    "clean_df['hasMiddleName'] = middle_name_mask"
   ]
  },
  {
   "cell_type": "code",
   "execution_count": 10,
   "id": "c26876b1",
   "metadata": {},
   "outputs": [
    {
     "name": "stdout",
     "output_type": "stream",
     "text": [
      "Total rows: 4874\n",
      "Potential rows without last name: 55\n",
      "Percentage: 1.13%\n"
     ]
    }
   ],
   "source": [
    "no_last_name_mask = clean_df['person_label'].str.count(\" \") == 0\n",
    "no_last_name_count = no_last_name_mask.sum()\n",
    "\n",
    "print(f\"Total rows: {clean_df.shape[0]}\")\n",
    "print(f\"Potential rows without last name: {no_last_name_count}\")\n",
    "print(f\"Percentage: {no_last_name_count / clean_df.shape[0] * 100:.2f}%\")\n",
    "\n",
    "clean_df['hasNoLastName'] = no_last_name_mask"
   ]
  },
  {
   "cell_type": "code",
   "execution_count": 11,
   "id": "b38aa09e",
   "metadata": {},
   "outputs": [
    {
     "name": "stdout",
     "output_type": "stream",
     "text": [
      "{'total': 4874, 'difficult_count': np.int64(1688), 'difficult_pct': np.float64(34.632745178498155), 'by_reason': {'hyphen': 219, 'apostrophe': 32, 'punctuation': 145, 'digit': 1, 'initials': 131, 'non_ascii': 762, 'whitespace': 4}}\n"
     ]
    },
    {
     "name": "stderr",
     "output_type": "stream",
     "text": [
      "C:\\Users\\brief\\AppData\\Local\\Temp\\ipykernel_29840\\3081058324.py:24: UserWarning: This pattern is interpreted as a regular expression, and has match groups. To actually get the groups, use str.extract.\n",
      "  initial_mask      = s_norm.str.contains(r\"(^|\\s)[A-Za-z]\\.\", na=False)  # initials like \"J.\"\n"
     ]
    }
   ],
   "source": [
    "import re\n",
    "import unicodedata\n",
    "# This code was generated by ChatGPT and tweaked by me. \n",
    "\n",
    "# 1) Keep the original text; add a normalized helper column for consistent tests\n",
    "def normalize_name(s):\n",
    "    if pd.isna(s):\n",
    "        return s\n",
    "    s = unicodedata.normalize(\"NFKC\", str(s))  # unify apostrophes/spaces, etc.\n",
    "    s = s.strip()\n",
    "    s = re.sub(r\"\\s+\", \" \", s)                # collapse internal whitespace\n",
    "    return s\n",
    "\n",
    "clean_df[\"person_label_norm\"] = clean_df[\"person_label\"].map(normalize_name)\n",
    "\n",
    "# 2) Build masks (vectorized)\n",
    "s_raw  = clean_df[\"person_label\"].astype(str)\n",
    "s_norm = clean_df[\"person_label_norm\"].astype(str)\n",
    "\n",
    "hyphen_mask       = s_norm.str.contains(r\"-\", na=False)\n",
    "apostrophe_mask   = s_norm.str.contains(r\"['\\u2019\\u02BC]\", na=False)  # ', ’, ʼ\n",
    "punct_mask        = s_norm.str.contains(r\"[.,/&(){}\\[\\]<>@#?!$%^*_=+\\\\]\", na=False)\n",
    "digit_mask        = s_norm.str.contains(r\"\\d\", na=False)\n",
    "initial_mask      = s_norm.str.contains(r\"(^|\\s)[A-Za-z]\\.\", na=False)  # initials like \"J.\"\n",
    "# Non-ASCII: after NFKC, compare ASCII-stripped version to itself\n",
    "non_ascii_mask    = ~s_norm.map(lambda x: x.isascii())\n",
    "\n",
    "# Whitespace issues measured on the raw (pre-normalization) text\n",
    "whitespace_mask   = s_raw.str.contains(\n",
    "    r\"^\\s|[\\u00A0\\u2007\\u202F]|\\s{2,}|\\s$\", na=False\n",
    ")\n",
    "\n",
    "# 3) Combine into a single \"hasDifficultName\" flag\n",
    "difficult_mask = (\n",
    "    middle_name_mask\n",
    "    | no_last_name_mask\n",
    "    | hyphen_mask\n",
    "    | apostrophe_mask\n",
    "    | punct_mask\n",
    "    | digit_mask\n",
    "    | initial_mask\n",
    "    | non_ascii_mask\n",
    "    | whitespace_mask\n",
    ")\n",
    "\n",
    "clean_df[\"hasDifficultName\"] = difficult_mask\n",
    "\n",
    "# 4) (Optional) Keep a reason code for explainability/auditing\n",
    "def reason_row(i):\n",
    "    reasons = []\n",
    "    if middle_name_mask.iat[i]: reasons.append(\"middleName\")\n",
    "    if no_last_name_mask.iat[i]: reasons.append(\"noLastName\")\n",
    "    if hyphen_mask.iat[i]:      reasons.append(\"hyphen\")\n",
    "    if apostrophe_mask.iat[i]:  reasons.append(\"apostrophe\")\n",
    "    if punct_mask.iat[i]:       reasons.append(\"punctuation\")\n",
    "    if digit_mask.iat[i]:       reasons.append(\"digit\")\n",
    "    if initial_mask.iat[i]:     reasons.append(\"initials\")\n",
    "    if non_ascii_mask.iat[i]:   reasons.append(\"non_ascii\")\n",
    "    if whitespace_mask.iat[i]:  reasons.append(\"whitespace\")\n",
    "    return \"|\".join(reasons)\n",
    "\n",
    "clean_df[\"difficult_reason\"] = [reason_row(i) for i in range(len(clean_df))]\n",
    "\n",
    "# 5) (Optional) Quick summary for your report\n",
    "summary = {\n",
    "    \"total\": len(clean_df),\n",
    "    \"difficult_count\": difficult_mask.sum(),\n",
    "    \"difficult_pct\": 100 * difficult_mask.mean(),\n",
    "    \"by_reason\": {\n",
    "        \"hyphen\": int(hyphen_mask.sum()),\n",
    "        \"apostrophe\": int(apostrophe_mask.sum()),\n",
    "        \"punctuation\": int(punct_mask.sum()),\n",
    "        \"digit\": int(digit_mask.sum()),\n",
    "        \"initials\": int(initial_mask.sum()),\n",
    "        \"non_ascii\": int(non_ascii_mask.sum()),\n",
    "        \"whitespace\": int(whitespace_mask.sum()),\n",
    "    },\n",
    "}\n",
    "print(summary)"
   ]
  },
  {
   "cell_type": "markdown",
   "id": "cbe901a2",
   "metadata": {},
   "source": [
    "## Separating non-flagged names"
   ]
  },
  {
   "cell_type": "code",
   "execution_count": 12,
   "id": "eb5b4498",
   "metadata": {},
   "outputs": [],
   "source": [
    "def split_name(full_name: str):\n",
    "    tokens = full_name.strip().split()\n",
    "    \n",
    "    return tokens[0], tokens[1]\n",
    "\n",
    "# Apply to dataset\n",
    "clean_df[[\"surName\", \"lastName\"]] = clean_df[\n",
    "    (clean_df['hasDifficultName']==False)]['person_label'].apply(\n",
    "    lambda x: pd.Series(split_name(x))\n",
    ")"
   ]
  },
  {
   "cell_type": "markdown",
   "id": "2ceff343",
   "metadata": {},
   "source": [
    "## Adding ISO code for countries"
   ]
  },
  {
   "cell_type": "code",
   "execution_count": 13,
   "id": "fd4413b8",
   "metadata": {},
   "outputs": [
    {
     "data": {
      "application/vnd.microsoft.datawrangler.viewer.v0+json": {
       "columns": [
        {
         "name": "index",
         "rawType": "int64",
         "type": "integer"
        },
        {
         "name": "person",
         "rawType": "object",
         "type": "string"
        },
        {
         "name": "person_label",
         "rawType": "object",
         "type": "string"
        },
        {
         "name": "genders",
         "rawType": "object",
         "type": "string"
        },
        {
         "name": "dobs",
         "rawType": "object",
         "type": "string"
        },
        {
         "name": "countries",
         "rawType": "object",
         "type": "string"
        },
        {
         "name": "continents",
         "rawType": "object",
         "type": "string"
        },
        {
         "name": "hasMiddleName",
         "rawType": "bool",
         "type": "boolean"
        },
        {
         "name": "hasNoLastName",
         "rawType": "bool",
         "type": "boolean"
        },
        {
         "name": "person_label_norm",
         "rawType": "object",
         "type": "string"
        },
        {
         "name": "hasDifficultName",
         "rawType": "bool",
         "type": "boolean"
        },
        {
         "name": "difficult_reason",
         "rawType": "object",
         "type": "string"
        },
        {
         "name": "surName",
         "rawType": "object",
         "type": "unknown"
        },
        {
         "name": "lastName",
         "rawType": "object",
         "type": "unknown"
        },
        {
         "name": "iso_country",
         "rawType": "object",
         "type": "unknown"
        }
       ],
       "ref": "9c695d1e-36fe-4417-8556-5d9739c481e2",
       "rows": [
        [
         "0",
         "http://www.wikidata.org/entity/Q100065772",
         "Clara Benson",
         "female",
         "2000-08-19T00:00:00Z",
         "Ghana",
         "Africa",
         "False",
         "False",
         "Clara Benson",
         "False",
         "",
         "Clara",
         "Benson",
         "GH"
        ],
        [
         "1",
         "http://www.wikidata.org/entity/Q100136959",
         "Esther Ruth Mbabazi",
         "female",
         "1995-01-01T00:00:00Z",
         "Uganda",
         "Africa",
         "True",
         "False",
         "Esther Ruth Mbabazi",
         "True",
         "middleName",
         null,
         null,
         "UG"
        ],
        [
         "2",
         "http://www.wikidata.org/entity/Q100146654",
         "Dalia Ziada",
         "female",
         "1982-01-01T00:00:00Z",
         "Egypt",
         "Africa",
         "False",
         "False",
         "Dalia Ziada",
         "False",
         "",
         "Dalia",
         "Ziada",
         "EG"
        ],
        [
         "3",
         "http://www.wikidata.org/entity/Q100152601",
         "Fatou Haidara",
         "female",
         "1962-01-01T00:00:00Z",
         "Mali",
         "Africa",
         "False",
         "False",
         "Fatou Haidara",
         "False",
         "",
         "Fatou",
         "Haidara",
         "ML"
        ],
        [
         "4",
         "http://www.wikidata.org/entity/Q100165910",
         "Claude Haffner",
         "female",
         "1976-01-01T00:00:00Z",
         "Democratic Republic of the Congo",
         "Africa",
         "False",
         "False",
         "Claude Haffner",
         "False",
         "",
         "Claude",
         "Haffner",
         null
        ]
       ],
       "shape": {
        "columns": 14,
        "rows": 5
       }
      },
      "text/html": [
       "<div>\n",
       "<style scoped>\n",
       "    .dataframe tbody tr th:only-of-type {\n",
       "        vertical-align: middle;\n",
       "    }\n",
       "\n",
       "    .dataframe tbody tr th {\n",
       "        vertical-align: top;\n",
       "    }\n",
       "\n",
       "    .dataframe thead th {\n",
       "        text-align: right;\n",
       "    }\n",
       "</style>\n",
       "<table border=\"1\" class=\"dataframe\">\n",
       "  <thead>\n",
       "    <tr style=\"text-align: right;\">\n",
       "      <th></th>\n",
       "      <th>person</th>\n",
       "      <th>person_label</th>\n",
       "      <th>genders</th>\n",
       "      <th>dobs</th>\n",
       "      <th>countries</th>\n",
       "      <th>continents</th>\n",
       "      <th>hasMiddleName</th>\n",
       "      <th>hasNoLastName</th>\n",
       "      <th>person_label_norm</th>\n",
       "      <th>hasDifficultName</th>\n",
       "      <th>difficult_reason</th>\n",
       "      <th>surName</th>\n",
       "      <th>lastName</th>\n",
       "      <th>iso_country</th>\n",
       "    </tr>\n",
       "  </thead>\n",
       "  <tbody>\n",
       "    <tr>\n",
       "      <th>0</th>\n",
       "      <td>http://www.wikidata.org/entity/Q100065772</td>\n",
       "      <td>Clara Benson</td>\n",
       "      <td>female</td>\n",
       "      <td>2000-08-19T00:00:00Z</td>\n",
       "      <td>Ghana</td>\n",
       "      <td>Africa</td>\n",
       "      <td>False</td>\n",
       "      <td>False</td>\n",
       "      <td>Clara Benson</td>\n",
       "      <td>False</td>\n",
       "      <td></td>\n",
       "      <td>Clara</td>\n",
       "      <td>Benson</td>\n",
       "      <td>GH</td>\n",
       "    </tr>\n",
       "    <tr>\n",
       "      <th>1</th>\n",
       "      <td>http://www.wikidata.org/entity/Q100136959</td>\n",
       "      <td>Esther Ruth Mbabazi</td>\n",
       "      <td>female</td>\n",
       "      <td>1995-01-01T00:00:00Z</td>\n",
       "      <td>Uganda</td>\n",
       "      <td>Africa</td>\n",
       "      <td>True</td>\n",
       "      <td>False</td>\n",
       "      <td>Esther Ruth Mbabazi</td>\n",
       "      <td>True</td>\n",
       "      <td>middleName</td>\n",
       "      <td>NaN</td>\n",
       "      <td>NaN</td>\n",
       "      <td>UG</td>\n",
       "    </tr>\n",
       "    <tr>\n",
       "      <th>2</th>\n",
       "      <td>http://www.wikidata.org/entity/Q100146654</td>\n",
       "      <td>Dalia Ziada</td>\n",
       "      <td>female</td>\n",
       "      <td>1982-01-01T00:00:00Z</td>\n",
       "      <td>Egypt</td>\n",
       "      <td>Africa</td>\n",
       "      <td>False</td>\n",
       "      <td>False</td>\n",
       "      <td>Dalia Ziada</td>\n",
       "      <td>False</td>\n",
       "      <td></td>\n",
       "      <td>Dalia</td>\n",
       "      <td>Ziada</td>\n",
       "      <td>EG</td>\n",
       "    </tr>\n",
       "    <tr>\n",
       "      <th>3</th>\n",
       "      <td>http://www.wikidata.org/entity/Q100152601</td>\n",
       "      <td>Fatou Haidara</td>\n",
       "      <td>female</td>\n",
       "      <td>1962-01-01T00:00:00Z</td>\n",
       "      <td>Mali</td>\n",
       "      <td>Africa</td>\n",
       "      <td>False</td>\n",
       "      <td>False</td>\n",
       "      <td>Fatou Haidara</td>\n",
       "      <td>False</td>\n",
       "      <td></td>\n",
       "      <td>Fatou</td>\n",
       "      <td>Haidara</td>\n",
       "      <td>ML</td>\n",
       "    </tr>\n",
       "    <tr>\n",
       "      <th>4</th>\n",
       "      <td>http://www.wikidata.org/entity/Q100165910</td>\n",
       "      <td>Claude Haffner</td>\n",
       "      <td>female</td>\n",
       "      <td>1976-01-01T00:00:00Z</td>\n",
       "      <td>Democratic Republic of the Congo</td>\n",
       "      <td>Africa</td>\n",
       "      <td>False</td>\n",
       "      <td>False</td>\n",
       "      <td>Claude Haffner</td>\n",
       "      <td>False</td>\n",
       "      <td></td>\n",
       "      <td>Claude</td>\n",
       "      <td>Haffner</td>\n",
       "      <td>None</td>\n",
       "    </tr>\n",
       "  </tbody>\n",
       "</table>\n",
       "</div>"
      ],
      "text/plain": [
       "                                      person         person_label genders  \\\n",
       "0  http://www.wikidata.org/entity/Q100065772         Clara Benson  female   \n",
       "1  http://www.wikidata.org/entity/Q100136959  Esther Ruth Mbabazi  female   \n",
       "2  http://www.wikidata.org/entity/Q100146654          Dalia Ziada  female   \n",
       "3  http://www.wikidata.org/entity/Q100152601        Fatou Haidara  female   \n",
       "4  http://www.wikidata.org/entity/Q100165910       Claude Haffner  female   \n",
       "\n",
       "                   dobs                         countries continents  \\\n",
       "0  2000-08-19T00:00:00Z                             Ghana     Africa   \n",
       "1  1995-01-01T00:00:00Z                            Uganda     Africa   \n",
       "2  1982-01-01T00:00:00Z                             Egypt     Africa   \n",
       "3  1962-01-01T00:00:00Z                              Mali     Africa   \n",
       "4  1976-01-01T00:00:00Z  Democratic Republic of the Congo     Africa   \n",
       "\n",
       "   hasMiddleName  hasNoLastName    person_label_norm  hasDifficultName  \\\n",
       "0          False          False         Clara Benson             False   \n",
       "1           True          False  Esther Ruth Mbabazi              True   \n",
       "2          False          False          Dalia Ziada             False   \n",
       "3          False          False        Fatou Haidara             False   \n",
       "4          False          False       Claude Haffner             False   \n",
       "\n",
       "  difficult_reason surName lastName iso_country  \n",
       "0                    Clara   Benson          GH  \n",
       "1       middleName     NaN      NaN          UG  \n",
       "2                    Dalia    Ziada          EG  \n",
       "3                    Fatou  Haidara          ML  \n",
       "4                   Claude  Haffner        None  "
      ]
     },
     "execution_count": 13,
     "metadata": {},
     "output_type": "execute_result"
    }
   ],
   "source": [
    "def findISOCode(country):\n",
    "    if isinstance(country, str): # in case of missing values\n",
    "        try:\n",
    "            return pycountry.countries.search_fuzzy(country)[0].alpha_2\n",
    "        except LookupError:\n",
    "            return None  # if pycountry can't find a match\n",
    "    else:\n",
    "        return None\n",
    "clean_df[\"iso_country\"] = clean_df['countries'].apply(findISOCode)\n",
    "clean_df.head()"
   ]
  },
  {
   "cell_type": "code",
   "execution_count": 23,
   "id": "60e88857",
   "metadata": {},
   "outputs": [
    {
     "name": "stdout",
     "output_type": "stream",
     "text": [
      "Total number of missing ISO codes : 333\n"
     ]
    },
    {
     "data": {
      "application/vnd.microsoft.datawrangler.viewer.v0+json": {
       "columns": [
        {
         "name": "countries",
         "rawType": "object",
         "type": "string"
        },
        {
         "name": "count",
         "rawType": "int64",
         "type": "integer"
        }
       ],
       "ref": "0f352a00-7af0-4976-b8ee-7489e742dee2",
       "rows": [
        [
         "Soviet Union",
         "119"
        ],
        [
         "Turkey",
         "50"
        ],
        [
         "Democratic Republic of the Congo",
         "25"
        ],
        [
         "Ivory Coast",
         "21"
        ],
        [
         "Cape Verde",
         "16"
        ],
        [
         "Empire of Japan",
         "13"
        ],
        [
         "Kingdom of Italy",
         "13"
        ],
        [
         "United Arab Republic",
         "10"
        ],
        [
         "German Democratic Republic",
         "10"
        ],
        [
         "Kingdom of Nejd and Hejaz",
         "8"
        ],
        [
         "Ottoman Empire",
         "8"
        ],
        [
         "British Raj",
         "6"
        ],
        [
         "German Reich",
         "6"
        ],
        [
         "French protectorate of Tunisia",
         "5"
        ],
        [
         "Kingdom of Yugoslavia",
         "3"
        ],
        [
         "Yugoslavia",
         "3"
        ],
        [
         "Czechoslovakia",
         "3"
        ],
        [
         "Kingdom of Egypt",
         "2"
        ],
        [
         "Cisleithania",
         "2"
        ],
        [
         "French mandate of Lebanon",
         "2"
        ],
        [
         "Somaliland",
         "1"
        ],
        [
         "British Hong Kong",
         "1"
        ],
        [
         "Taiwan under Japanese rule",
         "1"
        ],
        [
         "Weimar Republic",
         "1"
        ],
        [
         "Colony of Jamaica",
         "1"
        ],
        [
         "Crown Colony of Malta",
         "1"
        ],
        [
         "Nazi Germany",
         "1"
        ],
        [
         "Russian Empire",
         "1"
        ]
       ],
       "shape": {
        "columns": 1,
        "rows": 28
       }
      },
      "text/plain": [
       "countries\n",
       "Soviet Union                        119\n",
       "Turkey                               50\n",
       "Democratic Republic of the Congo     25\n",
       "Ivory Coast                          21\n",
       "Cape Verde                           16\n",
       "Empire of Japan                      13\n",
       "Kingdom of Italy                     13\n",
       "United Arab Republic                 10\n",
       "German Democratic Republic           10\n",
       "Kingdom of Nejd and Hejaz             8\n",
       "Ottoman Empire                        8\n",
       "British Raj                           6\n",
       "German Reich                          6\n",
       "French protectorate of Tunisia        5\n",
       "Kingdom of Yugoslavia                 3\n",
       "Yugoslavia                            3\n",
       "Czechoslovakia                        3\n",
       "Kingdom of Egypt                      2\n",
       "Cisleithania                          2\n",
       "French mandate of Lebanon             2\n",
       "Somaliland                            1\n",
       "British Hong Kong                     1\n",
       "Taiwan under Japanese rule            1\n",
       "Weimar Republic                       1\n",
       "Colony of Jamaica                     1\n",
       "Crown Colony of Malta                 1\n",
       "Nazi Germany                          1\n",
       "Russian Empire                        1\n",
       "Name: count, dtype: int64"
      ]
     },
     "execution_count": 23,
     "metadata": {},
     "output_type": "execute_result"
    }
   ],
   "source": [
    "df_na_isoCountry = clean_df[clean_df['iso_country'].isna()]\n",
    "print(f\"Total number of missing ISO codes : {df_na_isoCountry['countries'].value_counts().sum()}\")\n",
    "df_na_isoCountry['countries'].value_counts()"
   ]
  },
  {
   "cell_type": "markdown",
   "id": "d3f3bd53",
   "metadata": {},
   "source": [
    "It appears a lot of the missing ISO codes are from countries that no longer exist (Soviet Union), or are written in a way that isn't recognized by the ISO norm (Turkey, now spelled Türkiye). \n",
    "\n",
    "Given that the services do NOT require the usage of a country code to provide a return, it is acceptable to not treat those missing ISO code and simply leave those fields empty. "
   ]
  },
  {
   "cell_type": "markdown",
   "id": "d9bab979",
   "metadata": {},
   "source": [
    "## Resetting index"
   ]
  },
  {
   "cell_type": "code",
   "execution_count": 14,
   "id": "8884ce44",
   "metadata": {},
   "outputs": [
    {
     "data": {
      "application/vnd.microsoft.datawrangler.viewer.v0+json": {
       "columns": [
        {
         "name": "index",
         "rawType": "int64",
         "type": "integer"
        },
        {
         "name": "person",
         "rawType": "object",
         "type": "string"
        },
        {
         "name": "person_label",
         "rawType": "object",
         "type": "string"
        },
        {
         "name": "genders",
         "rawType": "object",
         "type": "string"
        },
        {
         "name": "dobs",
         "rawType": "object",
         "type": "string"
        },
        {
         "name": "countries",
         "rawType": "object",
         "type": "string"
        },
        {
         "name": "continents",
         "rawType": "object",
         "type": "string"
        },
        {
         "name": "hasMiddleName",
         "rawType": "bool",
         "type": "boolean"
        },
        {
         "name": "hasNoLastName",
         "rawType": "bool",
         "type": "boolean"
        },
        {
         "name": "person_label_norm",
         "rawType": "object",
         "type": "string"
        },
        {
         "name": "hasDifficultName",
         "rawType": "bool",
         "type": "boolean"
        },
        {
         "name": "difficult_reason",
         "rawType": "object",
         "type": "string"
        },
        {
         "name": "surName",
         "rawType": "object",
         "type": "unknown"
        },
        {
         "name": "lastName",
         "rawType": "object",
         "type": "unknown"
        },
        {
         "name": "iso_country",
         "rawType": "object",
         "type": "unknown"
        }
       ],
       "ref": "6d4875b5-3112-4b76-a063-660bfc1ee3dc",
       "rows": [
        [
         "0",
         "http://www.wikidata.org/entity/Q100065772",
         "Clara Benson",
         "female",
         "2000-08-19T00:00:00Z",
         "Ghana",
         "Africa",
         "False",
         "False",
         "Clara Benson",
         "False",
         "",
         "Clara",
         "Benson",
         "GH"
        ],
        [
         "1",
         "http://www.wikidata.org/entity/Q100136959",
         "Esther Ruth Mbabazi",
         "female",
         "1995-01-01T00:00:00Z",
         "Uganda",
         "Africa",
         "True",
         "False",
         "Esther Ruth Mbabazi",
         "True",
         "middleName",
         null,
         null,
         "UG"
        ],
        [
         "2",
         "http://www.wikidata.org/entity/Q100146654",
         "Dalia Ziada",
         "female",
         "1982-01-01T00:00:00Z",
         "Egypt",
         "Africa",
         "False",
         "False",
         "Dalia Ziada",
         "False",
         "",
         "Dalia",
         "Ziada",
         "EG"
        ],
        [
         "3",
         "http://www.wikidata.org/entity/Q100152601",
         "Fatou Haidara",
         "female",
         "1962-01-01T00:00:00Z",
         "Mali",
         "Africa",
         "False",
         "False",
         "Fatou Haidara",
         "False",
         "",
         "Fatou",
         "Haidara",
         "ML"
        ],
        [
         "4",
         "http://www.wikidata.org/entity/Q100165910",
         "Claude Haffner",
         "female",
         "1976-01-01T00:00:00Z",
         "Democratic Republic of the Congo",
         "Africa",
         "False",
         "False",
         "Claude Haffner",
         "False",
         "",
         "Claude",
         "Haffner",
         null
        ],
        [
         "5",
         "http://www.wikidata.org/entity/Q100214040",
         "Bâ Odette Yattara",
         "female",
         "1944-01-01T00:00:00Z",
         "Mali",
         "Africa",
         "True",
         "False",
         "Bâ Odette Yattara",
         "True",
         "middleName|non_ascii",
         null,
         null,
         "ML"
        ],
        [
         "6",
         "http://www.wikidata.org/entity/Q100230407",
         "Traoré Oumou Touré",
         "female",
         "1950-01-01T00:00:00Z",
         "Mali",
         "Africa",
         "True",
         "False",
         "Traoré Oumou Touré",
         "True",
         "middleName|non_ascii",
         null,
         null,
         "ML"
        ],
        [
         "7",
         "http://www.wikidata.org/entity/Q100233625",
         "Diallo Sène",
         "female",
         "1952-07-01T00:00:00Z",
         "Mali",
         "Africa",
         "False",
         "False",
         "Diallo Sène",
         "True",
         "non_ascii",
         null,
         null,
         "ML"
        ],
        [
         "8",
         "http://www.wikidata.org/entity/Q100233649",
         "Fatoumata Sylla",
         "female",
         "1954-12-11T00:00:00Z",
         "Mali",
         "Africa",
         "False",
         "False",
         "Fatoumata Sylla",
         "False",
         "",
         "Fatoumata",
         "Sylla",
         "ML"
        ],
        [
         "9",
         "http://www.wikidata.org/entity/Q100233714",
         "Maïga Zeïnab Mint Youba",
         "female",
         "1955-11-30T00:00:00Z",
         "Mali",
         "Africa",
         "True",
         "False",
         "Maïga Zeïnab Mint Youba",
         "True",
         "middleName|non_ascii",
         null,
         null,
         "ML"
        ],
        [
         "10",
         "http://www.wikidata.org/entity/Q100233791",
         "Soumaré Aminata Sidibé",
         "female",
         "1954-01-01T00:00:00Z",
         "Mali",
         "Africa",
         "True",
         "False",
         "Soumaré Aminata Sidibé",
         "True",
         "middleName|non_ascii",
         null,
         null,
         "ML"
        ],
        [
         "11",
         "http://www.wikidata.org/entity/Q100243004",
         "Manuella Ollo",
         "female",
         "1985-08-16T00:00:00Z",
         "Ivory Coast",
         "Africa",
         "False",
         "False",
         "Manuella Ollo",
         "False",
         "",
         "Manuella",
         "Ollo",
         null
        ],
        [
         "12",
         "http://www.wikidata.org/entity/Q100249616",
         "Awa Traoré",
         "female",
         "1980-01-01T00:00:00Z",
         "Mali",
         "Africa",
         "False",
         "False",
         "Awa Traoré",
         "True",
         "non_ascii",
         null,
         null,
         "ML"
        ],
        [
         "13",
         "http://www.wikidata.org/entity/Q100250433",
         "Ba Hawa Keita",
         "female",
         "1952-10-20T00:00:00Z",
         "Mali",
         "Africa",
         "True",
         "False",
         "Ba Hawa Keita",
         "True",
         "middleName",
         null,
         null,
         "ML"
        ],
        [
         "14",
         "http://www.wikidata.org/entity/Q100250623",
         "Bâ Fatoumata Nènè Sy",
         "female",
         "1959-07-03T00:00:00Z",
         "Mali",
         "Africa",
         "True",
         "False",
         "Bâ Fatoumata Nènè Sy",
         "True",
         "middleName|non_ascii",
         null,
         null,
         "ML"
        ],
        [
         "15",
         "http://www.wikidata.org/entity/Q100251399",
         "Maïga Sina Damba",
         "female",
         "1957-11-16T00:00:00Z",
         "Mali",
         "Africa",
         "True",
         "False",
         "Maïga Sina Damba",
         "True",
         "middleName|non_ascii",
         null,
         null,
         "ML"
        ],
        [
         "16",
         "http://www.wikidata.org/entity/Q100255653",
         "Erlyne Antonella Ndembet",
         "female",
         "1971-01-01T00:00:00Z",
         "Gabon",
         "Africa",
         "True",
         "False",
         "Erlyne Antonella Ndembet",
         "True",
         "middleName",
         null,
         null,
         "GA"
        ],
        [
         "17",
         "http://www.wikidata.org/entity/Q100256832",
         "Lorna Doorman",
         "female",
         "1998-04-15T00:00:00Z",
         "Zimbabwe",
         "Africa",
         "False",
         "False",
         "Lorna Doorman",
         "False",
         "",
         "Lorna",
         "Doorman",
         "ZW"
        ],
        [
         "18",
         "http://www.wikidata.org/entity/Q100258380",
         "Enayat al-Zayyat",
         "female",
         "1936-03-23T00:00:00Z",
         "Egypt",
         "Africa",
         "False",
         "False",
         "Enayat al-Zayyat",
         "True",
         "hyphen",
         null,
         null,
         "EG"
        ],
        [
         "19",
         "http://www.wikidata.org/entity/Q100258634",
         "Arafa Abdel Rasoul",
         "female",
         "1954-02-19T00:00:00Z",
         "Egypt",
         "Africa",
         "True",
         "False",
         "Arafa Abdel Rasoul",
         "True",
         "middleName",
         null,
         null,
         "EG"
        ],
        [
         "20",
         "http://www.wikidata.org/entity/Q100258796",
         "Fatima Hellilou",
         "female",
         "1955-01-01T00:00:00Z",
         "Algeria",
         "Africa",
         "False",
         "False",
         "Fatima Hellilou",
         "False",
         "",
         "Fatima",
         "Hellilou",
         "DZ"
        ],
        [
         "21",
         "http://www.wikidata.org/entity/Q100258808",
         "Fadila Hachemaoui",
         "female",
         "1955-01-01T00:00:00Z",
         "Algeria",
         "Africa",
         "False",
         "False",
         "Fadila Hachemaoui",
         "False",
         "",
         "Fadila",
         "Hachemaoui",
         "DZ"
        ],
        [
         "22",
         "http://www.wikidata.org/entity/Q100258880",
         "Mervat Farrag",
         "female",
         "1960-07-15T00:00:00Z",
         "Egypt",
         "Africa",
         "False",
         "False",
         "Mervat Farrag",
         "False",
         "",
         "Mervat",
         "Farrag",
         "EG"
        ],
        [
         "23",
         "http://www.wikidata.org/entity/Q100258900",
         "Ghaniyya Bouhouia",
         "female",
         "1988-10-11T00:00:00Z",
         "Algeria",
         "Africa",
         "False",
         "False",
         "Ghaniyya Bouhouia",
         "False",
         "",
         "Ghaniyya",
         "Bouhouia",
         "DZ"
        ],
        [
         "24",
         "http://www.wikidata.org/entity/Q100259331",
         "Bella Keshk",
         "female",
         "1994-01-01T00:00:00Z",
         "Egypt",
         "Africa",
         "False",
         "False",
         "Bella Keshk",
         "False",
         "",
         "Bella",
         "Keshk",
         "EG"
        ],
        [
         "25",
         "http://www.wikidata.org/entity/Q100259783",
         "Magda Saleh",
         "female",
         "1943-01-01T00:00:00Z",
         "Kingdom of Egypt",
         "Africa",
         "False",
         "False",
         "Magda Saleh",
         "False",
         "",
         "Magda",
         "Saleh",
         null
        ],
        [
         "26",
         "http://www.wikidata.org/entity/Q100260890",
         "Emna Fakher",
         "female",
         "1981-03-10T00:00:00Z",
         "Tunisia",
         "Africa",
         "False",
         "False",
         "Emna Fakher",
         "False",
         "",
         "Emna",
         "Fakher",
         "TN"
        ],
        [
         "27",
         "http://www.wikidata.org/entity/Q100261615",
         "Marianne Khoury",
         "female",
         "1958-10-02T00:00:00Z",
         "Egypt",
         "Africa",
         "False",
         "False",
         "Marianne Khoury",
         "False",
         "",
         "Marianne",
         "Khoury",
         "EG"
        ],
        [
         "28",
         "http://www.wikidata.org/entity/Q100268168",
         "Teodolinda Rosa Rodrigues Coelho",
         "female",
         "1959-08-02T00:00:00Z",
         "Angola",
         "Africa",
         "True",
         "False",
         "Teodolinda Rosa Rodrigues Coelho",
         "True",
         "middleName",
         null,
         null,
         "AO"
        ],
        [
         "29",
         "http://www.wikidata.org/entity/Q100268832",
         "Diarra Mariam Flantié Diallo",
         "female",
         "1955-06-28T00:00:00Z",
         "Mali",
         "Africa",
         "True",
         "False",
         "Diarra Mariam Flantié Diallo",
         "True",
         "middleName|non_ascii",
         null,
         null,
         "ML"
        ],
        [
         "30",
         "http://www.wikidata.org/entity/Q100268843",
         "Gakou Salamata Fofana",
         "female",
         "1956-01-01T00:00:00Z",
         "Mali",
         "Africa",
         "True",
         "False",
         "Gakou Salamata Fofana",
         "True",
         "middleName",
         null,
         null,
         "ML"
        ],
        [
         "31",
         "http://www.wikidata.org/entity/Q100268929",
         "Diabaté Fatoumata Guindo",
         "female",
         "1973-06-28T00:00:00Z",
         "Mali",
         "Africa",
         "True",
         "False",
         "Diabaté Fatoumata Guindo",
         "True",
         "middleName|non_ascii",
         null,
         null,
         "ML"
        ],
        [
         "32",
         "http://www.wikidata.org/entity/Q100269043",
         "Sangaré Oumou Ba",
         "female",
         "1947-02-15T00:00:00Z",
         "Mali",
         "Africa",
         "True",
         "False",
         "Sangaré Oumou Ba",
         "True",
         "middleName|non_ascii",
         null,
         null,
         "ML"
        ],
        [
         "33",
         "http://www.wikidata.org/entity/Q100269474",
         "Vicentia Boco",
         "female",
         "1949-01-22T00:00:00Z",
         "Benin",
         "Africa",
         "False",
         "False",
         "Vicentia Boco",
         "False",
         "",
         "Vicentia",
         "Boco",
         "BJ"
        ],
        [
         "34",
         "http://www.wikidata.org/entity/Q100272601",
         "Therese Soukup",
         "female",
         "2003-07-08T00:00:00Z",
         "Seychelles",
         "Africa",
         "False",
         "False",
         "Therese Soukup",
         "False",
         "",
         "Therese",
         "Soukup",
         "SC"
        ],
        [
         "35",
         "http://www.wikidata.org/entity/Q100273559",
         "Aisha Yesufu",
         "female",
         "1973-12-12T00:00:00Z",
         "Nigeria",
         "Africa",
         "False",
         "False",
         "Aisha Yesufu",
         "False",
         "",
         "Aisha",
         "Yesufu",
         "NG"
        ],
        [
         "36",
         "http://www.wikidata.org/entity/Q100275809",
         "Togola Marie Jacqueline Nana",
         "female",
         "1949-04-29T00:00:00Z",
         "Mali",
         "Africa",
         "True",
         "False",
         "Togola Marie Jacqueline Nana",
         "True",
         "middleName",
         null,
         null,
         "ML"
        ],
        [
         "37",
         "http://www.wikidata.org/entity/Q100276084",
         "Priscilla Jana",
         "female",
         "1943-12-05T00:00:00Z",
         "South Africa",
         "Africa",
         "False",
         "False",
         "Priscilla Jana",
         "False",
         "",
         "Priscilla",
         "Jana",
         "ZA"
        ],
        [
         "38",
         "http://www.wikidata.org/entity/Q100279030",
         "Diarra Raky Talla",
         "female",
         "1966-08-15T00:00:00Z",
         "Mali",
         "Africa",
         "True",
         "False",
         "Diarra Raky Talla",
         "True",
         "middleName",
         null,
         null,
         "ML"
        ],
        [
         "39",
         "http://www.wikidata.org/entity/Q100279449",
         "Sanogo Aminata Mallé",
         "female",
         "1957-01-01T00:00:00Z",
         "Mali",
         "Africa",
         "True",
         "False",
         "Sanogo Aminata Mallé",
         "True",
         "middleName|non_ascii",
         null,
         null,
         "ML"
        ],
        [
         "40",
         "http://www.wikidata.org/entity/Q100280127",
         "Bintou Founé Samaké",
         "female",
         "1960-01-01T00:00:00Z",
         "Mali",
         "Africa",
         "True",
         "False",
         "Bintou Founé Samaké",
         "True",
         "middleName|non_ascii",
         null,
         null,
         "ML"
        ],
        [
         "41",
         "http://www.wikidata.org/entity/Q100280563",
         "Traoré Seynabou Diop",
         "female",
         "1963-11-16T00:00:00Z",
         "Mali",
         "Africa",
         "True",
         "False",
         "Traoré Seynabou Diop",
         "True",
         "middleName|non_ascii",
         null,
         null,
         "ML"
        ],
        [
         "42",
         "http://www.wikidata.org/entity/Q100310363",
         "Aïcha Macky",
         "female",
         "1982-01-08T00:00:00Z",
         "Niger",
         "Africa",
         "False",
         "False",
         "Aïcha Macky",
         "True",
         "non_ascii",
         null,
         null,
         "NG"
        ],
        [
         "43",
         "http://www.wikidata.org/entity/Q100313973",
         "Keïta Aïda M'Bo",
         "female",
         "1958-01-01T00:00:00Z",
         "Mali",
         "Africa",
         "True",
         "False",
         "Keïta Aïda M'Bo",
         "True",
         "middleName|apostrophe|non_ascii",
         null,
         null,
         "ML"
        ],
        [
         "44",
         "http://www.wikidata.org/entity/Q100319041",
         "Philippa Ndisi-Herrmann",
         "female",
         "1985-01-01T00:00:00Z",
         "Kenya",
         "Africa",
         "False",
         "False",
         "Philippa Ndisi-Herrmann",
         "True",
         "hyphen",
         null,
         null,
         "KE"
        ],
        [
         "45",
         "http://www.wikidata.org/entity/Q100320633",
         "Ly Taher Dravé",
         "female",
         "1972-06-01T00:00:00Z",
         "Mali",
         "Africa",
         "True",
         "False",
         "Ly Taher Dravé",
         "True",
         "middleName|non_ascii",
         null,
         null,
         "ML"
        ],
        [
         "46",
         "http://www.wikidata.org/entity/Q100324206",
         "Bridget Otoo",
         "female",
         "1983-01-01T00:00:00Z",
         "Ghana",
         "Africa",
         "False",
         "False",
         "Bridget Otoo",
         "False",
         "",
         "Bridget",
         "Otoo",
         "GH"
        ],
        [
         "47",
         "http://www.wikidata.org/entity/Q100326095",
         "Branwen Okpako",
         "female",
         "1969-02-25T00:00:00Z",
         "Nigeria",
         "Africa",
         "False",
         "False",
         "Branwen Okpako",
         "False",
         "",
         "Branwen",
         "Okpako",
         "NG"
        ],
        [
         "48",
         "http://www.wikidata.org/entity/Q100330628",
         "Voahary Rakotovelomanantsoa",
         "female",
         "1982-07-20T00:00:00Z",
         "Madagascar",
         "Africa",
         "False",
         "False",
         "Voahary Rakotovelomanantsoa",
         "False",
         "",
         "Voahary",
         "Rakotovelomanantsoa",
         "MG"
        ],
        [
         "49",
         "http://www.wikidata.org/entity/Q100330737",
         "Joelle Kayembe",
         "female",
         "1983-05-31T00:00:00Z",
         "Democratic Republic of the Congo",
         "Africa",
         "False",
         "False",
         "Joelle Kayembe",
         "False",
         "",
         "Joelle",
         "Kayembe",
         null
        ]
       ],
       "shape": {
        "columns": 14,
        "rows": 4874
       }
      },
      "text/html": [
       "<div>\n",
       "<style scoped>\n",
       "    .dataframe tbody tr th:only-of-type {\n",
       "        vertical-align: middle;\n",
       "    }\n",
       "\n",
       "    .dataframe tbody tr th {\n",
       "        vertical-align: top;\n",
       "    }\n",
       "\n",
       "    .dataframe thead th {\n",
       "        text-align: right;\n",
       "    }\n",
       "</style>\n",
       "<table border=\"1\" class=\"dataframe\">\n",
       "  <thead>\n",
       "    <tr style=\"text-align: right;\">\n",
       "      <th></th>\n",
       "      <th>person</th>\n",
       "      <th>person_label</th>\n",
       "      <th>genders</th>\n",
       "      <th>dobs</th>\n",
       "      <th>countries</th>\n",
       "      <th>continents</th>\n",
       "      <th>hasMiddleName</th>\n",
       "      <th>hasNoLastName</th>\n",
       "      <th>person_label_norm</th>\n",
       "      <th>hasDifficultName</th>\n",
       "      <th>difficult_reason</th>\n",
       "      <th>surName</th>\n",
       "      <th>lastName</th>\n",
       "      <th>iso_country</th>\n",
       "    </tr>\n",
       "  </thead>\n",
       "  <tbody>\n",
       "    <tr>\n",
       "      <th>0</th>\n",
       "      <td>http://www.wikidata.org/entity/Q100065772</td>\n",
       "      <td>Clara Benson</td>\n",
       "      <td>female</td>\n",
       "      <td>2000-08-19T00:00:00Z</td>\n",
       "      <td>Ghana</td>\n",
       "      <td>Africa</td>\n",
       "      <td>False</td>\n",
       "      <td>False</td>\n",
       "      <td>Clara Benson</td>\n",
       "      <td>False</td>\n",
       "      <td></td>\n",
       "      <td>Clara</td>\n",
       "      <td>Benson</td>\n",
       "      <td>GH</td>\n",
       "    </tr>\n",
       "    <tr>\n",
       "      <th>1</th>\n",
       "      <td>http://www.wikidata.org/entity/Q100136959</td>\n",
       "      <td>Esther Ruth Mbabazi</td>\n",
       "      <td>female</td>\n",
       "      <td>1995-01-01T00:00:00Z</td>\n",
       "      <td>Uganda</td>\n",
       "      <td>Africa</td>\n",
       "      <td>True</td>\n",
       "      <td>False</td>\n",
       "      <td>Esther Ruth Mbabazi</td>\n",
       "      <td>True</td>\n",
       "      <td>middleName</td>\n",
       "      <td>NaN</td>\n",
       "      <td>NaN</td>\n",
       "      <td>UG</td>\n",
       "    </tr>\n",
       "    <tr>\n",
       "      <th>2</th>\n",
       "      <td>http://www.wikidata.org/entity/Q100146654</td>\n",
       "      <td>Dalia Ziada</td>\n",
       "      <td>female</td>\n",
       "      <td>1982-01-01T00:00:00Z</td>\n",
       "      <td>Egypt</td>\n",
       "      <td>Africa</td>\n",
       "      <td>False</td>\n",
       "      <td>False</td>\n",
       "      <td>Dalia Ziada</td>\n",
       "      <td>False</td>\n",
       "      <td></td>\n",
       "      <td>Dalia</td>\n",
       "      <td>Ziada</td>\n",
       "      <td>EG</td>\n",
       "    </tr>\n",
       "    <tr>\n",
       "      <th>3</th>\n",
       "      <td>http://www.wikidata.org/entity/Q100152601</td>\n",
       "      <td>Fatou Haidara</td>\n",
       "      <td>female</td>\n",
       "      <td>1962-01-01T00:00:00Z</td>\n",
       "      <td>Mali</td>\n",
       "      <td>Africa</td>\n",
       "      <td>False</td>\n",
       "      <td>False</td>\n",
       "      <td>Fatou Haidara</td>\n",
       "      <td>False</td>\n",
       "      <td></td>\n",
       "      <td>Fatou</td>\n",
       "      <td>Haidara</td>\n",
       "      <td>ML</td>\n",
       "    </tr>\n",
       "    <tr>\n",
       "      <th>4</th>\n",
       "      <td>http://www.wikidata.org/entity/Q100165910</td>\n",
       "      <td>Claude Haffner</td>\n",
       "      <td>female</td>\n",
       "      <td>1976-01-01T00:00:00Z</td>\n",
       "      <td>Democratic Republic of the Congo</td>\n",
       "      <td>Africa</td>\n",
       "      <td>False</td>\n",
       "      <td>False</td>\n",
       "      <td>Claude Haffner</td>\n",
       "      <td>False</td>\n",
       "      <td></td>\n",
       "      <td>Claude</td>\n",
       "      <td>Haffner</td>\n",
       "      <td>None</td>\n",
       "    </tr>\n",
       "    <tr>\n",
       "      <th>...</th>\n",
       "      <td>...</td>\n",
       "      <td>...</td>\n",
       "      <td>...</td>\n",
       "      <td>...</td>\n",
       "      <td>...</td>\n",
       "      <td>...</td>\n",
       "      <td>...</td>\n",
       "      <td>...</td>\n",
       "      <td>...</td>\n",
       "      <td>...</td>\n",
       "      <td>...</td>\n",
       "      <td>...</td>\n",
       "      <td>...</td>\n",
       "      <td>...</td>\n",
       "    </tr>\n",
       "    <tr>\n",
       "      <th>4869</th>\n",
       "      <td>http://www.wikidata.org/entity/Q102012734</td>\n",
       "      <td>Iranildo Conceição Espíndola</td>\n",
       "      <td>male</td>\n",
       "      <td>1969-01-24T00:00:00Z</td>\n",
       "      <td>Brazil</td>\n",
       "      <td>South America</td>\n",
       "      <td>True</td>\n",
       "      <td>False</td>\n",
       "      <td>Iranildo Conceição Espíndola</td>\n",
       "      <td>True</td>\n",
       "      <td>middleName|non_ascii</td>\n",
       "      <td>NaN</td>\n",
       "      <td>NaN</td>\n",
       "      <td>BR</td>\n",
       "    </tr>\n",
       "    <tr>\n",
       "      <th>4870</th>\n",
       "      <td>http://www.wikidata.org/entity/Q102035839</td>\n",
       "      <td>Wrays Pérez</td>\n",
       "      <td>male</td>\n",
       "      <td>1961-04-18T00:00:00Z</td>\n",
       "      <td>Peru</td>\n",
       "      <td>South America</td>\n",
       "      <td>False</td>\n",
       "      <td>False</td>\n",
       "      <td>Wrays Pérez</td>\n",
       "      <td>True</td>\n",
       "      <td>non_ascii</td>\n",
       "      <td>NaN</td>\n",
       "      <td>NaN</td>\n",
       "      <td>PE</td>\n",
       "    </tr>\n",
       "    <tr>\n",
       "      <th>4871</th>\n",
       "      <td>http://www.wikidata.org/entity/Q102035885</td>\n",
       "      <td>João Luís Barbosa</td>\n",
       "      <td>male</td>\n",
       "      <td>1962-05-20T00:00:00Z</td>\n",
       "      <td>Brazil</td>\n",
       "      <td>South America</td>\n",
       "      <td>True</td>\n",
       "      <td>False</td>\n",
       "      <td>João Luís Barbosa</td>\n",
       "      <td>True</td>\n",
       "      <td>middleName|non_ascii</td>\n",
       "      <td>NaN</td>\n",
       "      <td>NaN</td>\n",
       "      <td>BR</td>\n",
       "    </tr>\n",
       "    <tr>\n",
       "      <th>4872</th>\n",
       "      <td>http://www.wikidata.org/entity/Q102035903</td>\n",
       "      <td>Jorginho</td>\n",
       "      <td>male</td>\n",
       "      <td>1962-05-19T00:00:00Z</td>\n",
       "      <td>Brazil</td>\n",
       "      <td>South America</td>\n",
       "      <td>False</td>\n",
       "      <td>True</td>\n",
       "      <td>Jorginho</td>\n",
       "      <td>True</td>\n",
       "      <td>noLastName</td>\n",
       "      <td>NaN</td>\n",
       "      <td>NaN</td>\n",
       "      <td>BR</td>\n",
       "    </tr>\n",
       "    <tr>\n",
       "      <th>4873</th>\n",
       "      <td>http://www.wikidata.org/entity/Q102036354</td>\n",
       "      <td>Inti Sotelo</td>\n",
       "      <td>male</td>\n",
       "      <td>1996-02-02T00:00:00Z</td>\n",
       "      <td>Peru</td>\n",
       "      <td>South America</td>\n",
       "      <td>False</td>\n",
       "      <td>False</td>\n",
       "      <td>Inti Sotelo</td>\n",
       "      <td>False</td>\n",
       "      <td></td>\n",
       "      <td>Inti</td>\n",
       "      <td>Sotelo</td>\n",
       "      <td>PE</td>\n",
       "    </tr>\n",
       "  </tbody>\n",
       "</table>\n",
       "<p>4874 rows × 14 columns</p>\n",
       "</div>"
      ],
      "text/plain": [
       "                                         person                  person_label  \\\n",
       "0     http://www.wikidata.org/entity/Q100065772                  Clara Benson   \n",
       "1     http://www.wikidata.org/entity/Q100136959           Esther Ruth Mbabazi   \n",
       "2     http://www.wikidata.org/entity/Q100146654                   Dalia Ziada   \n",
       "3     http://www.wikidata.org/entity/Q100152601                 Fatou Haidara   \n",
       "4     http://www.wikidata.org/entity/Q100165910                Claude Haffner   \n",
       "...                                         ...                           ...   \n",
       "4869  http://www.wikidata.org/entity/Q102012734  Iranildo Conceição Espíndola   \n",
       "4870  http://www.wikidata.org/entity/Q102035839                   Wrays Pérez   \n",
       "4871  http://www.wikidata.org/entity/Q102035885             João Luís Barbosa   \n",
       "4872  http://www.wikidata.org/entity/Q102035903                      Jorginho   \n",
       "4873  http://www.wikidata.org/entity/Q102036354                   Inti Sotelo   \n",
       "\n",
       "     genders                  dobs                         countries  \\\n",
       "0     female  2000-08-19T00:00:00Z                             Ghana   \n",
       "1     female  1995-01-01T00:00:00Z                            Uganda   \n",
       "2     female  1982-01-01T00:00:00Z                             Egypt   \n",
       "3     female  1962-01-01T00:00:00Z                              Mali   \n",
       "4     female  1976-01-01T00:00:00Z  Democratic Republic of the Congo   \n",
       "...      ...                   ...                               ...   \n",
       "4869    male  1969-01-24T00:00:00Z                            Brazil   \n",
       "4870    male  1961-04-18T00:00:00Z                              Peru   \n",
       "4871    male  1962-05-20T00:00:00Z                            Brazil   \n",
       "4872    male  1962-05-19T00:00:00Z                            Brazil   \n",
       "4873    male  1996-02-02T00:00:00Z                              Peru   \n",
       "\n",
       "         continents  hasMiddleName  hasNoLastName  \\\n",
       "0            Africa          False          False   \n",
       "1            Africa           True          False   \n",
       "2            Africa          False          False   \n",
       "3            Africa          False          False   \n",
       "4            Africa          False          False   \n",
       "...             ...            ...            ...   \n",
       "4869  South America           True          False   \n",
       "4870  South America          False          False   \n",
       "4871  South America           True          False   \n",
       "4872  South America          False           True   \n",
       "4873  South America          False          False   \n",
       "\n",
       "                 person_label_norm  hasDifficultName      difficult_reason  \\\n",
       "0                     Clara Benson             False                         \n",
       "1              Esther Ruth Mbabazi              True            middleName   \n",
       "2                      Dalia Ziada             False                         \n",
       "3                    Fatou Haidara             False                         \n",
       "4                   Claude Haffner             False                         \n",
       "...                            ...               ...                   ...   \n",
       "4869  Iranildo Conceição Espíndola              True  middleName|non_ascii   \n",
       "4870                   Wrays Pérez              True             non_ascii   \n",
       "4871             João Luís Barbosa              True  middleName|non_ascii   \n",
       "4872                      Jorginho              True            noLastName   \n",
       "4873                   Inti Sotelo             False                         \n",
       "\n",
       "     surName lastName iso_country  \n",
       "0      Clara   Benson          GH  \n",
       "1        NaN      NaN          UG  \n",
       "2      Dalia    Ziada          EG  \n",
       "3      Fatou  Haidara          ML  \n",
       "4     Claude  Haffner        None  \n",
       "...      ...      ...         ...  \n",
       "4869     NaN      NaN          BR  \n",
       "4870     NaN      NaN          PE  \n",
       "4871     NaN      NaN          BR  \n",
       "4872     NaN      NaN          BR  \n",
       "4873    Inti   Sotelo          PE  \n",
       "\n",
       "[4874 rows x 14 columns]"
      ]
     },
     "execution_count": 14,
     "metadata": {},
     "output_type": "execute_result"
    }
   ],
   "source": [
    "clean_df.reset_index(drop=True)"
   ]
  },
  {
   "cell_type": "code",
   "execution_count": 15,
   "id": "16e81789",
   "metadata": {},
   "outputs": [],
   "source": [
    "# Rearranging columns\n",
    "clean_df = clean_df[['person', \n",
    "                     'person_label', \n",
    "                     'surName', \n",
    "                     'lastName', \n",
    "                     'genders', \n",
    "                     'dobs', \n",
    "                     'countries', \n",
    "                     'iso_country', \n",
    "                     'continents',\n",
    "                     'hasMiddleName', \n",
    "                     'hasNoLastName', \n",
    "                     'hasDifficultName']]"
   ]
  },
  {
   "cell_type": "code",
   "execution_count": 16,
   "id": "a72cd2fc",
   "metadata": {},
   "outputs": [
    {
     "data": {
      "application/vnd.microsoft.datawrangler.viewer.v0+json": {
       "columns": [
        {
         "name": "index",
         "rawType": "int64",
         "type": "integer"
        },
        {
         "name": "person",
         "rawType": "object",
         "type": "string"
        },
        {
         "name": "person_label",
         "rawType": "object",
         "type": "string"
        },
        {
         "name": "surName",
         "rawType": "object",
         "type": "unknown"
        },
        {
         "name": "lastName",
         "rawType": "object",
         "type": "unknown"
        },
        {
         "name": "genders",
         "rawType": "object",
         "type": "string"
        },
        {
         "name": "dobs",
         "rawType": "object",
         "type": "string"
        },
        {
         "name": "countries",
         "rawType": "object",
         "type": "string"
        },
        {
         "name": "iso_country",
         "rawType": "object",
         "type": "unknown"
        },
        {
         "name": "continents",
         "rawType": "object",
         "type": "string"
        },
        {
         "name": "hasMiddleName",
         "rawType": "bool",
         "type": "boolean"
        },
        {
         "name": "hasNoLastName",
         "rawType": "bool",
         "type": "boolean"
        },
        {
         "name": "hasDifficultName",
         "rawType": "bool",
         "type": "boolean"
        }
       ],
       "ref": "ba8f759e-fdc3-4812-b154-f0129b7df900",
       "rows": [
        [
         "0",
         "http://www.wikidata.org/entity/Q100065772",
         "Clara Benson",
         "Clara",
         "Benson",
         "female",
         "2000-08-19T00:00:00Z",
         "Ghana",
         "GH",
         "Africa",
         "False",
         "False",
         "False"
        ],
        [
         "1",
         "http://www.wikidata.org/entity/Q100136959",
         "Esther Ruth Mbabazi",
         null,
         null,
         "female",
         "1995-01-01T00:00:00Z",
         "Uganda",
         "UG",
         "Africa",
         "True",
         "False",
         "True"
        ],
        [
         "2",
         "http://www.wikidata.org/entity/Q100146654",
         "Dalia Ziada",
         "Dalia",
         "Ziada",
         "female",
         "1982-01-01T00:00:00Z",
         "Egypt",
         "EG",
         "Africa",
         "False",
         "False",
         "False"
        ],
        [
         "3",
         "http://www.wikidata.org/entity/Q100152601",
         "Fatou Haidara",
         "Fatou",
         "Haidara",
         "female",
         "1962-01-01T00:00:00Z",
         "Mali",
         "ML",
         "Africa",
         "False",
         "False",
         "False"
        ],
        [
         "4",
         "http://www.wikidata.org/entity/Q100165910",
         "Claude Haffner",
         "Claude",
         "Haffner",
         "female",
         "1976-01-01T00:00:00Z",
         "Democratic Republic of the Congo",
         null,
         "Africa",
         "False",
         "False",
         "False"
        ]
       ],
       "shape": {
        "columns": 12,
        "rows": 5
       }
      },
      "text/html": [
       "<div>\n",
       "<style scoped>\n",
       "    .dataframe tbody tr th:only-of-type {\n",
       "        vertical-align: middle;\n",
       "    }\n",
       "\n",
       "    .dataframe tbody tr th {\n",
       "        vertical-align: top;\n",
       "    }\n",
       "\n",
       "    .dataframe thead th {\n",
       "        text-align: right;\n",
       "    }\n",
       "</style>\n",
       "<table border=\"1\" class=\"dataframe\">\n",
       "  <thead>\n",
       "    <tr style=\"text-align: right;\">\n",
       "      <th></th>\n",
       "      <th>person</th>\n",
       "      <th>person_label</th>\n",
       "      <th>surName</th>\n",
       "      <th>lastName</th>\n",
       "      <th>genders</th>\n",
       "      <th>dobs</th>\n",
       "      <th>countries</th>\n",
       "      <th>iso_country</th>\n",
       "      <th>continents</th>\n",
       "      <th>hasMiddleName</th>\n",
       "      <th>hasNoLastName</th>\n",
       "      <th>hasDifficultName</th>\n",
       "    </tr>\n",
       "  </thead>\n",
       "  <tbody>\n",
       "    <tr>\n",
       "      <th>0</th>\n",
       "      <td>http://www.wikidata.org/entity/Q100065772</td>\n",
       "      <td>Clara Benson</td>\n",
       "      <td>Clara</td>\n",
       "      <td>Benson</td>\n",
       "      <td>female</td>\n",
       "      <td>2000-08-19T00:00:00Z</td>\n",
       "      <td>Ghana</td>\n",
       "      <td>GH</td>\n",
       "      <td>Africa</td>\n",
       "      <td>False</td>\n",
       "      <td>False</td>\n",
       "      <td>False</td>\n",
       "    </tr>\n",
       "    <tr>\n",
       "      <th>1</th>\n",
       "      <td>http://www.wikidata.org/entity/Q100136959</td>\n",
       "      <td>Esther Ruth Mbabazi</td>\n",
       "      <td>NaN</td>\n",
       "      <td>NaN</td>\n",
       "      <td>female</td>\n",
       "      <td>1995-01-01T00:00:00Z</td>\n",
       "      <td>Uganda</td>\n",
       "      <td>UG</td>\n",
       "      <td>Africa</td>\n",
       "      <td>True</td>\n",
       "      <td>False</td>\n",
       "      <td>True</td>\n",
       "    </tr>\n",
       "    <tr>\n",
       "      <th>2</th>\n",
       "      <td>http://www.wikidata.org/entity/Q100146654</td>\n",
       "      <td>Dalia Ziada</td>\n",
       "      <td>Dalia</td>\n",
       "      <td>Ziada</td>\n",
       "      <td>female</td>\n",
       "      <td>1982-01-01T00:00:00Z</td>\n",
       "      <td>Egypt</td>\n",
       "      <td>EG</td>\n",
       "      <td>Africa</td>\n",
       "      <td>False</td>\n",
       "      <td>False</td>\n",
       "      <td>False</td>\n",
       "    </tr>\n",
       "    <tr>\n",
       "      <th>3</th>\n",
       "      <td>http://www.wikidata.org/entity/Q100152601</td>\n",
       "      <td>Fatou Haidara</td>\n",
       "      <td>Fatou</td>\n",
       "      <td>Haidara</td>\n",
       "      <td>female</td>\n",
       "      <td>1962-01-01T00:00:00Z</td>\n",
       "      <td>Mali</td>\n",
       "      <td>ML</td>\n",
       "      <td>Africa</td>\n",
       "      <td>False</td>\n",
       "      <td>False</td>\n",
       "      <td>False</td>\n",
       "    </tr>\n",
       "    <tr>\n",
       "      <th>4</th>\n",
       "      <td>http://www.wikidata.org/entity/Q100165910</td>\n",
       "      <td>Claude Haffner</td>\n",
       "      <td>Claude</td>\n",
       "      <td>Haffner</td>\n",
       "      <td>female</td>\n",
       "      <td>1976-01-01T00:00:00Z</td>\n",
       "      <td>Democratic Republic of the Congo</td>\n",
       "      <td>None</td>\n",
       "      <td>Africa</td>\n",
       "      <td>False</td>\n",
       "      <td>False</td>\n",
       "      <td>False</td>\n",
       "    </tr>\n",
       "  </tbody>\n",
       "</table>\n",
       "</div>"
      ],
      "text/plain": [
       "                                      person         person_label surName  \\\n",
       "0  http://www.wikidata.org/entity/Q100065772         Clara Benson   Clara   \n",
       "1  http://www.wikidata.org/entity/Q100136959  Esther Ruth Mbabazi     NaN   \n",
       "2  http://www.wikidata.org/entity/Q100146654          Dalia Ziada   Dalia   \n",
       "3  http://www.wikidata.org/entity/Q100152601        Fatou Haidara   Fatou   \n",
       "4  http://www.wikidata.org/entity/Q100165910       Claude Haffner  Claude   \n",
       "\n",
       "  lastName genders                  dobs                         countries  \\\n",
       "0   Benson  female  2000-08-19T00:00:00Z                             Ghana   \n",
       "1      NaN  female  1995-01-01T00:00:00Z                            Uganda   \n",
       "2    Ziada  female  1982-01-01T00:00:00Z                             Egypt   \n",
       "3  Haidara  female  1962-01-01T00:00:00Z                              Mali   \n",
       "4  Haffner  female  1976-01-01T00:00:00Z  Democratic Republic of the Congo   \n",
       "\n",
       "  iso_country continents  hasMiddleName  hasNoLastName  hasDifficultName  \n",
       "0          GH     Africa          False          False             False  \n",
       "1          UG     Africa           True          False              True  \n",
       "2          EG     Africa          False          False             False  \n",
       "3          ML     Africa          False          False             False  \n",
       "4        None     Africa          False          False             False  "
      ]
     },
     "execution_count": 16,
     "metadata": {},
     "output_type": "execute_result"
    }
   ],
   "source": [
    "clean_df.head()"
   ]
  },
  {
   "cell_type": "markdown",
   "id": "c95c6c3a",
   "metadata": {},
   "source": [
    "# Recording preprocessed dataset"
   ]
  },
  {
   "cell_type": "code",
   "execution_count": 17,
   "id": "4ffeeef0",
   "metadata": {},
   "outputs": [],
   "source": [
    "clean_df.to_csv(\"../../data/Wikidata5k.csv\", index=False)"
   ]
  },
  {
   "cell_type": "code",
   "execution_count": 18,
   "id": "b9fc96c8",
   "metadata": {},
   "outputs": [],
   "source": [
    "wikidata5k = pd.read_csv('../../data/Wikidata5k.csv')"
   ]
  },
  {
   "cell_type": "code",
   "execution_count": 19,
   "id": "4d370e9a",
   "metadata": {},
   "outputs": [
    {
     "data": {
      "text/plain": [
       "(4874, 12)"
      ]
     },
     "execution_count": 19,
     "metadata": {},
     "output_type": "execute_result"
    }
   ],
   "source": [
    "wikidata5k.shape"
   ]
  }
 ],
 "metadata": {
  "kernelspec": {
   "display_name": "name2gender",
   "language": "python",
   "name": "python3"
  },
  "language_info": {
   "codemirror_mode": {
    "name": "ipython",
    "version": 3
   },
   "file_extension": ".py",
   "mimetype": "text/x-python",
   "name": "python",
   "nbconvert_exporter": "python",
   "pygments_lexer": "ipython3",
   "version": "3.12.4"
  }
 },
 "nbformat": 4,
 "nbformat_minor": 5
}
