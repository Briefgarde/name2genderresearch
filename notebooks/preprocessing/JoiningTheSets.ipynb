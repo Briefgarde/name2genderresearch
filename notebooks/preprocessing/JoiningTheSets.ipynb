{
 "cells": [
  {
   "cell_type": "markdown",
   "id": "8ec50d22",
   "metadata": {},
   "source": [
    "The goal of this notebook is to produce one single dataset that joins all smaller datasets into one. This way, work on the quality of the service can be made without having to do multiple service handlers for each datasets, simplifying the process. "
   ]
  },
  {
   "cell_type": "code",
   "execution_count": 61,
   "id": "c59b14af",
   "metadata": {},
   "outputs": [],
   "source": [
    "import pandas as pd\n",
    "import numpy as np\n",
    "import matplotlib.pyplot as plt"
   ]
  },
  {
   "cell_type": "markdown",
   "id": "b5858be3",
   "metadata": {},
   "source": [
    "# Fetching the datasets"
   ]
  },
  {
   "cell_type": "code",
   "execution_count": 2,
   "id": "97fcee9d",
   "metadata": {},
   "outputs": [],
   "source": [
    "wikidata_df = pd.read_csv(\"../../data/Wikidata5k.csv\")\n",
    "kaggleOlympic_df = pd.read_csv(\"../../data/KaggleOlympic2024.csv\")"
   ]
  },
  {
   "cell_type": "markdown",
   "id": "782cf315",
   "metadata": {},
   "source": [
    "# Noting the source"
   ]
  },
  {
   "cell_type": "code",
   "execution_count": 3,
   "id": "0eedbbdc",
   "metadata": {},
   "outputs": [],
   "source": [
    "wikidata_df['source'] = 'wikidata'\n",
    "kaggleOlympic_df['source'] = 'kaggleOlympic'\n"
   ]
  },
  {
   "cell_type": "code",
   "execution_count": 4,
   "id": "d7b822b0",
   "metadata": {},
   "outputs": [
    {
     "name": "stdout",
     "output_type": "stream",
     "text": [
      "Index(['person', 'person_label', 'genders', 'dobs', 'countries', 'continents',\n",
      "       'hasMiddleName', 'hasNoLastName', 'person_label_norm',\n",
      "       'hasDifficultName', 'difficult_reason', 'surName', 'lastName',\n",
      "       'iso_country', 'source'],\n",
      "      dtype='object')\n"
     ]
    }
   ],
   "source": [
    "print(wikidata_df.columns)"
   ]
  },
  {
   "cell_type": "code",
   "execution_count": 5,
   "id": "697fb924",
   "metadata": {},
   "outputs": [
    {
     "name": "stdout",
     "output_type": "stream",
     "text": [
      "Index(['name', 'name_short', 'name_tv', 'gender', 'function', 'country_code',\n",
      "       'country', 'country_long', 'nationality', 'nationality_long',\n",
      "       'nationality_code', 'birth_date', 'birth_place', 'birth_country',\n",
      "       'residence_place', 'residence_country', 'lang', 'iso_country',\n",
      "       'continents', 'hasMiddleName', 'hasNoLastName', 'person_label_norm',\n",
      "       'hasDifficultName', 'difficult_reason', 'lastName', 'surName',\n",
      "       'source'],\n",
      "      dtype='object')\n"
     ]
    }
   ],
   "source": [
    "print(kaggleOlympic_df.columns)"
   ]
  },
  {
   "cell_type": "markdown",
   "id": "3e618058",
   "metadata": {},
   "source": [
    "From this, we can see that the following columns links accordingly : \n",
    "\n",
    "| Wikidata      | KaggleOlympic |\n",
    "|---------------|---------------|\n",
    "| person_label  | name          |\n",
    "| surName       | surName       |\n",
    "| lastName      | lastName      |\n",
    "| genders       | gender        |\n",
    "| iso_country   | iso_country   |\n",
    "| continents    | continents    |\n",
    "| hasMiddleName | hasMiddleName |\n",
    "| hasNoLastName | hasNoLastName |\n",
    "| dobs          | birth_date    |"
   ]
  },
  {
   "cell_type": "markdown",
   "id": "7d36b0c4",
   "metadata": {},
   "source": [
    "# Curating the genders"
   ]
  },
  {
   "cell_type": "code",
   "execution_count": 6,
   "id": "cc8b5be4",
   "metadata": {},
   "outputs": [
    {
     "name": "stdout",
     "output_type": "stream",
     "text": [
      "['Male' 'Female']\n",
      "['female' 'male']\n"
     ]
    }
   ],
   "source": [
    "print(kaggleOlympic_df['gender'].unique())\n",
    "print(wikidata_df['genders'].unique())"
   ]
  },
  {
   "cell_type": "code",
   "execution_count": 7,
   "id": "edba0e1f",
   "metadata": {},
   "outputs": [
    {
     "name": "stdout",
     "output_type": "stream",
     "text": [
      "['male' 'female']\n"
     ]
    }
   ],
   "source": [
    "gender_map = {\n",
    "    'Male':'male',\n",
    "    'Female':'female'\n",
    "}\n",
    "kaggleOlympic_df[\"gender\"] = kaggleOlympic_df[\"gender\"].map(gender_map)\n",
    "print(kaggleOlympic_df['gender'].unique())"
   ]
  },
  {
   "cell_type": "markdown",
   "id": "880edfeb",
   "metadata": {},
   "source": [
    "# Cleaning up the years and date of birth"
   ]
  },
  {
   "cell_type": "code",
   "execution_count": 8,
   "id": "cadcc9f5",
   "metadata": {},
   "outputs": [
    {
     "name": "stderr",
     "output_type": "stream",
     "text": [
      "C:\\Users\\brief\\AppData\\Local\\Temp\\ipykernel_28400\\469579770.py:4: UserWarning: Parsing dates in %d/%m/%Y format when dayfirst=False (the default) was specified. Pass `dayfirst=True` or specify a format to silence this warning.\n",
      "  kaggleOlympic_df[\"birth_date\"] = pd.to_datetime(kaggleOlympic_df[\"birth_date\"], errors=\"coerce\")\n"
     ]
    }
   ],
   "source": [
    "wikidata_df[\"dobs\"] = pd.to_datetime(wikidata_df[\"dobs\"], errors=\"coerce\")\n",
    "wikidata_df[\"birth_year\"] = wikidata_df[\"dobs\"].dt.year\n",
    "\n",
    "kaggleOlympic_df[\"birth_date\"] = pd.to_datetime(kaggleOlympic_df[\"birth_date\"], errors=\"coerce\")\n",
    "kaggleOlympic_df[\"birth_year\"] = kaggleOlympic_df[\"birth_date\"].dt.year"
   ]
  },
  {
   "cell_type": "code",
   "execution_count": 9,
   "id": "1a670244",
   "metadata": {},
   "outputs": [
    {
     "data": {
      "application/vnd.microsoft.datawrangler.viewer.v0+json": {
       "columns": [
        {
         "name": "index",
         "rawType": "int64",
         "type": "integer"
        },
        {
         "name": "name",
         "rawType": "object",
         "type": "string"
        },
        {
         "name": "name_short",
         "rawType": "object",
         "type": "string"
        },
        {
         "name": "name_tv",
         "rawType": "object",
         "type": "string"
        },
        {
         "name": "gender",
         "rawType": "object",
         "type": "string"
        },
        {
         "name": "function",
         "rawType": "object",
         "type": "string"
        },
        {
         "name": "country_code",
         "rawType": "object",
         "type": "string"
        },
        {
         "name": "country",
         "rawType": "object",
         "type": "string"
        },
        {
         "name": "country_long",
         "rawType": "object",
         "type": "string"
        },
        {
         "name": "nationality",
         "rawType": "object",
         "type": "string"
        },
        {
         "name": "nationality_long",
         "rawType": "object",
         "type": "string"
        },
        {
         "name": "nationality_code",
         "rawType": "object",
         "type": "string"
        },
        {
         "name": "birth_date",
         "rawType": "datetime64[ns]",
         "type": "datetime"
        },
        {
         "name": "birth_place",
         "rawType": "object",
         "type": "unknown"
        },
        {
         "name": "birth_country",
         "rawType": "object",
         "type": "unknown"
        },
        {
         "name": "residence_place",
         "rawType": "object",
         "type": "unknown"
        },
        {
         "name": "residence_country",
         "rawType": "object",
         "type": "string"
        },
        {
         "name": "lang",
         "rawType": "object",
         "type": "string"
        },
        {
         "name": "iso_country",
         "rawType": "object",
         "type": "string"
        },
        {
         "name": "continents",
         "rawType": "object",
         "type": "string"
        },
        {
         "name": "hasMiddleName",
         "rawType": "bool",
         "type": "boolean"
        },
        {
         "name": "hasNoLastName",
         "rawType": "bool",
         "type": "boolean"
        },
        {
         "name": "person_label_norm",
         "rawType": "object",
         "type": "string"
        },
        {
         "name": "hasDifficultName",
         "rawType": "bool",
         "type": "boolean"
        },
        {
         "name": "difficult_reason",
         "rawType": "object",
         "type": "unknown"
        },
        {
         "name": "lastName",
         "rawType": "object",
         "type": "string"
        },
        {
         "name": "surName",
         "rawType": "object",
         "type": "string"
        },
        {
         "name": "source",
         "rawType": "object",
         "type": "string"
        },
        {
         "name": "birth_year",
         "rawType": "int32",
         "type": "integer"
        }
       ],
       "ref": "433c99a4-aa5d-47e2-a263-6f0fd8403fff",
       "rows": [
        [
         "0",
         "ALEKSANYAN Artur",
         "ALEKSANYAN A",
         "Artur ALEKSANYAN",
         "male",
         "Athlete",
         "ARM",
         "Armenia",
         "Armenia",
         "Armenia",
         "Armenia",
         "ARM",
         "1991-10-21 00:00:00",
         "GYUMRI",
         "Armenia",
         "GYUMRI",
         "Armenia",
         "Armenian, English, Russian",
         "AM",
         "Europe",
         "False",
         "False",
         "ALEKSANYAN Artur",
         "False",
         null,
         "ALEKSANYAN",
         "Artur",
         "kaggleOlympic",
         "1991"
        ],
        [
         "1",
         "AMOYAN Malkhas",
         "AMOYAN M",
         "Malkhas AMOYAN",
         "male",
         "Athlete",
         "ARM",
         "Armenia",
         "Armenia",
         "Armenia",
         "Armenia",
         "ARM",
         "1999-01-22 00:00:00",
         "YEREVAN",
         "Armenia",
         "YEREVAN",
         "Armenia",
         "Armenian",
         "AM",
         "Europe",
         "False",
         "False",
         "AMOYAN Malkhas",
         "False",
         null,
         "AMOYAN",
         "Malkhas",
         "kaggleOlympic",
         "1999"
        ],
        [
         "2",
         "GALSTYAN Slavik",
         "GALSTYAN S",
         "Slavik GALSTYAN",
         "male",
         "Athlete",
         "ARM",
         "Armenia",
         "Armenia",
         "Armenia",
         "Armenia",
         "ARM",
         "1996-12-21 00:00:00",
         null,
         null,
         "YEREVAN",
         "Armenia",
         "Armenian",
         "AM",
         "Europe",
         "False",
         "False",
         "GALSTYAN Slavik",
         "False",
         null,
         "GALSTYAN",
         "Slavik",
         "kaggleOlympic",
         "1996"
        ],
        [
         "3",
         "HARUTYUNYAN Arsen",
         "HARUTYUNYAN A",
         "Arsen HARUTYUNYAN",
         "male",
         "Athlete",
         "ARM",
         "Armenia",
         "Armenia",
         "Armenia",
         "Armenia",
         "ARM",
         "1999-11-22 00:00:00",
         "MASIS",
         "Armenia",
         "YEREVAN",
         "Armenia",
         "Armenian",
         "AM",
         "Europe",
         "False",
         "False",
         "HARUTYUNYAN Arsen",
         "False",
         null,
         "HARUTYUNYAN",
         "Arsen",
         "kaggleOlympic",
         "1999"
        ],
        [
         "4",
         "TEVANYAN Vazgen",
         "TEVANYAN V",
         "Vazgen TEVANYAN",
         "male",
         "Athlete",
         "ARM",
         "Armenia",
         "Armenia",
         "Armenia",
         "Armenia",
         "ARM",
         "1999-10-27 00:00:00",
         "POKR VEDI",
         "Armenia",
         null,
         "Armenia",
         "Armenian, Russian",
         "AM",
         "Europe",
         "False",
         "False",
         "TEVANYAN Vazgen",
         "False",
         null,
         "TEVANYAN",
         "Vazgen",
         "kaggleOlympic",
         "1999"
        ]
       ],
       "shape": {
        "columns": 28,
        "rows": 5
       }
      },
      "text/html": [
       "<div>\n",
       "<style scoped>\n",
       "    .dataframe tbody tr th:only-of-type {\n",
       "        vertical-align: middle;\n",
       "    }\n",
       "\n",
       "    .dataframe tbody tr th {\n",
       "        vertical-align: top;\n",
       "    }\n",
       "\n",
       "    .dataframe thead th {\n",
       "        text-align: right;\n",
       "    }\n",
       "</style>\n",
       "<table border=\"1\" class=\"dataframe\">\n",
       "  <thead>\n",
       "    <tr style=\"text-align: right;\">\n",
       "      <th></th>\n",
       "      <th>name</th>\n",
       "      <th>name_short</th>\n",
       "      <th>name_tv</th>\n",
       "      <th>gender</th>\n",
       "      <th>function</th>\n",
       "      <th>country_code</th>\n",
       "      <th>country</th>\n",
       "      <th>country_long</th>\n",
       "      <th>nationality</th>\n",
       "      <th>nationality_long</th>\n",
       "      <th>...</th>\n",
       "      <th>continents</th>\n",
       "      <th>hasMiddleName</th>\n",
       "      <th>hasNoLastName</th>\n",
       "      <th>person_label_norm</th>\n",
       "      <th>hasDifficultName</th>\n",
       "      <th>difficult_reason</th>\n",
       "      <th>lastName</th>\n",
       "      <th>surName</th>\n",
       "      <th>source</th>\n",
       "      <th>birth_year</th>\n",
       "    </tr>\n",
       "  </thead>\n",
       "  <tbody>\n",
       "    <tr>\n",
       "      <th>0</th>\n",
       "      <td>ALEKSANYAN Artur</td>\n",
       "      <td>ALEKSANYAN A</td>\n",
       "      <td>Artur ALEKSANYAN</td>\n",
       "      <td>male</td>\n",
       "      <td>Athlete</td>\n",
       "      <td>ARM</td>\n",
       "      <td>Armenia</td>\n",
       "      <td>Armenia</td>\n",
       "      <td>Armenia</td>\n",
       "      <td>Armenia</td>\n",
       "      <td>...</td>\n",
       "      <td>Europe</td>\n",
       "      <td>False</td>\n",
       "      <td>False</td>\n",
       "      <td>ALEKSANYAN Artur</td>\n",
       "      <td>False</td>\n",
       "      <td>NaN</td>\n",
       "      <td>ALEKSANYAN</td>\n",
       "      <td>Artur</td>\n",
       "      <td>kaggleOlympic</td>\n",
       "      <td>1991</td>\n",
       "    </tr>\n",
       "    <tr>\n",
       "      <th>1</th>\n",
       "      <td>AMOYAN Malkhas</td>\n",
       "      <td>AMOYAN M</td>\n",
       "      <td>Malkhas AMOYAN</td>\n",
       "      <td>male</td>\n",
       "      <td>Athlete</td>\n",
       "      <td>ARM</td>\n",
       "      <td>Armenia</td>\n",
       "      <td>Armenia</td>\n",
       "      <td>Armenia</td>\n",
       "      <td>Armenia</td>\n",
       "      <td>...</td>\n",
       "      <td>Europe</td>\n",
       "      <td>False</td>\n",
       "      <td>False</td>\n",
       "      <td>AMOYAN Malkhas</td>\n",
       "      <td>False</td>\n",
       "      <td>NaN</td>\n",
       "      <td>AMOYAN</td>\n",
       "      <td>Malkhas</td>\n",
       "      <td>kaggleOlympic</td>\n",
       "      <td>1999</td>\n",
       "    </tr>\n",
       "    <tr>\n",
       "      <th>2</th>\n",
       "      <td>GALSTYAN Slavik</td>\n",
       "      <td>GALSTYAN S</td>\n",
       "      <td>Slavik GALSTYAN</td>\n",
       "      <td>male</td>\n",
       "      <td>Athlete</td>\n",
       "      <td>ARM</td>\n",
       "      <td>Armenia</td>\n",
       "      <td>Armenia</td>\n",
       "      <td>Armenia</td>\n",
       "      <td>Armenia</td>\n",
       "      <td>...</td>\n",
       "      <td>Europe</td>\n",
       "      <td>False</td>\n",
       "      <td>False</td>\n",
       "      <td>GALSTYAN Slavik</td>\n",
       "      <td>False</td>\n",
       "      <td>NaN</td>\n",
       "      <td>GALSTYAN</td>\n",
       "      <td>Slavik</td>\n",
       "      <td>kaggleOlympic</td>\n",
       "      <td>1996</td>\n",
       "    </tr>\n",
       "    <tr>\n",
       "      <th>3</th>\n",
       "      <td>HARUTYUNYAN Arsen</td>\n",
       "      <td>HARUTYUNYAN A</td>\n",
       "      <td>Arsen HARUTYUNYAN</td>\n",
       "      <td>male</td>\n",
       "      <td>Athlete</td>\n",
       "      <td>ARM</td>\n",
       "      <td>Armenia</td>\n",
       "      <td>Armenia</td>\n",
       "      <td>Armenia</td>\n",
       "      <td>Armenia</td>\n",
       "      <td>...</td>\n",
       "      <td>Europe</td>\n",
       "      <td>False</td>\n",
       "      <td>False</td>\n",
       "      <td>HARUTYUNYAN Arsen</td>\n",
       "      <td>False</td>\n",
       "      <td>NaN</td>\n",
       "      <td>HARUTYUNYAN</td>\n",
       "      <td>Arsen</td>\n",
       "      <td>kaggleOlympic</td>\n",
       "      <td>1999</td>\n",
       "    </tr>\n",
       "    <tr>\n",
       "      <th>4</th>\n",
       "      <td>TEVANYAN Vazgen</td>\n",
       "      <td>TEVANYAN V</td>\n",
       "      <td>Vazgen TEVANYAN</td>\n",
       "      <td>male</td>\n",
       "      <td>Athlete</td>\n",
       "      <td>ARM</td>\n",
       "      <td>Armenia</td>\n",
       "      <td>Armenia</td>\n",
       "      <td>Armenia</td>\n",
       "      <td>Armenia</td>\n",
       "      <td>...</td>\n",
       "      <td>Europe</td>\n",
       "      <td>False</td>\n",
       "      <td>False</td>\n",
       "      <td>TEVANYAN Vazgen</td>\n",
       "      <td>False</td>\n",
       "      <td>NaN</td>\n",
       "      <td>TEVANYAN</td>\n",
       "      <td>Vazgen</td>\n",
       "      <td>kaggleOlympic</td>\n",
       "      <td>1999</td>\n",
       "    </tr>\n",
       "  </tbody>\n",
       "</table>\n",
       "<p>5 rows × 28 columns</p>\n",
       "</div>"
      ],
      "text/plain": [
       "                name     name_short            name_tv gender function  \\\n",
       "0   ALEKSANYAN Artur   ALEKSANYAN A   Artur ALEKSANYAN   male  Athlete   \n",
       "1     AMOYAN Malkhas       AMOYAN M     Malkhas AMOYAN   male  Athlete   \n",
       "2    GALSTYAN Slavik     GALSTYAN S    Slavik GALSTYAN   male  Athlete   \n",
       "3  HARUTYUNYAN Arsen  HARUTYUNYAN A  Arsen HARUTYUNYAN   male  Athlete   \n",
       "4    TEVANYAN Vazgen     TEVANYAN V    Vazgen TEVANYAN   male  Athlete   \n",
       "\n",
       "  country_code  country country_long nationality nationality_long  ...  \\\n",
       "0          ARM  Armenia      Armenia     Armenia          Armenia  ...   \n",
       "1          ARM  Armenia      Armenia     Armenia          Armenia  ...   \n",
       "2          ARM  Armenia      Armenia     Armenia          Armenia  ...   \n",
       "3          ARM  Armenia      Armenia     Armenia          Armenia  ...   \n",
       "4          ARM  Armenia      Armenia     Armenia          Armenia  ...   \n",
       "\n",
       "  continents hasMiddleName hasNoLastName  person_label_norm hasDifficultName  \\\n",
       "0     Europe         False         False   ALEKSANYAN Artur            False   \n",
       "1     Europe         False         False     AMOYAN Malkhas            False   \n",
       "2     Europe         False         False    GALSTYAN Slavik            False   \n",
       "3     Europe         False         False  HARUTYUNYAN Arsen            False   \n",
       "4     Europe         False         False    TEVANYAN Vazgen            False   \n",
       "\n",
       "  difficult_reason     lastName  surName         source  birth_year  \n",
       "0              NaN   ALEKSANYAN    Artur  kaggleOlympic        1991  \n",
       "1              NaN       AMOYAN  Malkhas  kaggleOlympic        1999  \n",
       "2              NaN     GALSTYAN   Slavik  kaggleOlympic        1996  \n",
       "3              NaN  HARUTYUNYAN    Arsen  kaggleOlympic        1999  \n",
       "4              NaN     TEVANYAN   Vazgen  kaggleOlympic        1999  \n",
       "\n",
       "[5 rows x 28 columns]"
      ]
     },
     "execution_count": 9,
     "metadata": {},
     "output_type": "execute_result"
    }
   ],
   "source": [
    "kaggleOlympic_df.head()"
   ]
  },
  {
   "cell_type": "markdown",
   "id": "d29fb50d",
   "metadata": {},
   "source": [
    "# Determining the final structure\n",
    "By now, the two datasets are in a compatible states and can be linked. What remains to be decided is the final structure and naming convention to give the master dataset. I propose the following : \n",
    "\n",
    "- ID\n",
    "- fullName\n",
    "- firstName\n",
    "- lastName\n",
    "- gender\n",
    "- isoCountry\n",
    "- continent\n",
    "- birthYear\n",
    "- hasMiddleName\n",
    "- hasNoLastName\n",
    "- source\n",
    "\n",
    "This is the basis to rename the original columns of the dataset"
   ]
  },
  {
   "cell_type": "markdown",
   "id": "a5c7f50e",
   "metadata": {},
   "source": [
    "# Renaming wikidata"
   ]
  },
  {
   "cell_type": "code",
   "execution_count": 18,
   "id": "f6affe76",
   "metadata": {},
   "outputs": [],
   "source": [
    "# Renaming Wikidata\n",
    "wikidata_df_renamed = wikidata_df.rename(columns={\n",
    "    'person_label':'fullName',\n",
    "    'surName': 'firstName',\n",
    "    'lastName': 'lastName',\n",
    "    'genders' : 'gender',\n",
    "    'iso_country' : 'isoCountry',\n",
    "    'continents' : 'continent',\n",
    "    'birth_year' : 'birthYear',\n",
    "    'hasMiddleName' : 'hasMiddleName',\n",
    "    'hasNoLastName' : 'hasNoLastName',\n",
    "    'source' : 'source'\n",
    "})"
   ]
  },
  {
   "cell_type": "code",
   "execution_count": 19,
   "id": "2cd51292",
   "metadata": {},
   "outputs": [
    {
     "data": {
      "text/plain": [
       "Index(['person', 'fullName', 'gender', 'dobs', 'countries', 'continent',\n",
       "       'hasMiddleName', 'hasNoLastName', 'person_label_norm',\n",
       "       'hasDifficultName', 'difficult_reason', 'firstName', 'lastName',\n",
       "       'isoCountry', 'source', 'birthYear'],\n",
       "      dtype='object')"
      ]
     },
     "execution_count": 19,
     "metadata": {},
     "output_type": "execute_result"
    }
   ],
   "source": [
    "wikidata_df_renamed.columns"
   ]
  },
  {
   "cell_type": "markdown",
   "id": "6f768cf8",
   "metadata": {},
   "source": [
    "# Renaming Kaggle Olympic"
   ]
  },
  {
   "cell_type": "code",
   "execution_count": 21,
   "id": "3b62d4cc",
   "metadata": {},
   "outputs": [],
   "source": [
    "kaggleOlympic_df_renamed = kaggleOlympic_df.rename(columns={\n",
    "    'name':'fullName',\n",
    "    'surName': 'firstName',\n",
    "    'lastName': 'lastName',\n",
    "    'gender' : 'gender',\n",
    "    'iso_country' : 'isoCountry',\n",
    "    'continents' : 'continent',\n",
    "    'birth_year' : 'birthYear',\n",
    "    'hasMiddleName' : 'hasMiddleName',\n",
    "    'hasNoLastName' : 'hasNoLastName',\n",
    "    'source' : 'source'\n",
    "})"
   ]
  },
  {
   "cell_type": "code",
   "execution_count": 22,
   "id": "1c52b460",
   "metadata": {},
   "outputs": [
    {
     "data": {
      "text/plain": [
       "Index(['fullName', 'name_short', 'name_tv', 'gender', 'function',\n",
       "       'country_code', 'country', 'country_long', 'nationality',\n",
       "       'nationality_long', 'nationality_code', 'birth_date', 'birth_place',\n",
       "       'birth_country', 'residence_place', 'residence_country', 'lang',\n",
       "       'isoCountry', 'continent', 'hasMiddleName', 'hasNoLastName',\n",
       "       'person_label_norm', 'hasDifficultName', 'difficult_reason', 'lastName',\n",
       "       'firstName', 'source', 'birthYear'],\n",
       "      dtype='object')"
      ]
     },
     "execution_count": 22,
     "metadata": {},
     "output_type": "execute_result"
    }
   ],
   "source": [
    "kaggleOlympic_df_renamed.columns"
   ]
  },
  {
   "cell_type": "markdown",
   "id": "9a5aab23",
   "metadata": {},
   "source": [
    "# Joining the sets"
   ]
  },
  {
   "cell_type": "code",
   "execution_count": 23,
   "id": "155726ed",
   "metadata": {},
   "outputs": [],
   "source": [
    "core_columns = [\n",
    "    \"fullName\",\n",
    "    \"firstName\",\n",
    "    \"lastName\",\n",
    "    \"gender\",\n",
    "    \"isoCountry\",\n",
    "    \"continent\",\n",
    "    \"birthYear\",\n",
    "    \"hasMiddleName\",\n",
    "    \"hasNoLastName\",\n",
    "    \"source\",\n",
    "]\n",
    "wikidata_core = wikidata_df_renamed[core_columns]\n",
    "kaggle_core = kaggleOlympic_df_renamed[core_columns]"
   ]
  },
  {
   "cell_type": "code",
   "execution_count": 24,
   "id": "6ed810f8",
   "metadata": {},
   "outputs": [],
   "source": [
    "all = pd.concat([wikidata_core, kaggle_core], ignore_index=True)"
   ]
  },
  {
   "cell_type": "code",
   "execution_count": 28,
   "id": "5a27e785",
   "metadata": {},
   "outputs": [
    {
     "name": "stdout",
     "output_type": "stream",
     "text": [
      "Index(['fullName', 'firstName', 'lastName', 'gender', 'isoCountry',\n",
      "       'continent', 'birthYear', 'hasMiddleName', 'hasNoLastName', 'source'],\n",
      "      dtype='object')\n",
      "             fullName firstName lastName gender isoCountry continent  \\\n",
      "count           15987     12268    12268  15987      15640     15987   \n",
      "unique          15973      6309    10247      2        204         6   \n",
      "top     WATANABE Yuta    Daniel     WANG   male         US    Europe   \n",
      "freq                2        51       40   8069       1457      6230   \n",
      "\n",
      "       hasMiddleName hasNoLastName         source  \n",
      "count          15987         15987          15987  \n",
      "unique             2             2              2  \n",
      "top            False         False  kaggleOlympic  \n",
      "freq           13423         15878          11113  \n"
     ]
    }
   ],
   "source": [
    "print(all.columns)\n",
    "print(all.describe(exclude=np.number))"
   ]
  },
  {
   "cell_type": "markdown",
   "id": "b63f6110",
   "metadata": {},
   "source": [
    "# Checking for duplication in the new master set\n",
    "\n",
    "When checking for duplication, it's important to focus not just on the full name itself, but on the additional info such as the nationality and the birth year. We can see below that, looking only at the fullname themselves, we have 28 duplicate (14 pairs at most), but if we include the country to consider it a duplicate, it drop to 14 duplicates (7 pairs at most). Including the birth year drop the number of duplicate to 0. \n",
    "\n",
    "Given that the combo of fullName + country + birth year has 0 duplicates, removing the duplicate from lower combinations is not needed. "
   ]
  },
  {
   "cell_type": "code",
   "execution_count": 59,
   "id": "53226c09",
   "metadata": {},
   "outputs": [
    {
     "name": "stdout",
     "output_type": "stream",
     "text": [
      "28\n",
      "14\n",
      "0\n",
      "0\n"
     ]
    }
   ],
   "source": [
    "checks = ['fullName', 'isoCountry', 'birthYear']\n",
    "\n",
    "print(len(all[all[['fullName']].duplicated(keep=False)]))\n",
    "print(len(all[all[['fullName', 'isoCountry']].duplicated(keep=False)]))\n",
    "print(len(all[all[['fullName', 'birthYear']].duplicated(keep=False)]))\n",
    "print(len(all[all[['fullName', 'isoCountry', 'birthYear']].duplicated(keep=False)]))"
   ]
  },
  {
   "cell_type": "markdown",
   "id": "55a5e8b0",
   "metadata": {},
   "source": [
    "# Recording the master Dataset"
   ]
  },
  {
   "cell_type": "code",
   "execution_count": 64,
   "id": "4b3ef18b",
   "metadata": {},
   "outputs": [],
   "source": [
    "all.to_csv(\"../../data/all.csv\")"
   ]
  }
 ],
 "metadata": {
  "kernelspec": {
   "display_name": "name2gender",
   "language": "python",
   "name": "python3"
  },
  "language_info": {
   "codemirror_mode": {
    "name": "ipython",
    "version": 3
   },
   "file_extension": ".py",
   "mimetype": "text/x-python",
   "name": "python",
   "nbconvert_exporter": "python",
   "pygments_lexer": "ipython3",
   "version": "3.12.4"
  }
 },
 "nbformat": 4,
 "nbformat_minor": 5
}
