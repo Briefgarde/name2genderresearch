{
 "cells": [
  {
   "cell_type": "markdown",
   "id": "ca84884e",
   "metadata": {},
   "source": [
    "The goal of this notebook is to smooth out the differences between various tools used in this study when collecting their answers on our datasets. It does not change the nature of their answer, but simply insure that they can be processed for analysis without trouble. "
   ]
  },
  {
   "cell_type": "code",
   "execution_count": 1,
   "id": "f1d90ecb",
   "metadata": {},
   "outputs": [
    {
     "name": "stdout",
     "output_type": "stream",
     "text": [
      "c:\\Users\\brief\\Desktop\\Master\\Ecole\\Semestre3\\M8_ProjetDeRecherche\\code_ProjetDeRecherche\n"
     ]
    },
    {
     "name": "stderr",
     "output_type": "stream",
     "text": [
      "C:\\Users\\brief\\AppData\\Roaming\\Python\\Python312\\site-packages\\IPython\\core\\magics\\osm.py:417: UserWarning: This is now an optional IPython functionality, setting dhist requires you to install the `pickleshare` library.\n",
      "  self.shell.db['dhist'] = compress_dhist(dhist)[-100:]\n"
     ]
    }
   ],
   "source": [
    "import pandas as pd\n",
    "import matplotlib.pyplot as plt\n",
    "%cd ../..\n",
    "%load_ext autoreload\n",
    "%autoreload 2"
   ]
  },
  {
   "cell_type": "code",
   "execution_count": 2,
   "id": "99e061b2",
   "metadata": {},
   "outputs": [],
   "source": [
    "def fillNaWithUnknown(df:pd.DataFrame)->pd.DataFrame:\n",
    "    df.loc[df['predictedGender'].isna(), 'predictedGender'] = \"unknown\"\n",
    "    return df"
   ]
  },
  {
   "cell_type": "code",
   "execution_count": 3,
   "id": "018dad6f",
   "metadata": {},
   "outputs": [],
   "source": [
    "def addIsCorrectColumn(df:pd.DataFrame)->pd.DataFrame:\n",
    "    df[\"isCorrect\"] = df['correctGender'] == df['predictedGender']\n",
    "    return df"
   ]
  },
  {
   "cell_type": "markdown",
   "id": "120ffc94",
   "metadata": {},
   "source": [
    "# Genderize"
   ]
  },
  {
   "cell_type": "markdown",
   "id": "18d9dd89",
   "metadata": {},
   "source": [
    "## Kaggle First Country"
   ]
  },
  {
   "cell_type": "code",
   "execution_count": 28,
   "id": "d61dabb4",
   "metadata": {},
   "outputs": [],
   "source": [
    "df_kaggleFirstCountry = pd.read_csv(\"C:/Users/brief/Desktop/Master/Ecole/Semestre3/M8_ProjetDeRecherche/code_ProjetDeRecherche/data/TestedData/Genderize/kaggleFirstCountry.csv\")"
   ]
  },
  {
   "cell_type": "code",
   "execution_count": 29,
   "id": "e43191f4",
   "metadata": {},
   "outputs": [
    {
     "data": {
      "application/vnd.microsoft.datawrangler.viewer.v0+json": {
       "columns": [
        {
         "name": "index",
         "rawType": "int64",
         "type": "integer"
        },
        {
         "name": "index",
         "rawType": "int64",
         "type": "integer"
        },
        {
         "name": "fullName",
         "rawType": "object",
         "type": "string"
        },
        {
         "name": "namePassed",
         "rawType": "object",
         "type": "string"
        },
        {
         "name": "correctGender",
         "rawType": "object",
         "type": "string"
        },
        {
         "name": "predictedGender",
         "rawType": "object",
         "type": "string"
        },
        {
         "name": "localization",
         "rawType": "object",
         "type": "string"
        },
        {
         "name": "useLocalization",
         "rawType": "bool",
         "type": "boolean"
        },
        {
         "name": "serviceUsed",
         "rawType": "object",
         "type": "string"
        },
        {
         "name": "extraCount",
         "rawType": "int64",
         "type": "integer"
        },
        {
         "name": "extraProbability",
         "rawType": "float64",
         "type": "float"
        }
       ],
       "ref": "517a8231-4bca-4fc2-b1b4-5a82c2c07299",
       "rows": [
        [
         "0",
         "4874",
         "ALEKSANYAN Artur",
         "Artur",
         "male",
         "male",
         "AM",
         "True",
         "genderize.IO",
         "138242",
         "1.0"
        ],
        [
         "1",
         "4875",
         "AMOYAN Malkhas",
         "Malkhas",
         "male",
         "male",
         "AM",
         "True",
         "genderize.IO",
         "3",
         "1.0"
        ],
        [
         "2",
         "4876",
         "GALSTYAN Slavik",
         "Slavik",
         "male",
         "male",
         "AM",
         "True",
         "genderize.IO",
         "2018",
         "0.99"
        ],
        [
         "3",
         "4877",
         "HARUTYUNYAN Arsen",
         "Arsen",
         "male",
         "male",
         "AM",
         "True",
         "genderize.IO",
         "10342",
         "0.99"
        ],
        [
         "4",
         "4878",
         "TEVANYAN Vazgen",
         "Vazgen",
         "male",
         "male",
         "AM",
         "True",
         "genderize.IO",
         "398",
         "0.98"
        ]
       ],
       "shape": {
        "columns": 10,
        "rows": 5
       }
      },
      "text/html": [
       "<div>\n",
       "<style scoped>\n",
       "    .dataframe tbody tr th:only-of-type {\n",
       "        vertical-align: middle;\n",
       "    }\n",
       "\n",
       "    .dataframe tbody tr th {\n",
       "        vertical-align: top;\n",
       "    }\n",
       "\n",
       "    .dataframe thead th {\n",
       "        text-align: right;\n",
       "    }\n",
       "</style>\n",
       "<table border=\"1\" class=\"dataframe\">\n",
       "  <thead>\n",
       "    <tr style=\"text-align: right;\">\n",
       "      <th></th>\n",
       "      <th>index</th>\n",
       "      <th>fullName</th>\n",
       "      <th>namePassed</th>\n",
       "      <th>correctGender</th>\n",
       "      <th>predictedGender</th>\n",
       "      <th>localization</th>\n",
       "      <th>useLocalization</th>\n",
       "      <th>serviceUsed</th>\n",
       "      <th>extraCount</th>\n",
       "      <th>extraProbability</th>\n",
       "    </tr>\n",
       "  </thead>\n",
       "  <tbody>\n",
       "    <tr>\n",
       "      <th>0</th>\n",
       "      <td>4874</td>\n",
       "      <td>ALEKSANYAN Artur</td>\n",
       "      <td>Artur</td>\n",
       "      <td>male</td>\n",
       "      <td>male</td>\n",
       "      <td>AM</td>\n",
       "      <td>True</td>\n",
       "      <td>genderize.IO</td>\n",
       "      <td>138242</td>\n",
       "      <td>1.00</td>\n",
       "    </tr>\n",
       "    <tr>\n",
       "      <th>1</th>\n",
       "      <td>4875</td>\n",
       "      <td>AMOYAN Malkhas</td>\n",
       "      <td>Malkhas</td>\n",
       "      <td>male</td>\n",
       "      <td>male</td>\n",
       "      <td>AM</td>\n",
       "      <td>True</td>\n",
       "      <td>genderize.IO</td>\n",
       "      <td>3</td>\n",
       "      <td>1.00</td>\n",
       "    </tr>\n",
       "    <tr>\n",
       "      <th>2</th>\n",
       "      <td>4876</td>\n",
       "      <td>GALSTYAN Slavik</td>\n",
       "      <td>Slavik</td>\n",
       "      <td>male</td>\n",
       "      <td>male</td>\n",
       "      <td>AM</td>\n",
       "      <td>True</td>\n",
       "      <td>genderize.IO</td>\n",
       "      <td>2018</td>\n",
       "      <td>0.99</td>\n",
       "    </tr>\n",
       "    <tr>\n",
       "      <th>3</th>\n",
       "      <td>4877</td>\n",
       "      <td>HARUTYUNYAN Arsen</td>\n",
       "      <td>Arsen</td>\n",
       "      <td>male</td>\n",
       "      <td>male</td>\n",
       "      <td>AM</td>\n",
       "      <td>True</td>\n",
       "      <td>genderize.IO</td>\n",
       "      <td>10342</td>\n",
       "      <td>0.99</td>\n",
       "    </tr>\n",
       "    <tr>\n",
       "      <th>4</th>\n",
       "      <td>4878</td>\n",
       "      <td>TEVANYAN Vazgen</td>\n",
       "      <td>Vazgen</td>\n",
       "      <td>male</td>\n",
       "      <td>male</td>\n",
       "      <td>AM</td>\n",
       "      <td>True</td>\n",
       "      <td>genderize.IO</td>\n",
       "      <td>398</td>\n",
       "      <td>0.98</td>\n",
       "    </tr>\n",
       "  </tbody>\n",
       "</table>\n",
       "</div>"
      ],
      "text/plain": [
       "   index           fullName namePassed correctGender predictedGender  \\\n",
       "0   4874   ALEKSANYAN Artur      Artur          male            male   \n",
       "1   4875     AMOYAN Malkhas    Malkhas          male            male   \n",
       "2   4876    GALSTYAN Slavik     Slavik          male            male   \n",
       "3   4877  HARUTYUNYAN Arsen      Arsen          male            male   \n",
       "4   4878    TEVANYAN Vazgen     Vazgen          male            male   \n",
       "\n",
       "  localization  useLocalization   serviceUsed  extraCount  extraProbability  \n",
       "0           AM             True  genderize.IO      138242              1.00  \n",
       "1           AM             True  genderize.IO           3              1.00  \n",
       "2           AM             True  genderize.IO        2018              0.99  \n",
       "3           AM             True  genderize.IO       10342              0.99  \n",
       "4           AM             True  genderize.IO         398              0.98  "
      ]
     },
     "execution_count": 29,
     "metadata": {},
     "output_type": "execute_result"
    }
   ],
   "source": [
    "df_kaggleFirstCountry.head()"
   ]
  },
  {
   "cell_type": "code",
   "execution_count": 30,
   "id": "9f6ab52b",
   "metadata": {},
   "outputs": [
    {
     "name": "stdout",
     "output_type": "stream",
     "text": [
      "<class 'pandas.core.frame.DataFrame'>\n",
      "RangeIndex: 9078 entries, 0 to 9077\n",
      "Data columns (total 10 columns):\n",
      " #   Column            Non-Null Count  Dtype  \n",
      "---  ------            --------------  -----  \n",
      " 0   index             9078 non-null   int64  \n",
      " 1   fullName          9078 non-null   object \n",
      " 2   namePassed        9078 non-null   object \n",
      " 3   correctGender     9078 non-null   object \n",
      " 4   predictedGender   8967 non-null   object \n",
      " 5   localization      9078 non-null   object \n",
      " 6   useLocalization   9078 non-null   bool   \n",
      " 7   serviceUsed       9078 non-null   object \n",
      " 8   extraCount        9078 non-null   int64  \n",
      " 9   extraProbability  9078 non-null   float64\n",
      "dtypes: bool(1), float64(1), int64(2), object(6)\n",
      "memory usage: 647.3+ KB\n"
     ]
    }
   ],
   "source": [
    "df_kaggleFirstCountry.info()"
   ]
  },
  {
   "cell_type": "code",
   "execution_count": 31,
   "id": "1be14d1e",
   "metadata": {},
   "outputs": [
    {
     "data": {
      "application/vnd.microsoft.datawrangler.viewer.v0+json": {
       "columns": [
        {
         "name": "predictedGender",
         "rawType": "object",
         "type": "unknown"
        },
        {
         "name": "count",
         "rawType": "int64",
         "type": "integer"
        }
       ],
       "ref": "a357e36a-cad0-415d-9774-eedcd9a07bd4",
       "rows": [
        [
         "male",
         "4720"
        ],
        [
         "female",
         "4247"
        ],
        [
         null,
         "111"
        ]
       ],
       "shape": {
        "columns": 1,
        "rows": 3
       }
      },
      "text/plain": [
       "predictedGender\n",
       "male      4720\n",
       "female    4247\n",
       "NaN        111\n",
       "Name: count, dtype: int64"
      ]
     },
     "execution_count": 31,
     "metadata": {},
     "output_type": "execute_result"
    }
   ],
   "source": [
    "df_kaggleFirstCountry['predictedGender'].value_counts(dropna=False)"
   ]
  },
  {
   "cell_type": "code",
   "execution_count": 32,
   "id": "c44072a6",
   "metadata": {},
   "outputs": [
    {
     "name": "stdout",
     "output_type": "stream",
     "text": [
      "predictedGender\n",
      "male       4720\n",
      "female     4247\n",
      "unknown     111\n",
      "Name: count, dtype: int64\n"
     ]
    },
    {
     "data": {
      "application/vnd.microsoft.datawrangler.viewer.v0+json": {
       "columns": [
        {
         "name": "correctGender",
         "rawType": "object",
         "type": "string"
        },
        {
         "name": "count",
         "rawType": "int64",
         "type": "integer"
        }
       ],
       "ref": "42396616-5891-4003-9783-5835f936811b",
       "rows": [
        [
         "male",
         "4672"
        ],
        [
         "female",
         "4406"
        ]
       ],
       "shape": {
        "columns": 1,
        "rows": 2
       }
      },
      "text/plain": [
       "correctGender\n",
       "male      4672\n",
       "female    4406\n",
       "Name: count, dtype: int64"
      ]
     },
     "execution_count": 32,
     "metadata": {},
     "output_type": "execute_result"
    }
   ],
   "source": [
    "df_kaggleFirstCountry = fillNaWithUnknown(df_kaggleFirstCountry)\n",
    "print(df_kaggleFirstCountry['predictedGender'].value_counts(dropna=False))\n",
    "df_kaggleFirstCountry['correctGender'].value_counts(dropna=False)"
   ]
  },
  {
   "cell_type": "code",
   "execution_count": 39,
   "id": "0224586d",
   "metadata": {},
   "outputs": [
    {
     "data": {
      "application/vnd.microsoft.datawrangler.viewer.v0+json": {
       "columns": [
        {
         "name": "isCorrect",
         "rawType": "bool",
         "type": "boolean"
        },
        {
         "name": "count",
         "rawType": "int64",
         "type": "integer"
        }
       ],
       "ref": "4e53cb94-7359-4084-a34d-5bd4de04414a",
       "rows": [
        [
         "True",
         "8471"
        ],
        [
         "False",
         "607"
        ]
       ],
       "shape": {
        "columns": 1,
        "rows": 2
       }
      },
      "text/plain": [
       "isCorrect\n",
       "True     8471\n",
       "False     607\n",
       "Name: count, dtype: int64"
      ]
     },
     "execution_count": 39,
     "metadata": {},
     "output_type": "execute_result"
    }
   ],
   "source": [
    "df_kaggleFirstCountry = addIsCorrectColumn(df_kaggleFirstCountry)\n",
    "df_kaggleFirstCountry['isCorrect'].value_counts()"
   ]
  },
  {
   "cell_type": "code",
   "execution_count": 42,
   "id": "39308488",
   "metadata": {},
   "outputs": [],
   "source": [
    "df_kaggleFirstCountry.to_csv(\"C:/Users/brief/Desktop/Master/Ecole/Semestre3/M8_ProjetDeRecherche/code_ProjetDeRecherche/data/preprocessedTestData/Genderize/kaggleFirstCountryPre.csv\", index=False)"
   ]
  },
  {
   "cell_type": "code",
   "execution_count": 43,
   "id": "1b16d5d9",
   "metadata": {},
   "outputs": [],
   "source": [
    "try:\n",
    "    del df_kaggleFirstCountry\n",
    "except:\n",
    "    pass"
   ]
  },
  {
   "cell_type": "markdown",
   "id": "4a808091",
   "metadata": {},
   "source": [
    "## Wikidata First Country"
   ]
  },
  {
   "cell_type": "code",
   "execution_count": 44,
   "id": "6d90e902",
   "metadata": {},
   "outputs": [],
   "source": [
    "df_wikidataFirstCountry = pd.read_csv(\"C:/Users/brief/Desktop/Master/Ecole/Semestre3/M8_ProjetDeRecherche/code_ProjetDeRecherche/data/TestedData/Genderize/wikidataFirstCountry.csv\")"
   ]
  },
  {
   "cell_type": "code",
   "execution_count": 45,
   "id": "6c1138b6",
   "metadata": {},
   "outputs": [
    {
     "name": "stdout",
     "output_type": "stream",
     "text": [
      "<class 'pandas.core.frame.DataFrame'>\n",
      "RangeIndex: 3645 entries, 0 to 3644\n",
      "Data columns (total 10 columns):\n",
      " #   Column            Non-Null Count  Dtype  \n",
      "---  ------            --------------  -----  \n",
      " 0   index             3645 non-null   int64  \n",
      " 1   fullName          3645 non-null   object \n",
      " 2   namePassed        3645 non-null   object \n",
      " 3   correctGender     3645 non-null   object \n",
      " 4   predictedGender   3606 non-null   object \n",
      " 5   localization      3645 non-null   object \n",
      " 6   useLocalization   3645 non-null   bool   \n",
      " 7   serviceUsed       3645 non-null   object \n",
      " 8   extraCount        3645 non-null   int64  \n",
      " 9   extraProbability  3645 non-null   float64\n",
      "dtypes: bool(1), float64(1), int64(2), object(6)\n",
      "memory usage: 260.0+ KB\n"
     ]
    }
   ],
   "source": [
    "df_wikidataFirstCountry.info()"
   ]
  },
  {
   "cell_type": "code",
   "execution_count": 47,
   "id": "f3762d63",
   "metadata": {},
   "outputs": [
    {
     "data": {
      "application/vnd.microsoft.datawrangler.viewer.v0+json": {
       "columns": [
        {
         "name": "predictedGender",
         "rawType": "object",
         "type": "unknown"
        },
        {
         "name": "count",
         "rawType": "int64",
         "type": "integer"
        }
       ],
       "ref": "fcf76a6d-550e-41a6-beb7-3ccc1012d56c",
       "rows": [
        [
         "male",
         "1832"
        ],
        [
         "female",
         "1774"
        ],
        [
         null,
         "39"
        ]
       ],
       "shape": {
        "columns": 1,
        "rows": 3
       }
      },
      "text/plain": [
       "predictedGender\n",
       "male      1832\n",
       "female    1774\n",
       "NaN         39\n",
       "Name: count, dtype: int64"
      ]
     },
     "execution_count": 47,
     "metadata": {},
     "output_type": "execute_result"
    }
   ],
   "source": [
    "df_wikidataFirstCountry['predictedGender'].value_counts(dropna=False)"
   ]
  },
  {
   "cell_type": "code",
   "execution_count": 49,
   "id": "ac96e34f",
   "metadata": {},
   "outputs": [
    {
     "data": {
      "application/vnd.microsoft.datawrangler.viewer.v0+json": {
       "columns": [
        {
         "name": "predictedGender",
         "rawType": "object",
         "type": "string"
        },
        {
         "name": "count",
         "rawType": "int64",
         "type": "integer"
        }
       ],
       "ref": "66fe6885-6dac-44d4-8e57-87f8d3461283",
       "rows": [
        [
         "male",
         "1832"
        ],
        [
         "female",
         "1774"
        ],
        [
         "unknown",
         "39"
        ]
       ],
       "shape": {
        "columns": 1,
        "rows": 3
       }
      },
      "text/plain": [
       "predictedGender\n",
       "male       1832\n",
       "female     1774\n",
       "unknown      39\n",
       "Name: count, dtype: int64"
      ]
     },
     "execution_count": 49,
     "metadata": {},
     "output_type": "execute_result"
    }
   ],
   "source": [
    "df_wikidataFirstCountry = fillNaWithUnknown(df_wikidataFirstCountry)\n",
    "df_wikidataFirstCountry = addIsCorrectColumn(df_wikidataFirstCountry)\n",
    "df_wikidataFirstCountry['predictedGender'].value_counts(dropna=False)"
   ]
  },
  {
   "cell_type": "code",
   "execution_count": 53,
   "id": "c0cb9ec7",
   "metadata": {},
   "outputs": [
    {
     "data": {
      "application/vnd.microsoft.datawrangler.viewer.v0+json": {
       "columns": [
        {
         "name": "index",
         "rawType": "object",
         "type": "string"
        },
        {
         "name": "fullName",
         "rawType": "object",
         "type": "unknown"
        },
        {
         "name": "namePassed",
         "rawType": "object",
         "type": "unknown"
        },
        {
         "name": "correctGender",
         "rawType": "object",
         "type": "unknown"
        },
        {
         "name": "predictedGender",
         "rawType": "object",
         "type": "unknown"
        },
        {
         "name": "localization",
         "rawType": "object",
         "type": "unknown"
        },
        {
         "name": "serviceUsed",
         "rawType": "object",
         "type": "unknown"
        }
       ],
       "ref": "65cbcd48-6c79-47b4-b1a8-aa49a697cf4c",
       "rows": [
        [
         "count",
         "3645",
         "3645",
         "3645",
         "3645",
         "3645",
         "3645"
        ],
        [
         "unique",
         "3641",
         "2535",
         "2",
         "3",
         "148",
         "1"
        ],
        [
         "top",
         "Katalin Fodor",
         "Buddy",
         "female",
         "male",
         "US",
         "genderize.IO"
        ],
        [
         "freq",
         "2",
         "34",
         "1875",
         "1832",
         "483",
         "3645"
        ]
       ],
       "shape": {
        "columns": 6,
        "rows": 4
       }
      },
      "text/html": [
       "<div>\n",
       "<style scoped>\n",
       "    .dataframe tbody tr th:only-of-type {\n",
       "        vertical-align: middle;\n",
       "    }\n",
       "\n",
       "    .dataframe tbody tr th {\n",
       "        vertical-align: top;\n",
       "    }\n",
       "\n",
       "    .dataframe thead th {\n",
       "        text-align: right;\n",
       "    }\n",
       "</style>\n",
       "<table border=\"1\" class=\"dataframe\">\n",
       "  <thead>\n",
       "    <tr style=\"text-align: right;\">\n",
       "      <th></th>\n",
       "      <th>fullName</th>\n",
       "      <th>namePassed</th>\n",
       "      <th>correctGender</th>\n",
       "      <th>predictedGender</th>\n",
       "      <th>localization</th>\n",
       "      <th>serviceUsed</th>\n",
       "    </tr>\n",
       "  </thead>\n",
       "  <tbody>\n",
       "    <tr>\n",
       "      <th>count</th>\n",
       "      <td>3645</td>\n",
       "      <td>3645</td>\n",
       "      <td>3645</td>\n",
       "      <td>3645</td>\n",
       "      <td>3645</td>\n",
       "      <td>3645</td>\n",
       "    </tr>\n",
       "    <tr>\n",
       "      <th>unique</th>\n",
       "      <td>3641</td>\n",
       "      <td>2535</td>\n",
       "      <td>2</td>\n",
       "      <td>3</td>\n",
       "      <td>148</td>\n",
       "      <td>1</td>\n",
       "    </tr>\n",
       "    <tr>\n",
       "      <th>top</th>\n",
       "      <td>Katalin Fodor</td>\n",
       "      <td>Buddy</td>\n",
       "      <td>female</td>\n",
       "      <td>male</td>\n",
       "      <td>US</td>\n",
       "      <td>genderize.IO</td>\n",
       "    </tr>\n",
       "    <tr>\n",
       "      <th>freq</th>\n",
       "      <td>2</td>\n",
       "      <td>34</td>\n",
       "      <td>1875</td>\n",
       "      <td>1832</td>\n",
       "      <td>483</td>\n",
       "      <td>3645</td>\n",
       "    </tr>\n",
       "  </tbody>\n",
       "</table>\n",
       "</div>"
      ],
      "text/plain": [
       "             fullName namePassed correctGender predictedGender localization  \\\n",
       "count            3645       3645          3645            3645         3645   \n",
       "unique           3641       2535             2               3          148   \n",
       "top     Katalin Fodor      Buddy        female            male           US   \n",
       "freq                2         34          1875            1832          483   \n",
       "\n",
       "         serviceUsed  \n",
       "count           3645  \n",
       "unique             1  \n",
       "top     genderize.IO  \n",
       "freq            3645  "
      ]
     },
     "execution_count": 53,
     "metadata": {},
     "output_type": "execute_result"
    }
   ],
   "source": [
    "df_wikidataFirstCountry.describe(include='object')"
   ]
  },
  {
   "cell_type": "code",
   "execution_count": 54,
   "id": "39fcb791",
   "metadata": {},
   "outputs": [],
   "source": [
    "df_wikidataFirstCountry.to_csv(\"C:/Users/brief/Desktop/Master/Ecole/Semestre3/M8_ProjetDeRecherche/code_ProjetDeRecherche/data/preprocessedTestData/Genderize/wikidataFirstCountryPre.csv\", index=False)"
   ]
  },
  {
   "cell_type": "code",
   "execution_count": 55,
   "id": "6a8cd7dd",
   "metadata": {},
   "outputs": [],
   "source": [
    "try:\n",
    "    del df_wikidataFirstCountry\n",
    "except:\n",
    "    pass"
   ]
  },
  {
   "cell_type": "markdown",
   "id": "afae34b4",
   "metadata": {},
   "source": [
    "## wikidata First No Country"
   ]
  },
  {
   "cell_type": "code",
   "execution_count": 5,
   "id": "a04e6df0",
   "metadata": {},
   "outputs": [],
   "source": [
    "df_wikidataFirstNoCountry = pd.read_csv(\"C:/Users/brief/Desktop/Master/Ecole/Semestre3/M8_ProjetDeRecherche/code_ProjetDeRecherche/data/TestedData/Genderize/wikidataFirstNoCountry.csv\")"
   ]
  },
  {
   "cell_type": "code",
   "execution_count": 6,
   "id": "e0ceead9",
   "metadata": {},
   "outputs": [
    {
     "name": "stdout",
     "output_type": "stream",
     "text": [
      "<class 'pandas.core.frame.DataFrame'>\n",
      "RangeIndex: 3937 entries, 0 to 3936\n",
      "Data columns (total 10 columns):\n",
      " #   Column            Non-Null Count  Dtype  \n",
      "---  ------            --------------  -----  \n",
      " 0   index             3937 non-null   int64  \n",
      " 1   fullName          3937 non-null   object \n",
      " 2   namePassed        3937 non-null   object \n",
      " 3   correctGender     3937 non-null   object \n",
      " 4   predictedGender   3937 non-null   object \n",
      " 5   localization      3645 non-null   object \n",
      " 6   useLocalization   3937 non-null   bool   \n",
      " 7   serviceUsed       3937 non-null   object \n",
      " 8   extraCount        3937 non-null   int64  \n",
      " 9   extraProbability  3937 non-null   float64\n",
      "dtypes: bool(1), float64(1), int64(2), object(6)\n",
      "memory usage: 280.8+ KB\n"
     ]
    }
   ],
   "source": [
    "df_wikidataFirstNoCountry.info(verbose=True)"
   ]
  },
  {
   "cell_type": "code",
   "execution_count": 7,
   "id": "8ef575c3",
   "metadata": {},
   "outputs": [
    {
     "name": "stdout",
     "output_type": "stream",
     "text": [
      "<class 'pandas.core.frame.DataFrame'>\n",
      "RangeIndex: 3937 entries, 0 to 3936\n",
      "Data columns (total 11 columns):\n",
      " #   Column            Non-Null Count  Dtype  \n",
      "---  ------            --------------  -----  \n",
      " 0   index             3937 non-null   int64  \n",
      " 1   fullName          3937 non-null   object \n",
      " 2   namePassed        3937 non-null   object \n",
      " 3   correctGender     3937 non-null   object \n",
      " 4   predictedGender   3937 non-null   object \n",
      " 5   localization      3645 non-null   object \n",
      " 6   useLocalization   3937 non-null   bool   \n",
      " 7   serviceUsed       3937 non-null   object \n",
      " 8   extraCount        3937 non-null   int64  \n",
      " 9   extraProbability  3937 non-null   float64\n",
      " 10  isCorrect         3937 non-null   bool   \n",
      "dtypes: bool(2), float64(1), int64(2), object(6)\n",
      "memory usage: 284.6+ KB\n"
     ]
    }
   ],
   "source": [
    "df_wikidataFirstNoCountry = addIsCorrectColumn(df_wikidataFirstNoCountry)\n",
    "df_wikidataFirstNoCountry.info()"
   ]
  },
  {
   "cell_type": "code",
   "execution_count": 8,
   "id": "546992b4",
   "metadata": {},
   "outputs": [],
   "source": [
    "df_wikidataFirstNoCountry.to_csv(\"C:/Users/brief/Desktop/Master/Ecole/Semestre3/M8_ProjetDeRecherche/code_ProjetDeRecherche/data/preprocessedTestData/Genderize/wikidataFirstNoCountryPre.csv\", index=False)"
   ]
  },
  {
   "cell_type": "code",
   "execution_count": 9,
   "id": "a614d939",
   "metadata": {},
   "outputs": [],
   "source": [
    "try:\n",
    "    del df_wikidataFirstNoCountry\n",
    "except:\n",
    "    pass"
   ]
  },
  {
   "cell_type": "markdown",
   "id": "7b221460",
   "metadata": {},
   "source": [
    "# GenderAPI.io"
   ]
  },
  {
   "cell_type": "markdown",
   "id": "f292dad2",
   "metadata": {},
   "source": [
    "## Kaggle First Country"
   ]
  },
  {
   "cell_type": "code",
   "execution_count": 5,
   "id": "f2eebddf",
   "metadata": {},
   "outputs": [],
   "source": [
    "df_kaggleFirstCountry = pd.read_csv(\"C:/Users/brief/Desktop/Master/Ecole/Semestre3/M8_ProjetDeRecherche/code_ProjetDeRecherche/data/TestedData/GenderAPIIO/kaggleFirstCountry.csv\")"
   ]
  },
  {
   "cell_type": "code",
   "execution_count": 6,
   "id": "d2c65567",
   "metadata": {},
   "outputs": [
    {
     "name": "stdout",
     "output_type": "stream",
     "text": [
      "<class 'pandas.core.frame.DataFrame'>\n",
      "RangeIndex: 9078 entries, 0 to 9077\n",
      "Data columns (total 13 columns):\n",
      " #   Column                     Non-Null Count  Dtype \n",
      "---  ------                     --------------  ----- \n",
      " 0   index                      9078 non-null   object\n",
      " 1   fullName                   9078 non-null   object\n",
      " 2   namePassed                 9075 non-null   object\n",
      " 3   correctGender              9078 non-null   object\n",
      " 4   predictedGender            9077 non-null   object\n",
      " 5   localization               9078 non-null   object\n",
      " 6   useLocalization            9078 non-null   object\n",
      " 7   serviceUsed                9078 non-null   object\n",
      " 8   extraTotalName             9078 non-null   object\n",
      " 9   extraProbability           9078 non-null   object\n",
      " 10  extraCountryUsedByService  9076 non-null   object\n",
      " 11  extraUsedAI                9078 non-null   object\n",
      " 12  extraForcedGenderize       9078 non-null   object\n",
      "dtypes: object(13)\n",
      "memory usage: 922.1+ KB\n"
     ]
    }
   ],
   "source": [
    "df_kaggleFirstCountry.info()"
   ]
  },
  {
   "cell_type": "code",
   "execution_count": 10,
   "id": "e925661c",
   "metadata": {},
   "outputs": [
    {
     "name": "stdout",
     "output_type": "stream",
     "text": [
      "<class 'pandas.core.frame.DataFrame'>\n",
      "Index: 9073 entries, 0 to 9077\n",
      "Data columns (total 14 columns):\n",
      " #   Column                     Non-Null Count  Dtype \n",
      "---  ------                     --------------  ----- \n",
      " 0   index                      9073 non-null   object\n",
      " 1   fullName                   9073 non-null   object\n",
      " 2   namePassed                 9073 non-null   object\n",
      " 3   correctGender              9073 non-null   object\n",
      " 4   predictedGender            9073 non-null   object\n",
      " 5   localization               9073 non-null   object\n",
      " 6   useLocalization            9073 non-null   object\n",
      " 7   serviceUsed                9073 non-null   object\n",
      " 8   extraTotalName             9073 non-null   object\n",
      " 9   extraProbability           9073 non-null   object\n",
      " 10  extraCountryUsedByService  9073 non-null   object\n",
      " 11  extraUsedAI                9073 non-null   object\n",
      " 12  extraForcedGenderize       9073 non-null   object\n",
      " 13  isCorrect                  9073 non-null   bool  \n",
      "dtypes: bool(1), object(13)\n",
      "memory usage: 1001.2+ KB\n"
     ]
    }
   ],
   "source": [
    "df_kaggleFirstCountry = df_kaggleFirstCountry.dropna(axis=0)\n",
    "df_kaggleFirstCountry = addIsCorrectColumn(df_kaggleFirstCountry)\n",
    "df_kaggleFirstCountry.info()"
   ]
  },
  {
   "cell_type": "code",
   "execution_count": 18,
   "id": "c8fb0992",
   "metadata": {},
   "outputs": [
    {
     "data": {
      "application/vnd.microsoft.datawrangler.viewer.v0+json": {
       "columns": [
        {
         "name": "index",
         "rawType": "object",
         "type": "string"
        },
        {
         "name": "index",
         "rawType": "object",
         "type": "unknown"
        },
        {
         "name": "fullName",
         "rawType": "object",
         "type": "unknown"
        },
        {
         "name": "namePassed",
         "rawType": "object",
         "type": "unknown"
        },
        {
         "name": "correctGender",
         "rawType": "object",
         "type": "unknown"
        },
        {
         "name": "predictedGender",
         "rawType": "object",
         "type": "unknown"
        },
        {
         "name": "localization",
         "rawType": "object",
         "type": "unknown"
        },
        {
         "name": "useLocalization",
         "rawType": "object",
         "type": "unknown"
        },
        {
         "name": "serviceUsed",
         "rawType": "object",
         "type": "unknown"
        },
        {
         "name": "extraTotalName",
         "rawType": "object",
         "type": "unknown"
        },
        {
         "name": "extraProbability",
         "rawType": "object",
         "type": "unknown"
        },
        {
         "name": "extraCountryUsedByService",
         "rawType": "object",
         "type": "unknown"
        },
        {
         "name": "extraUsedAI",
         "rawType": "object",
         "type": "unknown"
        },
        {
         "name": "extraForcedGenderize",
         "rawType": "object",
         "type": "unknown"
        },
        {
         "name": "isCorrect",
         "rawType": "object",
         "type": "unknown"
        }
       ],
       "ref": "8db94fe9-6a22-40e6-8df5-613ce511e8ae",
       "rows": [
        [
         "count",
         "9073",
         "9073",
         "9073",
         "9073",
         "9073",
         "9073",
         "9073",
         "9073",
         "9073",
         "9073",
         "9073",
         "9073",
         "9073",
         "9073"
        ],
        [
         "unique",
         "8824",
         "8814",
         "4643",
         "3",
         "3",
         "192",
         "2",
         "2",
         "1782",
         "52",
         "170",
         "2",
         "2",
         "2"
        ],
        [
         "top",
         "unknown",
         "unknown",
         "unknown",
         "male",
         "male",
         "US",
         "True",
         "genderAPI.io",
         "1",
         "100",
         "US",
         "False",
         "False",
         "True"
        ],
        [
         "freq",
         "250",
         "250",
         "250",
         "4530",
         "4727",
         "676",
         "8823",
         "8823",
         "565",
         "5282",
         "942",
         "8823",
         "8823",
         "8666"
        ]
       ],
       "shape": {
        "columns": 14,
        "rows": 4
       }
      },
      "text/html": [
       "<div>\n",
       "<style scoped>\n",
       "    .dataframe tbody tr th:only-of-type {\n",
       "        vertical-align: middle;\n",
       "    }\n",
       "\n",
       "    .dataframe tbody tr th {\n",
       "        vertical-align: top;\n",
       "    }\n",
       "\n",
       "    .dataframe thead th {\n",
       "        text-align: right;\n",
       "    }\n",
       "</style>\n",
       "<table border=\"1\" class=\"dataframe\">\n",
       "  <thead>\n",
       "    <tr style=\"text-align: right;\">\n",
       "      <th></th>\n",
       "      <th>index</th>\n",
       "      <th>fullName</th>\n",
       "      <th>namePassed</th>\n",
       "      <th>correctGender</th>\n",
       "      <th>predictedGender</th>\n",
       "      <th>localization</th>\n",
       "      <th>useLocalization</th>\n",
       "      <th>serviceUsed</th>\n",
       "      <th>extraTotalName</th>\n",
       "      <th>extraProbability</th>\n",
       "      <th>extraCountryUsedByService</th>\n",
       "      <th>extraUsedAI</th>\n",
       "      <th>extraForcedGenderize</th>\n",
       "      <th>isCorrect</th>\n",
       "    </tr>\n",
       "  </thead>\n",
       "  <tbody>\n",
       "    <tr>\n",
       "      <th>count</th>\n",
       "      <td>9073</td>\n",
       "      <td>9073</td>\n",
       "      <td>9073</td>\n",
       "      <td>9073</td>\n",
       "      <td>9073</td>\n",
       "      <td>9073</td>\n",
       "      <td>9073</td>\n",
       "      <td>9073</td>\n",
       "      <td>9073</td>\n",
       "      <td>9073</td>\n",
       "      <td>9073</td>\n",
       "      <td>9073</td>\n",
       "      <td>9073</td>\n",
       "      <td>9073</td>\n",
       "    </tr>\n",
       "    <tr>\n",
       "      <th>unique</th>\n",
       "      <td>8824</td>\n",
       "      <td>8814</td>\n",
       "      <td>4643</td>\n",
       "      <td>3</td>\n",
       "      <td>3</td>\n",
       "      <td>192</td>\n",
       "      <td>2</td>\n",
       "      <td>2</td>\n",
       "      <td>1782</td>\n",
       "      <td>52</td>\n",
       "      <td>170</td>\n",
       "      <td>2</td>\n",
       "      <td>2</td>\n",
       "      <td>2</td>\n",
       "    </tr>\n",
       "    <tr>\n",
       "      <th>top</th>\n",
       "      <td>unknown</td>\n",
       "      <td>unknown</td>\n",
       "      <td>unknown</td>\n",
       "      <td>male</td>\n",
       "      <td>male</td>\n",
       "      <td>US</td>\n",
       "      <td>True</td>\n",
       "      <td>genderAPI.io</td>\n",
       "      <td>1</td>\n",
       "      <td>100</td>\n",
       "      <td>US</td>\n",
       "      <td>False</td>\n",
       "      <td>False</td>\n",
       "      <td>True</td>\n",
       "    </tr>\n",
       "    <tr>\n",
       "      <th>freq</th>\n",
       "      <td>250</td>\n",
       "      <td>250</td>\n",
       "      <td>250</td>\n",
       "      <td>4530</td>\n",
       "      <td>4727</td>\n",
       "      <td>676</td>\n",
       "      <td>8823</td>\n",
       "      <td>8823</td>\n",
       "      <td>565</td>\n",
       "      <td>5282</td>\n",
       "      <td>942</td>\n",
       "      <td>8823</td>\n",
       "      <td>8823</td>\n",
       "      <td>8666</td>\n",
       "    </tr>\n",
       "  </tbody>\n",
       "</table>\n",
       "</div>"
      ],
      "text/plain": [
       "          index fullName namePassed correctGender predictedGender  \\\n",
       "count      9073     9073       9073          9073            9073   \n",
       "unique     8824     8814       4643             3               3   \n",
       "top     unknown  unknown    unknown          male            male   \n",
       "freq        250      250        250          4530            4727   \n",
       "\n",
       "       localization useLocalization   serviceUsed extraTotalName  \\\n",
       "count          9073            9073          9073           9073   \n",
       "unique          192               2             2           1782   \n",
       "top              US            True  genderAPI.io              1   \n",
       "freq            676            8823          8823            565   \n",
       "\n",
       "       extraProbability extraCountryUsedByService extraUsedAI  \\\n",
       "count              9073                      9073        9073   \n",
       "unique               52                       170           2   \n",
       "top                 100                        US       False   \n",
       "freq               5282                       942        8823   \n",
       "\n",
       "       extraForcedGenderize isCorrect  \n",
       "count                  9073      9073  \n",
       "unique                    2         2  \n",
       "top                   False      True  \n",
       "freq                   8823      8666  "
      ]
     },
     "execution_count": 18,
     "metadata": {},
     "output_type": "execute_result"
    }
   ],
   "source": [
    "df_kaggleFirstCountry.describe()"
   ]
  },
  {
   "cell_type": "code",
   "execution_count": 19,
   "id": "d486143b",
   "metadata": {},
   "outputs": [],
   "source": [
    "df_kaggleFirstCountry.to_csv(\"C:/Users/brief/Desktop/Master/Ecole/Semestre3/M8_ProjetDeRecherche/code_ProjetDeRecherche/data/preprocessedTestData/GenderAPIIO/kaggleFirstCountryPre.csv\", index=False)"
   ]
  },
  {
   "cell_type": "code",
   "execution_count": 20,
   "id": "d5d64c98",
   "metadata": {},
   "outputs": [],
   "source": [
    "try:\n",
    "    del df_kaggleFirstCountry\n",
    "except:\n",
    "    pass"
   ]
  },
  {
   "cell_type": "markdown",
   "id": "7a357efb",
   "metadata": {},
   "source": [
    "## Wikidata First Country "
   ]
  },
  {
   "cell_type": "code",
   "execution_count": 64,
   "id": "20c13382",
   "metadata": {},
   "outputs": [],
   "source": [
    "df_wikidataFirstCountry = pd.read_csv(\"C:/Users/brief/Desktop/Master/Ecole/Semestre3/M8_ProjetDeRecherche/code_ProjetDeRecherche/data/TestedData/GenderAPIIO/wikidataFirstCountry.csv\")"
   ]
  },
  {
   "cell_type": "code",
   "execution_count": 65,
   "id": "1b9439ca",
   "metadata": {},
   "outputs": [
    {
     "name": "stdout",
     "output_type": "stream",
     "text": [
      "<class 'pandas.core.frame.DataFrame'>\n",
      "RangeIndex: 3645 entries, 0 to 3644\n",
      "Data columns (total 13 columns):\n",
      " #   Column                     Non-Null Count  Dtype \n",
      "---  ------                     --------------  ----- \n",
      " 0   index                      3645 non-null   int64 \n",
      " 1   fullName                   3645 non-null   object\n",
      " 2   namePassed                 3532 non-null   object\n",
      " 3   correctGender              3645 non-null   object\n",
      " 4   predictedGender            3645 non-null   object\n",
      " 5   localization               3645 non-null   object\n",
      " 6   useLocalization            3645 non-null   bool  \n",
      " 7   serviceUsed                3645 non-null   object\n",
      " 8   extraTotalName             3645 non-null   int64 \n",
      " 9   extraProbability           3645 non-null   int64 \n",
      " 10  extraCountryUsedByService  3584 non-null   object\n",
      " 11  extraUsedAI                3645 non-null   bool  \n",
      " 12  extraForcedGenderize       3645 non-null   bool  \n",
      "dtypes: bool(3), int64(3), object(7)\n",
      "memory usage: 295.6+ KB\n"
     ]
    }
   ],
   "source": [
    "df_wikidataFirstCountry.info()"
   ]
  },
  {
   "cell_type": "code",
   "execution_count": 66,
   "id": "56968e70",
   "metadata": {},
   "outputs": [
    {
     "data": {
      "application/vnd.microsoft.datawrangler.viewer.v0+json": {
       "columns": [
        {
         "name": "predictedGender",
         "rawType": "object",
         "type": "string"
        },
        {
         "name": "count",
         "rawType": "int64",
         "type": "integer"
        }
       ],
       "ref": "eba01688-7daa-496d-8341-8441e44c5863",
       "rows": [
        [
         "male",
         "1795"
        ],
        [
         "female",
         "1732"
        ],
        [
         "unknown",
         "118"
        ]
       ],
       "shape": {
        "columns": 1,
        "rows": 3
       }
      },
      "text/plain": [
       "predictedGender\n",
       "male       1795\n",
       "female     1732\n",
       "unknown     118\n",
       "Name: count, dtype: int64"
      ]
     },
     "execution_count": 66,
     "metadata": {},
     "output_type": "execute_result"
    }
   ],
   "source": [
    "df_wikidataFirstCountry['predictedGender'].value_counts()"
   ]
  },
  {
   "cell_type": "code",
   "execution_count": 67,
   "id": "13fafc08",
   "metadata": {},
   "outputs": [
    {
     "name": "stdout",
     "output_type": "stream",
     "text": [
      "<class 'pandas.core.frame.DataFrame'>\n",
      "RangeIndex: 3645 entries, 0 to 3644\n",
      "Data columns (total 14 columns):\n",
      " #   Column                     Non-Null Count  Dtype \n",
      "---  ------                     --------------  ----- \n",
      " 0   index                      3645 non-null   int64 \n",
      " 1   fullName                   3645 non-null   object\n",
      " 2   namePassed                 3532 non-null   object\n",
      " 3   correctGender              3645 non-null   object\n",
      " 4   predictedGender            3645 non-null   object\n",
      " 5   localization               3645 non-null   object\n",
      " 6   useLocalization            3645 non-null   bool  \n",
      " 7   serviceUsed                3645 non-null   object\n",
      " 8   extraTotalName             3645 non-null   int64 \n",
      " 9   extraProbability           3645 non-null   int64 \n",
      " 10  extraCountryUsedByService  3584 non-null   object\n",
      " 11  extraUsedAI                3645 non-null   bool  \n",
      " 12  extraForcedGenderize       3645 non-null   bool  \n",
      " 13  isCorrect                  3645 non-null   bool  \n",
      "dtypes: bool(4), int64(3), object(7)\n",
      "memory usage: 299.1+ KB\n"
     ]
    }
   ],
   "source": [
    "df_wikidataFirstCountry = addIsCorrectColumn(df_wikidataFirstCountry)\n",
    "df_wikidataFirstCountry.info()"
   ]
  },
  {
   "cell_type": "code",
   "execution_count": 68,
   "id": "cc823e11",
   "metadata": {},
   "outputs": [],
   "source": [
    "df_wikidataFirstCountry.to_csv(\"C:/Users/brief/Desktop/Master/Ecole/Semestre3/M8_ProjetDeRecherche/code_ProjetDeRecherche/data/preprocessedTestData/GenderAPIIO/wikidataFirstCountryPre.csv\", index=False)"
   ]
  },
  {
   "cell_type": "code",
   "execution_count": 69,
   "id": "14e4542d",
   "metadata": {},
   "outputs": [],
   "source": [
    "try:\n",
    "    del df_wikidataFirstCountry\n",
    "except:\n",
    "    pass"
   ]
  },
  {
   "cell_type": "markdown",
   "id": "73fa02fe",
   "metadata": {},
   "source": [
    "## Wikidata First No country"
   ]
  },
  {
   "cell_type": "code",
   "execution_count": 70,
   "id": "8a0623a8",
   "metadata": {},
   "outputs": [],
   "source": [
    "df_wikidataFirstNoCountry = pd.read_csv(\"C:/Users/brief/Desktop/Master/Ecole/Semestre3/M8_ProjetDeRecherche/code_ProjetDeRecherche/data/TestedData/GenderAPIIO/wikidataFirstNoCountry.csv\")"
   ]
  },
  {
   "cell_type": "code",
   "execution_count": 71,
   "id": "ea59a38a",
   "metadata": {},
   "outputs": [
    {
     "name": "stdout",
     "output_type": "stream",
     "text": [
      "<class 'pandas.core.frame.DataFrame'>\n",
      "RangeIndex: 3937 entries, 0 to 3936\n",
      "Data columns (total 13 columns):\n",
      " #   Column                     Non-Null Count  Dtype \n",
      "---  ------                     --------------  ----- \n",
      " 0   index                      3937 non-null   int64 \n",
      " 1   fullName                   3937 non-null   object\n",
      " 2   namePassed                 3868 non-null   object\n",
      " 3   correctGender              3937 non-null   object\n",
      " 4   predictedGender            3937 non-null   object\n",
      " 5   localization               3645 non-null   object\n",
      " 6   useLocalization            3937 non-null   bool  \n",
      " 7   serviceUsed                3937 non-null   object\n",
      " 8   extraTotalName             3937 non-null   int64 \n",
      " 9   extraProbability           3937 non-null   int64 \n",
      " 10  extraCountryUsedByService  3855 non-null   object\n",
      " 11  extraUsedAI                3937 non-null   bool  \n",
      " 12  extraForcedGenderize       3937 non-null   bool  \n",
      "dtypes: bool(3), int64(3), object(7)\n",
      "memory usage: 319.2+ KB\n"
     ]
    }
   ],
   "source": [
    "df_wikidataFirstNoCountry.info()"
   ]
  },
  {
   "cell_type": "code",
   "execution_count": 72,
   "id": "9a235dd1",
   "metadata": {},
   "outputs": [
    {
     "data": {
      "application/vnd.microsoft.datawrangler.viewer.v0+json": {
       "columns": [
        {
         "name": "namePassed",
         "rawType": "object",
         "type": "unknown"
        },
        {
         "name": "count",
         "rawType": "int64",
         "type": "integer"
        }
       ],
       "ref": "6119165b-258c-414c-bc79-9f73c6749a38",
       "rows": [
        [
         null,
         "69"
        ],
        [
         "buddy",
         "34"
        ],
        [
         "cristina",
         "23"
        ],
        [
         "jean",
         "18"
        ],
        [
         "denise",
         "18"
        ],
        [
         "daniela",
         "17"
        ],
        [
         "daniel",
         "15"
        ],
        [
         "anna",
         "13"
        ],
        [
         "bud",
         "13"
        ],
        [
         "marie",
         "12"
        ],
        [
         "carlos",
         "10"
        ],
        [
         "maria",
         "10"
        ],
        [
         "david",
         "10"
        ],
        [
         "lászló",
         "10"
        ],
        [
         "gabriel",
         "10"
        ],
        [
         "mohamed",
         "9"
        ],
        [
         "eva",
         "8"
        ],
        [
         "michael",
         "8"
        ],
        [
         "eliane",
         "8"
        ],
        [
         "caroline",
         "8"
        ],
        [
         "josé",
         "8"
        ],
        [
         "débora",
         "7"
        ],
        [
         "célia",
         "7"
        ],
        [
         "elena",
         "7"
        ],
        [
         "diana",
         "7"
        ],
        [
         "john",
         "7"
        ],
        [
         "pierre",
         "7"
        ],
        [
         "dora",
         "7"
        ],
        [
         "cynthia",
         "7"
        ],
        [
         "francisco",
         "6"
        ],
        [
         "patricia",
         "6"
        ],
        [
         "anne",
         "6"
        ],
        [
         "luis",
         "6"
        ],
        [
         "sara",
         "6"
        ],
        [
         "esther",
         "6"
        ],
        [
         "ruth",
         "6"
        ],
        [
         "györgy",
         "6"
        ],
        [
         "eric",
         "6"
        ],
        [
         "lee",
         "6"
        ],
        [
         "alexandre",
         "6"
        ],
        [
         "eliana",
         "6"
        ],
        [
         "kevin",
         "6"
        ],
        [
         "elisabeth",
         "6"
        ],
        [
         "richard",
         "6"
        ],
        [
         "kim",
         "6"
        ],
        [
         "fernando",
         "6"
        ],
        [
         "miriam",
         "5"
        ],
        [
         "cris",
         "5"
        ],
        [
         "dona",
         "5"
        ],
        [
         "elizabeth",
         "5"
        ]
       ],
       "shape": {
        "columns": 1,
        "rows": 2637
       }
      },
      "text/plain": [
       "namePassed\n",
       "NaN         69\n",
       "buddy       34\n",
       "cristina    23\n",
       "jean        18\n",
       "denise      18\n",
       "            ..\n",
       "ghaniyya     1\n",
       "mervat       1\n",
       "enayat       1\n",
       "awa          1\n",
       "manuella     1\n",
       "Name: count, Length: 2637, dtype: int64"
      ]
     },
     "execution_count": 72,
     "metadata": {},
     "output_type": "execute_result"
    }
   ],
   "source": [
    "df_wikidataFirstNoCountry['namePassed'].value_counts(dropna=False)"
   ]
  },
  {
   "cell_type": "code",
   "execution_count": 73,
   "id": "12bb02c2",
   "metadata": {},
   "outputs": [],
   "source": [
    "df_all = pd.read_csv(\"C:/Users/brief/Desktop/Master/Ecole/Semestre3/M8_ProjetDeRecherche/code_ProjetDeRecherche/data/all.csv\")"
   ]
  },
  {
   "cell_type": "code",
   "execution_count": 74,
   "id": "881deee4",
   "metadata": {},
   "outputs": [
    {
     "data": {
      "application/vnd.microsoft.datawrangler.viewer.v0+json": {
       "columns": [
        {
         "name": "namePassed",
         "rawType": "object",
         "type": "string"
        },
        {
         "name": "count",
         "rawType": "int64",
         "type": "integer"
        }
       ],
       "ref": "15359715-217f-4d36-b151-5ec77307a75a",
       "rows": [
        [
         "buddy",
         "34"
        ],
        [
         "cristina",
         "23"
        ],
        [
         "jean",
         "18"
        ],
        [
         "denise",
         "18"
        ],
        [
         "daniela",
         "17"
        ],
        [
         "daniel",
         "15"
        ],
        [
         "anna",
         "13"
        ],
        [
         "bud",
         "13"
        ],
        [
         "marie",
         "12"
        ],
        [
         "maria",
         "10"
        ],
        [
         "lászló",
         "10"
        ],
        [
         "david",
         "10"
        ],
        [
         "carlos",
         "10"
        ],
        [
         "gabriel",
         "10"
        ],
        [
         "mohamed",
         "9"
        ],
        [
         "eliane",
         "8"
        ],
        [
         "caroline",
         "8"
        ],
        [
         "michael",
         "8"
        ],
        [
         "eva",
         "8"
        ],
        [
         "josé",
         "8"
        ],
        [
         "cynthia",
         "7"
        ],
        [
         "john",
         "7"
        ],
        [
         "dora",
         "7"
        ],
        [
         "célia",
         "7"
        ],
        [
         "diana",
         "7"
        ],
        [
         "débora",
         "7"
        ],
        [
         "elena",
         "7"
        ],
        [
         "pierre",
         "7"
        ],
        [
         "francisco",
         "6"
        ],
        [
         "elisabeth",
         "6"
        ],
        [
         "luis",
         "6"
        ],
        [
         "anne",
         "6"
        ],
        [
         "esther",
         "6"
        ],
        [
         "kim",
         "6"
        ],
        [
         "kevin",
         "6"
        ],
        [
         "alexandre",
         "6"
        ],
        [
         "lee",
         "6"
        ],
        [
         "richard",
         "6"
        ],
        [
         "györgy",
         "6"
        ],
        [
         "ruth",
         "6"
        ],
        [
         "fernando",
         "6"
        ],
        [
         "patricia",
         "6"
        ],
        [
         "sara",
         "6"
        ],
        [
         "eric",
         "6"
        ],
        [
         "eliana",
         "6"
        ],
        [
         "catherine",
         "5"
        ],
        [
         "christine",
         "5"
        ],
        [
         "karin",
         "5"
        ],
        [
         "edith",
         "5"
        ],
        [
         "hans",
         "5"
        ]
       ],
       "shape": {
        "columns": 1,
        "rows": 2698
       }
      },
      "text/plain": [
       "namePassed\n",
       "buddy       34\n",
       "cristina    23\n",
       "jean        18\n",
       "denise      18\n",
       "daniela     17\n",
       "            ..\n",
       "osvaldo      1\n",
       "mário        1\n",
       "lalo         1\n",
       "ismail       1\n",
       "gilberto     1\n",
       "Name: count, Length: 2698, dtype: int64"
      ]
     },
     "execution_count": 74,
     "metadata": {},
     "output_type": "execute_result"
    }
   ],
   "source": [
    "id_to_firstname = df_all.set_index('id')['firstName']\n",
    "\n",
    "# Fill missing values in namePassed\n",
    "df_wikidataFirstNoCountry['namePassed'] = df_wikidataFirstNoCountry['namePassed'].fillna(\n",
    "    df_wikidataFirstNoCountry['index'].map(id_to_firstname)\n",
    ")\n",
    "df_wikidataFirstNoCountry['namePassed'].value_counts(dropna=False)"
   ]
  },
  {
   "cell_type": "code",
   "execution_count": 75,
   "id": "45d58cfd",
   "metadata": {},
   "outputs": [
    {
     "name": "stdout",
     "output_type": "stream",
     "text": [
      "<class 'pandas.core.frame.DataFrame'>\n",
      "RangeIndex: 3937 entries, 0 to 3936\n",
      "Data columns (total 13 columns):\n",
      " #   Column                     Non-Null Count  Dtype \n",
      "---  ------                     --------------  ----- \n",
      " 0   index                      3937 non-null   int64 \n",
      " 1   fullName                   3937 non-null   object\n",
      " 2   namePassed                 3937 non-null   object\n",
      " 3   correctGender              3937 non-null   object\n",
      " 4   predictedGender            3937 non-null   object\n",
      " 5   localization               3645 non-null   object\n",
      " 6   useLocalization            3937 non-null   bool  \n",
      " 7   serviceUsed                3937 non-null   object\n",
      " 8   extraTotalName             3937 non-null   int64 \n",
      " 9   extraProbability           3937 non-null   int64 \n",
      " 10  extraCountryUsedByService  3855 non-null   object\n",
      " 11  extraUsedAI                3937 non-null   bool  \n",
      " 12  extraForcedGenderize       3937 non-null   bool  \n",
      "dtypes: bool(3), int64(3), object(7)\n",
      "memory usage: 319.2+ KB\n"
     ]
    }
   ],
   "source": [
    "df_wikidataFirstNoCountry.info()"
   ]
  },
  {
   "cell_type": "code",
   "execution_count": 76,
   "id": "fca26c84",
   "metadata": {},
   "outputs": [],
   "source": [
    "df_wikidataFirstNoCountry.to_csv(\"C:/Users/brief/Desktop/Master/Ecole/Semestre3/M8_ProjetDeRecherche/code_ProjetDeRecherche/data/preprocessedTestData/GenderAPIIO/wikidataFirstNoCountryPre.csv\", index=False)"
   ]
  }
 ],
 "metadata": {
  "kernelspec": {
   "display_name": "name2gender",
   "language": "python",
   "name": "python3"
  },
  "language_info": {
   "codemirror_mode": {
    "name": "ipython",
    "version": 3
   },
   "file_extension": ".py",
   "mimetype": "text/x-python",
   "name": "python",
   "nbconvert_exporter": "python",
   "pygments_lexer": "ipython3",
   "version": "3.12.4"
  }
 },
 "nbformat": 4,
 "nbformat_minor": 5
}
