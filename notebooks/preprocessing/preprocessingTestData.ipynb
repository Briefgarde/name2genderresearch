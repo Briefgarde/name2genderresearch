{
 "cells": [
  {
   "cell_type": "markdown",
   "id": "ca84884e",
   "metadata": {},
   "source": [
    "The goal of this notebook is to smooth out the differences between various tools used in this study when collecting their answers on our datasets. It does not change the nature of their answer, but simply insure that they can be processed for analysis without trouble. "
   ]
  },
  {
   "cell_type": "code",
   "execution_count": null,
   "id": "f1d90ecb",
   "metadata": {},
   "outputs": [
    {
     "name": "stdout",
     "output_type": "stream",
     "text": [
      "c:\\Users\\brief\n",
      "The autoreload extension is already loaded. To reload it, use:\n",
      "  %reload_ext autoreload\n"
     ]
    },
    {
     "name": "stderr",
     "output_type": "stream",
     "text": [
      "C:\\Users\\brief\\AppData\\Roaming\\Python\\Python312\\site-packages\\IPython\\core\\magics\\osm.py:417: UserWarning: This is now an optional IPython functionality, setting dhist requires you to install the `pickleshare` library.\n",
      "  self.shell.db['dhist'] = compress_dhist(dhist)[-100:]\n"
     ]
    }
   ],
   "source": [
    "import pandas as pd\n",
    "import matplotlib.pyplot as plt\n",
    "%cd ../..\n",
    "%load_ext autoreload\n",
    "%autoreload 2"
   ]
  },
  {
   "cell_type": "code",
   "execution_count": 27,
   "id": "99e061b2",
   "metadata": {},
   "outputs": [],
   "source": [
    "def fillNaWithUnknown(df:pd.DataFrame)->pd.DataFrame:\n",
    "    df.loc[df['predictedGender'].isna(), 'predictedGender'] = \"unknown\"\n",
    "    return df"
   ]
  },
  {
   "cell_type": "code",
   "execution_count": 37,
   "id": "018dad6f",
   "metadata": {},
   "outputs": [],
   "source": [
    "def addIsCorrectColumn(df:pd.DataFrame)->pd.DataFrame:\n",
    "    df[\"isCorrect\"] = df['correctGender'] == df['predictedGender']\n",
    "    return df"
   ]
  },
  {
   "cell_type": "markdown",
   "id": "120ffc94",
   "metadata": {},
   "source": [
    "# Genderize"
   ]
  },
  {
   "cell_type": "markdown",
   "id": "18d9dd89",
   "metadata": {},
   "source": [
    "## Kaggle First Country"
   ]
  },
  {
   "cell_type": "code",
   "execution_count": 28,
   "id": "d61dabb4",
   "metadata": {},
   "outputs": [],
   "source": [
    "df_kaggleFirstCountry = pd.read_csv(\"C:/Users/brief/Desktop/Master/Ecole/Semestre3/M8_ProjetDeRecherche/code_ProjetDeRecherche/data/TestedData/Genderize/kaggleFirstCountry.csv\")"
   ]
  },
  {
   "cell_type": "code",
   "execution_count": 29,
   "id": "e43191f4",
   "metadata": {},
   "outputs": [
    {
     "data": {
      "application/vnd.microsoft.datawrangler.viewer.v0+json": {
       "columns": [
        {
         "name": "index",
         "rawType": "int64",
         "type": "integer"
        },
        {
         "name": "index",
         "rawType": "int64",
         "type": "integer"
        },
        {
         "name": "fullName",
         "rawType": "object",
         "type": "string"
        },
        {
         "name": "namePassed",
         "rawType": "object",
         "type": "string"
        },
        {
         "name": "correctGender",
         "rawType": "object",
         "type": "string"
        },
        {
         "name": "predictedGender",
         "rawType": "object",
         "type": "string"
        },
        {
         "name": "localization",
         "rawType": "object",
         "type": "string"
        },
        {
         "name": "useLocalization",
         "rawType": "bool",
         "type": "boolean"
        },
        {
         "name": "serviceUsed",
         "rawType": "object",
         "type": "string"
        },
        {
         "name": "extraCount",
         "rawType": "int64",
         "type": "integer"
        },
        {
         "name": "extraProbability",
         "rawType": "float64",
         "type": "float"
        }
       ],
       "ref": "517a8231-4bca-4fc2-b1b4-5a82c2c07299",
       "rows": [
        [
         "0",
         "4874",
         "ALEKSANYAN Artur",
         "Artur",
         "male",
         "male",
         "AM",
         "True",
         "genderize.IO",
         "138242",
         "1.0"
        ],
        [
         "1",
         "4875",
         "AMOYAN Malkhas",
         "Malkhas",
         "male",
         "male",
         "AM",
         "True",
         "genderize.IO",
         "3",
         "1.0"
        ],
        [
         "2",
         "4876",
         "GALSTYAN Slavik",
         "Slavik",
         "male",
         "male",
         "AM",
         "True",
         "genderize.IO",
         "2018",
         "0.99"
        ],
        [
         "3",
         "4877",
         "HARUTYUNYAN Arsen",
         "Arsen",
         "male",
         "male",
         "AM",
         "True",
         "genderize.IO",
         "10342",
         "0.99"
        ],
        [
         "4",
         "4878",
         "TEVANYAN Vazgen",
         "Vazgen",
         "male",
         "male",
         "AM",
         "True",
         "genderize.IO",
         "398",
         "0.98"
        ]
       ],
       "shape": {
        "columns": 10,
        "rows": 5
       }
      },
      "text/html": [
       "<div>\n",
       "<style scoped>\n",
       "    .dataframe tbody tr th:only-of-type {\n",
       "        vertical-align: middle;\n",
       "    }\n",
       "\n",
       "    .dataframe tbody tr th {\n",
       "        vertical-align: top;\n",
       "    }\n",
       "\n",
       "    .dataframe thead th {\n",
       "        text-align: right;\n",
       "    }\n",
       "</style>\n",
       "<table border=\"1\" class=\"dataframe\">\n",
       "  <thead>\n",
       "    <tr style=\"text-align: right;\">\n",
       "      <th></th>\n",
       "      <th>index</th>\n",
       "      <th>fullName</th>\n",
       "      <th>namePassed</th>\n",
       "      <th>correctGender</th>\n",
       "      <th>predictedGender</th>\n",
       "      <th>localization</th>\n",
       "      <th>useLocalization</th>\n",
       "      <th>serviceUsed</th>\n",
       "      <th>extraCount</th>\n",
       "      <th>extraProbability</th>\n",
       "    </tr>\n",
       "  </thead>\n",
       "  <tbody>\n",
       "    <tr>\n",
       "      <th>0</th>\n",
       "      <td>4874</td>\n",
       "      <td>ALEKSANYAN Artur</td>\n",
       "      <td>Artur</td>\n",
       "      <td>male</td>\n",
       "      <td>male</td>\n",
       "      <td>AM</td>\n",
       "      <td>True</td>\n",
       "      <td>genderize.IO</td>\n",
       "      <td>138242</td>\n",
       "      <td>1.00</td>\n",
       "    </tr>\n",
       "    <tr>\n",
       "      <th>1</th>\n",
       "      <td>4875</td>\n",
       "      <td>AMOYAN Malkhas</td>\n",
       "      <td>Malkhas</td>\n",
       "      <td>male</td>\n",
       "      <td>male</td>\n",
       "      <td>AM</td>\n",
       "      <td>True</td>\n",
       "      <td>genderize.IO</td>\n",
       "      <td>3</td>\n",
       "      <td>1.00</td>\n",
       "    </tr>\n",
       "    <tr>\n",
       "      <th>2</th>\n",
       "      <td>4876</td>\n",
       "      <td>GALSTYAN Slavik</td>\n",
       "      <td>Slavik</td>\n",
       "      <td>male</td>\n",
       "      <td>male</td>\n",
       "      <td>AM</td>\n",
       "      <td>True</td>\n",
       "      <td>genderize.IO</td>\n",
       "      <td>2018</td>\n",
       "      <td>0.99</td>\n",
       "    </tr>\n",
       "    <tr>\n",
       "      <th>3</th>\n",
       "      <td>4877</td>\n",
       "      <td>HARUTYUNYAN Arsen</td>\n",
       "      <td>Arsen</td>\n",
       "      <td>male</td>\n",
       "      <td>male</td>\n",
       "      <td>AM</td>\n",
       "      <td>True</td>\n",
       "      <td>genderize.IO</td>\n",
       "      <td>10342</td>\n",
       "      <td>0.99</td>\n",
       "    </tr>\n",
       "    <tr>\n",
       "      <th>4</th>\n",
       "      <td>4878</td>\n",
       "      <td>TEVANYAN Vazgen</td>\n",
       "      <td>Vazgen</td>\n",
       "      <td>male</td>\n",
       "      <td>male</td>\n",
       "      <td>AM</td>\n",
       "      <td>True</td>\n",
       "      <td>genderize.IO</td>\n",
       "      <td>398</td>\n",
       "      <td>0.98</td>\n",
       "    </tr>\n",
       "  </tbody>\n",
       "</table>\n",
       "</div>"
      ],
      "text/plain": [
       "   index           fullName namePassed correctGender predictedGender  \\\n",
       "0   4874   ALEKSANYAN Artur      Artur          male            male   \n",
       "1   4875     AMOYAN Malkhas    Malkhas          male            male   \n",
       "2   4876    GALSTYAN Slavik     Slavik          male            male   \n",
       "3   4877  HARUTYUNYAN Arsen      Arsen          male            male   \n",
       "4   4878    TEVANYAN Vazgen     Vazgen          male            male   \n",
       "\n",
       "  localization  useLocalization   serviceUsed  extraCount  extraProbability  \n",
       "0           AM             True  genderize.IO      138242              1.00  \n",
       "1           AM             True  genderize.IO           3              1.00  \n",
       "2           AM             True  genderize.IO        2018              0.99  \n",
       "3           AM             True  genderize.IO       10342              0.99  \n",
       "4           AM             True  genderize.IO         398              0.98  "
      ]
     },
     "execution_count": 29,
     "metadata": {},
     "output_type": "execute_result"
    }
   ],
   "source": [
    "df_kaggleFirstCountry.head()"
   ]
  },
  {
   "cell_type": "code",
   "execution_count": 30,
   "id": "9f6ab52b",
   "metadata": {},
   "outputs": [
    {
     "name": "stdout",
     "output_type": "stream",
     "text": [
      "<class 'pandas.core.frame.DataFrame'>\n",
      "RangeIndex: 9078 entries, 0 to 9077\n",
      "Data columns (total 10 columns):\n",
      " #   Column            Non-Null Count  Dtype  \n",
      "---  ------            --------------  -----  \n",
      " 0   index             9078 non-null   int64  \n",
      " 1   fullName          9078 non-null   object \n",
      " 2   namePassed        9078 non-null   object \n",
      " 3   correctGender     9078 non-null   object \n",
      " 4   predictedGender   8967 non-null   object \n",
      " 5   localization      9078 non-null   object \n",
      " 6   useLocalization   9078 non-null   bool   \n",
      " 7   serviceUsed       9078 non-null   object \n",
      " 8   extraCount        9078 non-null   int64  \n",
      " 9   extraProbability  9078 non-null   float64\n",
      "dtypes: bool(1), float64(1), int64(2), object(6)\n",
      "memory usage: 647.3+ KB\n"
     ]
    }
   ],
   "source": [
    "df_kaggleFirstCountry.info()"
   ]
  },
  {
   "cell_type": "code",
   "execution_count": 31,
   "id": "1be14d1e",
   "metadata": {},
   "outputs": [
    {
     "data": {
      "application/vnd.microsoft.datawrangler.viewer.v0+json": {
       "columns": [
        {
         "name": "predictedGender",
         "rawType": "object",
         "type": "unknown"
        },
        {
         "name": "count",
         "rawType": "int64",
         "type": "integer"
        }
       ],
       "ref": "a357e36a-cad0-415d-9774-eedcd9a07bd4",
       "rows": [
        [
         "male",
         "4720"
        ],
        [
         "female",
         "4247"
        ],
        [
         null,
         "111"
        ]
       ],
       "shape": {
        "columns": 1,
        "rows": 3
       }
      },
      "text/plain": [
       "predictedGender\n",
       "male      4720\n",
       "female    4247\n",
       "NaN        111\n",
       "Name: count, dtype: int64"
      ]
     },
     "execution_count": 31,
     "metadata": {},
     "output_type": "execute_result"
    }
   ],
   "source": [
    "df_kaggleFirstCountry['predictedGender'].value_counts(dropna=False)"
   ]
  },
  {
   "cell_type": "code",
   "execution_count": 32,
   "id": "c44072a6",
   "metadata": {},
   "outputs": [
    {
     "name": "stdout",
     "output_type": "stream",
     "text": [
      "predictedGender\n",
      "male       4720\n",
      "female     4247\n",
      "unknown     111\n",
      "Name: count, dtype: int64\n"
     ]
    },
    {
     "data": {
      "application/vnd.microsoft.datawrangler.viewer.v0+json": {
       "columns": [
        {
         "name": "correctGender",
         "rawType": "object",
         "type": "string"
        },
        {
         "name": "count",
         "rawType": "int64",
         "type": "integer"
        }
       ],
       "ref": "42396616-5891-4003-9783-5835f936811b",
       "rows": [
        [
         "male",
         "4672"
        ],
        [
         "female",
         "4406"
        ]
       ],
       "shape": {
        "columns": 1,
        "rows": 2
       }
      },
      "text/plain": [
       "correctGender\n",
       "male      4672\n",
       "female    4406\n",
       "Name: count, dtype: int64"
      ]
     },
     "execution_count": 32,
     "metadata": {},
     "output_type": "execute_result"
    }
   ],
   "source": [
    "df_kaggleFirstCountry = fillNaWithUnknown(df_kaggleFirstCountry)\n",
    "print(df_kaggleFirstCountry['predictedGender'].value_counts(dropna=False))\n",
    "df_kaggleFirstCountry['correctGender'].value_counts(dropna=False)"
   ]
  },
  {
   "cell_type": "code",
   "execution_count": 39,
   "id": "0224586d",
   "metadata": {},
   "outputs": [
    {
     "data": {
      "application/vnd.microsoft.datawrangler.viewer.v0+json": {
       "columns": [
        {
         "name": "isCorrect",
         "rawType": "bool",
         "type": "boolean"
        },
        {
         "name": "count",
         "rawType": "int64",
         "type": "integer"
        }
       ],
       "ref": "4e53cb94-7359-4084-a34d-5bd4de04414a",
       "rows": [
        [
         "True",
         "8471"
        ],
        [
         "False",
         "607"
        ]
       ],
       "shape": {
        "columns": 1,
        "rows": 2
       }
      },
      "text/plain": [
       "isCorrect\n",
       "True     8471\n",
       "False     607\n",
       "Name: count, dtype: int64"
      ]
     },
     "execution_count": 39,
     "metadata": {},
     "output_type": "execute_result"
    }
   ],
   "source": [
    "df_kaggleFirstCountry = addIsCorrectColumn(df_kaggleFirstCountry)\n",
    "df_kaggleFirstCountry['isCorrect'].value_counts()"
   ]
  },
  {
   "cell_type": "code",
   "execution_count": 42,
   "id": "39308488",
   "metadata": {},
   "outputs": [],
   "source": [
    "df_kaggleFirstCountry.to_csv(\"C:/Users/brief/Desktop/Master/Ecole/Semestre3/M8_ProjetDeRecherche/code_ProjetDeRecherche/data/preprocessedTestData/Genderize/kaggleFirstCountryPre.csv\", index=False)"
   ]
  },
  {
   "cell_type": "code",
   "execution_count": 43,
   "id": "1b16d5d9",
   "metadata": {},
   "outputs": [],
   "source": [
    "try:\n",
    "    del df_kaggleFirstCountry\n",
    "except:\n",
    "    pass"
   ]
  },
  {
   "cell_type": "markdown",
   "id": "4a808091",
   "metadata": {},
   "source": [
    "## Wikidata First Country"
   ]
  },
  {
   "cell_type": "code",
   "execution_count": 44,
   "id": "6d90e902",
   "metadata": {},
   "outputs": [],
   "source": [
    "df_wikidataFirstCountry = pd.read_csv(\"C:/Users/brief/Desktop/Master/Ecole/Semestre3/M8_ProjetDeRecherche/code_ProjetDeRecherche/data/TestedData/Genderize/wikidataFirstCountry.csv\")"
   ]
  },
  {
   "cell_type": "code",
   "execution_count": 45,
   "id": "6c1138b6",
   "metadata": {},
   "outputs": [
    {
     "name": "stdout",
     "output_type": "stream",
     "text": [
      "<class 'pandas.core.frame.DataFrame'>\n",
      "RangeIndex: 3645 entries, 0 to 3644\n",
      "Data columns (total 10 columns):\n",
      " #   Column            Non-Null Count  Dtype  \n",
      "---  ------            --------------  -----  \n",
      " 0   index             3645 non-null   int64  \n",
      " 1   fullName          3645 non-null   object \n",
      " 2   namePassed        3645 non-null   object \n",
      " 3   correctGender     3645 non-null   object \n",
      " 4   predictedGender   3606 non-null   object \n",
      " 5   localization      3645 non-null   object \n",
      " 6   useLocalization   3645 non-null   bool   \n",
      " 7   serviceUsed       3645 non-null   object \n",
      " 8   extraCount        3645 non-null   int64  \n",
      " 9   extraProbability  3645 non-null   float64\n",
      "dtypes: bool(1), float64(1), int64(2), object(6)\n",
      "memory usage: 260.0+ KB\n"
     ]
    }
   ],
   "source": [
    "df_wikidataFirstCountry.info()"
   ]
  },
  {
   "cell_type": "code",
   "execution_count": 47,
   "id": "f3762d63",
   "metadata": {},
   "outputs": [
    {
     "data": {
      "application/vnd.microsoft.datawrangler.viewer.v0+json": {
       "columns": [
        {
         "name": "predictedGender",
         "rawType": "object",
         "type": "unknown"
        },
        {
         "name": "count",
         "rawType": "int64",
         "type": "integer"
        }
       ],
       "ref": "fcf76a6d-550e-41a6-beb7-3ccc1012d56c",
       "rows": [
        [
         "male",
         "1832"
        ],
        [
         "female",
         "1774"
        ],
        [
         null,
         "39"
        ]
       ],
       "shape": {
        "columns": 1,
        "rows": 3
       }
      },
      "text/plain": [
       "predictedGender\n",
       "male      1832\n",
       "female    1774\n",
       "NaN         39\n",
       "Name: count, dtype: int64"
      ]
     },
     "execution_count": 47,
     "metadata": {},
     "output_type": "execute_result"
    }
   ],
   "source": [
    "df_wikidataFirstCountry['predictedGender'].value_counts(dropna=False)"
   ]
  },
  {
   "cell_type": "code",
   "execution_count": 49,
   "id": "ac96e34f",
   "metadata": {},
   "outputs": [
    {
     "data": {
      "application/vnd.microsoft.datawrangler.viewer.v0+json": {
       "columns": [
        {
         "name": "predictedGender",
         "rawType": "object",
         "type": "string"
        },
        {
         "name": "count",
         "rawType": "int64",
         "type": "integer"
        }
       ],
       "ref": "66fe6885-6dac-44d4-8e57-87f8d3461283",
       "rows": [
        [
         "male",
         "1832"
        ],
        [
         "female",
         "1774"
        ],
        [
         "unknown",
         "39"
        ]
       ],
       "shape": {
        "columns": 1,
        "rows": 3
       }
      },
      "text/plain": [
       "predictedGender\n",
       "male       1832\n",
       "female     1774\n",
       "unknown      39\n",
       "Name: count, dtype: int64"
      ]
     },
     "execution_count": 49,
     "metadata": {},
     "output_type": "execute_result"
    }
   ],
   "source": [
    "df_wikidataFirstCountry = fillNaWithUnknown(df_wikidataFirstCountry)\n",
    "df_wikidataFirstCountry = addIsCorrectColumn(df_wikidataFirstCountry)\n",
    "df_wikidataFirstCountry['predictedGender'].value_counts(dropna=False)"
   ]
  },
  {
   "cell_type": "code",
   "execution_count": 53,
   "id": "c0cb9ec7",
   "metadata": {},
   "outputs": [
    {
     "data": {
      "application/vnd.microsoft.datawrangler.viewer.v0+json": {
       "columns": [
        {
         "name": "index",
         "rawType": "object",
         "type": "string"
        },
        {
         "name": "fullName",
         "rawType": "object",
         "type": "unknown"
        },
        {
         "name": "namePassed",
         "rawType": "object",
         "type": "unknown"
        },
        {
         "name": "correctGender",
         "rawType": "object",
         "type": "unknown"
        },
        {
         "name": "predictedGender",
         "rawType": "object",
         "type": "unknown"
        },
        {
         "name": "localization",
         "rawType": "object",
         "type": "unknown"
        },
        {
         "name": "serviceUsed",
         "rawType": "object",
         "type": "unknown"
        }
       ],
       "ref": "65cbcd48-6c79-47b4-b1a8-aa49a697cf4c",
       "rows": [
        [
         "count",
         "3645",
         "3645",
         "3645",
         "3645",
         "3645",
         "3645"
        ],
        [
         "unique",
         "3641",
         "2535",
         "2",
         "3",
         "148",
         "1"
        ],
        [
         "top",
         "Katalin Fodor",
         "Buddy",
         "female",
         "male",
         "US",
         "genderize.IO"
        ],
        [
         "freq",
         "2",
         "34",
         "1875",
         "1832",
         "483",
         "3645"
        ]
       ],
       "shape": {
        "columns": 6,
        "rows": 4
       }
      },
      "text/html": [
       "<div>\n",
       "<style scoped>\n",
       "    .dataframe tbody tr th:only-of-type {\n",
       "        vertical-align: middle;\n",
       "    }\n",
       "\n",
       "    .dataframe tbody tr th {\n",
       "        vertical-align: top;\n",
       "    }\n",
       "\n",
       "    .dataframe thead th {\n",
       "        text-align: right;\n",
       "    }\n",
       "</style>\n",
       "<table border=\"1\" class=\"dataframe\">\n",
       "  <thead>\n",
       "    <tr style=\"text-align: right;\">\n",
       "      <th></th>\n",
       "      <th>fullName</th>\n",
       "      <th>namePassed</th>\n",
       "      <th>correctGender</th>\n",
       "      <th>predictedGender</th>\n",
       "      <th>localization</th>\n",
       "      <th>serviceUsed</th>\n",
       "    </tr>\n",
       "  </thead>\n",
       "  <tbody>\n",
       "    <tr>\n",
       "      <th>count</th>\n",
       "      <td>3645</td>\n",
       "      <td>3645</td>\n",
       "      <td>3645</td>\n",
       "      <td>3645</td>\n",
       "      <td>3645</td>\n",
       "      <td>3645</td>\n",
       "    </tr>\n",
       "    <tr>\n",
       "      <th>unique</th>\n",
       "      <td>3641</td>\n",
       "      <td>2535</td>\n",
       "      <td>2</td>\n",
       "      <td>3</td>\n",
       "      <td>148</td>\n",
       "      <td>1</td>\n",
       "    </tr>\n",
       "    <tr>\n",
       "      <th>top</th>\n",
       "      <td>Katalin Fodor</td>\n",
       "      <td>Buddy</td>\n",
       "      <td>female</td>\n",
       "      <td>male</td>\n",
       "      <td>US</td>\n",
       "      <td>genderize.IO</td>\n",
       "    </tr>\n",
       "    <tr>\n",
       "      <th>freq</th>\n",
       "      <td>2</td>\n",
       "      <td>34</td>\n",
       "      <td>1875</td>\n",
       "      <td>1832</td>\n",
       "      <td>483</td>\n",
       "      <td>3645</td>\n",
       "    </tr>\n",
       "  </tbody>\n",
       "</table>\n",
       "</div>"
      ],
      "text/plain": [
       "             fullName namePassed correctGender predictedGender localization  \\\n",
       "count            3645       3645          3645            3645         3645   \n",
       "unique           3641       2535             2               3          148   \n",
       "top     Katalin Fodor      Buddy        female            male           US   \n",
       "freq                2         34          1875            1832          483   \n",
       "\n",
       "         serviceUsed  \n",
       "count           3645  \n",
       "unique             1  \n",
       "top     genderize.IO  \n",
       "freq            3645  "
      ]
     },
     "execution_count": 53,
     "metadata": {},
     "output_type": "execute_result"
    }
   ],
   "source": [
    "df_wikidataFirstCountry.describe(include='object')"
   ]
  },
  {
   "cell_type": "code",
   "execution_count": 54,
   "id": "39fcb791",
   "metadata": {},
   "outputs": [],
   "source": [
    "df_wikidataFirstCountry.to_csv(\"C:/Users/brief/Desktop/Master/Ecole/Semestre3/M8_ProjetDeRecherche/code_ProjetDeRecherche/data/preprocessedTestData/Genderize/wikidataFirstCountryPre.csv\", index=False)"
   ]
  },
  {
   "cell_type": "code",
   "execution_count": 55,
   "id": "6a8cd7dd",
   "metadata": {},
   "outputs": [],
   "source": [
    "try:\n",
    "    del df_wikidataFirstCountry\n",
    "except:\n",
    "    pass"
   ]
  },
  {
   "cell_type": "markdown",
   "id": "afae34b4",
   "metadata": {},
   "source": [
    "## wikidata First No Country"
   ]
  },
  {
   "cell_type": "code",
   "execution_count": 56,
   "id": "a04e6df0",
   "metadata": {},
   "outputs": [],
   "source": [
    "df_wikidataFirstNoCountry = pd.read_csv(\"C:/Users/brief/Desktop/Master/Ecole/Semestre3/M8_ProjetDeRecherche/code_ProjetDeRecherche/data/TestedData/Genderize/wikidataFirstNoCountry.csv\")"
   ]
  },
  {
   "cell_type": "code",
   "execution_count": 57,
   "id": "e0ceead9",
   "metadata": {},
   "outputs": [
    {
     "name": "stdout",
     "output_type": "stream",
     "text": [
      "<class 'pandas.core.frame.DataFrame'>\n",
      "RangeIndex: 3937 entries, 0 to 3936\n",
      "Data columns (total 10 columns):\n",
      " #   Column            Non-Null Count  Dtype  \n",
      "---  ------            --------------  -----  \n",
      " 0   index             3937 non-null   int64  \n",
      " 1   fullName          3937 non-null   object \n",
      " 2   namePassed        3937 non-null   object \n",
      " 3   correctGender     3937 non-null   object \n",
      " 4   predictedGender   3937 non-null   object \n",
      " 5   localization      3645 non-null   object \n",
      " 6   useLocalization   3937 non-null   bool   \n",
      " 7   serviceUsed       3937 non-null   object \n",
      " 8   extraCount        3937 non-null   int64  \n",
      " 9   extraProbability  3937 non-null   float64\n",
      "dtypes: bool(1), float64(1), int64(2), object(6)\n",
      "memory usage: 280.8+ KB\n"
     ]
    }
   ],
   "source": [
    "df_wikidataFirstNoCountry.info(verbose=True)"
   ]
  },
  {
   "cell_type": "code",
   "execution_count": 63,
   "id": "546992b4",
   "metadata": {},
   "outputs": [],
   "source": [
    "df_wikidataFirstNoCountry.to_csv(\"C:/Users/brief/Desktop/Master/Ecole/Semestre3/M8_ProjetDeRecherche/code_ProjetDeRecherche/data/preprocessedTestData/Genderize/wikidataFirstNoCountryPre.csv\", index=False)"
   ]
  },
  {
   "cell_type": "code",
   "execution_count": 64,
   "id": "a614d939",
   "metadata": {},
   "outputs": [],
   "source": [
    "try:\n",
    "    del df_wikidataFirstNoCountry\n",
    "except:\n",
    "    pass"
   ]
  }
 ],
 "metadata": {
  "kernelspec": {
   "display_name": "name2gender",
   "language": "python",
   "name": "python3"
  },
  "language_info": {
   "codemirror_mode": {
    "name": "ipython",
    "version": 3
   },
   "file_extension": ".py",
   "mimetype": "text/x-python",
   "name": "python",
   "nbconvert_exporter": "python",
   "pygments_lexer": "ipython3",
   "version": "3.12.4"
  }
 },
 "nbformat": 4,
 "nbformat_minor": 5
}
