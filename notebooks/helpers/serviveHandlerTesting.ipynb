{
 "cells": [
  {
   "cell_type": "code",
   "execution_count": 45,
   "id": "5daf4ab4",
   "metadata": {},
   "outputs": [
    {
     "name": "stdout",
     "output_type": "stream",
     "text": [
      "The autoreload extension is already loaded. To reload it, use:\n",
      "  %reload_ext autoreload\n"
     ]
    }
   ],
   "source": [
    "import pandas as pd\n",
    "import serviceWrapperAsync as wrapper\n",
    "import serviceHandlers as handler\n",
    "from serviceWrapperAsync import NamSorEndpoint as endpoint\n",
    "\n",
    "import evaluator\n",
    "\n",
    "%load_ext autoreload\n",
    "%autoreload 2"
   ]
  },
  {
   "cell_type": "code",
   "execution_count": 31,
   "id": "68f47747",
   "metadata": {},
   "outputs": [
    {
     "data": {
      "application/vnd.microsoft.datawrangler.viewer.v0+json": {
       "columns": [
        {
         "name": "index",
         "rawType": "int64",
         "type": "integer"
        },
        {
         "name": "id",
         "rawType": "int64",
         "type": "integer"
        },
        {
         "name": "fullName",
         "rawType": "object",
         "type": "string"
        },
        {
         "name": "firstName",
         "rawType": "object",
         "type": "string"
        },
        {
         "name": "lastName",
         "rawType": "object",
         "type": "string"
        },
        {
         "name": "gender",
         "rawType": "object",
         "type": "string"
        },
        {
         "name": "isoCountry",
         "rawType": "object",
         "type": "string"
        },
        {
         "name": "continent",
         "rawType": "object",
         "type": "string"
        },
        {
         "name": "birthYear",
         "rawType": "int64",
         "type": "integer"
        },
        {
         "name": "hasMiddleName",
         "rawType": "bool",
         "type": "boolean"
        },
        {
         "name": "hasNoLastName",
         "rawType": "bool",
         "type": "boolean"
        },
        {
         "name": "source",
         "rawType": "object",
         "type": "string"
        }
       ],
       "ref": "8679cba9-0d24-4072-9c4d-8b868a383a48",
       "rows": [
        [
         "2913",
         "2913",
         "Kamal Sofo",
         "Kamal",
         "Sofo",
         "male",
         "GH",
         "Africa",
         "1988",
         "False",
         "False",
         "wikidata"
        ],
        [
         "12114",
         "12114",
         "BUCKINGHAM Ben",
         "Ben",
         "BUCKINGHAM",
         "male",
         "AU",
         "Oceania",
         "1991",
         "False",
         "False",
         "kaggleOlympic"
        ],
        [
         "13177",
         "13177",
         "LAURENZANO Gabriele",
         "Gabriele",
         "LAURENZANO",
         "male",
         "IT",
         "Europe",
         "2003",
         "False",
         "False",
         "kaggleOlympic"
        ],
        [
         "14549",
         "14549",
         "CARRASCOSA Borja",
         "Borja",
         "CARRASCOSA",
         "male",
         "ES",
         "Europe",
         "1982",
         "False",
         "False",
         "kaggleOlympic"
        ],
        [
         "2029",
         "2029",
         "Lourdes Cuesta",
         "Lourdes",
         "Cuesta",
         "female",
         "EC",
         "South America",
         "1976",
         "False",
         "False",
         "wikidata"
        ]
       ],
       "shape": {
        "columns": 11,
        "rows": 5
       }
      },
      "text/html": [
       "<div>\n",
       "<style scoped>\n",
       "    .dataframe tbody tr th:only-of-type {\n",
       "        vertical-align: middle;\n",
       "    }\n",
       "\n",
       "    .dataframe tbody tr th {\n",
       "        vertical-align: top;\n",
       "    }\n",
       "\n",
       "    .dataframe thead th {\n",
       "        text-align: right;\n",
       "    }\n",
       "</style>\n",
       "<table border=\"1\" class=\"dataframe\">\n",
       "  <thead>\n",
       "    <tr style=\"text-align: right;\">\n",
       "      <th></th>\n",
       "      <th>id</th>\n",
       "      <th>fullName</th>\n",
       "      <th>firstName</th>\n",
       "      <th>lastName</th>\n",
       "      <th>gender</th>\n",
       "      <th>isoCountry</th>\n",
       "      <th>continent</th>\n",
       "      <th>birthYear</th>\n",
       "      <th>hasMiddleName</th>\n",
       "      <th>hasNoLastName</th>\n",
       "      <th>source</th>\n",
       "    </tr>\n",
       "  </thead>\n",
       "  <tbody>\n",
       "    <tr>\n",
       "      <th>2913</th>\n",
       "      <td>2913</td>\n",
       "      <td>Kamal Sofo</td>\n",
       "      <td>Kamal</td>\n",
       "      <td>Sofo</td>\n",
       "      <td>male</td>\n",
       "      <td>GH</td>\n",
       "      <td>Africa</td>\n",
       "      <td>1988</td>\n",
       "      <td>False</td>\n",
       "      <td>False</td>\n",
       "      <td>wikidata</td>\n",
       "    </tr>\n",
       "    <tr>\n",
       "      <th>12114</th>\n",
       "      <td>12114</td>\n",
       "      <td>BUCKINGHAM Ben</td>\n",
       "      <td>Ben</td>\n",
       "      <td>BUCKINGHAM</td>\n",
       "      <td>male</td>\n",
       "      <td>AU</td>\n",
       "      <td>Oceania</td>\n",
       "      <td>1991</td>\n",
       "      <td>False</td>\n",
       "      <td>False</td>\n",
       "      <td>kaggleOlympic</td>\n",
       "    </tr>\n",
       "    <tr>\n",
       "      <th>13177</th>\n",
       "      <td>13177</td>\n",
       "      <td>LAURENZANO Gabriele</td>\n",
       "      <td>Gabriele</td>\n",
       "      <td>LAURENZANO</td>\n",
       "      <td>male</td>\n",
       "      <td>IT</td>\n",
       "      <td>Europe</td>\n",
       "      <td>2003</td>\n",
       "      <td>False</td>\n",
       "      <td>False</td>\n",
       "      <td>kaggleOlympic</td>\n",
       "    </tr>\n",
       "    <tr>\n",
       "      <th>14549</th>\n",
       "      <td>14549</td>\n",
       "      <td>CARRASCOSA Borja</td>\n",
       "      <td>Borja</td>\n",
       "      <td>CARRASCOSA</td>\n",
       "      <td>male</td>\n",
       "      <td>ES</td>\n",
       "      <td>Europe</td>\n",
       "      <td>1982</td>\n",
       "      <td>False</td>\n",
       "      <td>False</td>\n",
       "      <td>kaggleOlympic</td>\n",
       "    </tr>\n",
       "    <tr>\n",
       "      <th>2029</th>\n",
       "      <td>2029</td>\n",
       "      <td>Lourdes Cuesta</td>\n",
       "      <td>Lourdes</td>\n",
       "      <td>Cuesta</td>\n",
       "      <td>female</td>\n",
       "      <td>EC</td>\n",
       "      <td>South America</td>\n",
       "      <td>1976</td>\n",
       "      <td>False</td>\n",
       "      <td>False</td>\n",
       "      <td>wikidata</td>\n",
       "    </tr>\n",
       "  </tbody>\n",
       "</table>\n",
       "</div>"
      ],
      "text/plain": [
       "          id             fullName firstName    lastName  gender isoCountry  \\\n",
       "2913    2913           Kamal Sofo     Kamal        Sofo    male         GH   \n",
       "12114  12114       BUCKINGHAM Ben       Ben  BUCKINGHAM    male         AU   \n",
       "13177  13177  LAURENZANO Gabriele  Gabriele  LAURENZANO    male         IT   \n",
       "14549  14549     CARRASCOSA Borja     Borja  CARRASCOSA    male         ES   \n",
       "2029    2029       Lourdes Cuesta   Lourdes      Cuesta  female         EC   \n",
       "\n",
       "           continent  birthYear  hasMiddleName  hasNoLastName         source  \n",
       "2913          Africa       1988          False          False       wikidata  \n",
       "12114        Oceania       1991          False          False  kaggleOlympic  \n",
       "13177         Europe       2003          False          False  kaggleOlympic  \n",
       "14549         Europe       1982          False          False  kaggleOlympic  \n",
       "2029   South America       1976          False          False       wikidata  "
      ]
     },
     "execution_count": 31,
     "metadata": {},
     "output_type": "execute_result"
    }
   ],
   "source": [
    "# Getting a dataset\n",
    "\n",
    "df = pd.read_csv(\"../../data/all.csv\")\n",
    "df = df[(df['hasMiddleName']==False) & (df['firstName'].notnull())]\n",
    "df = df.sample(5)\n",
    "df"
   ]
  },
  {
   "cell_type": "markdown",
   "id": "99298872",
   "metadata": {},
   "source": [
    "# Testing synchronous wrapper"
   ]
  },
  {
   "cell_type": "markdown",
   "id": "5204a57e",
   "metadata": {},
   "source": [
    "## Testing GenderizeIoHandler"
   ]
  },
  {
   "cell_type": "code",
   "execution_count": 136,
   "id": "9929c0a8",
   "metadata": {},
   "outputs": [],
   "source": [
    "# genderizeIO_handler = handlers.GenderizeIoHandler(datasource=df, hasSubscription=False)\n",
    "# genderizeIO_handler.get_prediction(True)"
   ]
  },
  {
   "cell_type": "markdown",
   "id": "c065f1b8",
   "metadata": {},
   "source": [
    "## Testing GenderAPI"
   ]
  },
  {
   "cell_type": "code",
   "execution_count": 137,
   "id": "d616b638",
   "metadata": {},
   "outputs": [],
   "source": [
    "# genderAPI_IO_Handler = handlers.GenderAPI_IO_Handler(datasource=df)\n",
    "\n",
    "# genderAPI_IO_Handler.callAPI(useLocalization=True)"
   ]
  },
  {
   "cell_type": "markdown",
   "id": "aee73839",
   "metadata": {},
   "source": [
    "## Testing GenderGuesser"
   ]
  },
  {
   "cell_type": "code",
   "execution_count": 6,
   "id": "b359cc35",
   "metadata": {},
   "outputs": [
    {
     "data": {
      "application/vnd.microsoft.datawrangler.viewer.v0+json": {
       "columns": [
        {
         "name": "index",
         "rawType": "int64",
         "type": "integer"
        },
        {
         "name": "index",
         "rawType": "int64",
         "type": "integer"
        },
        {
         "name": "fullName",
         "rawType": "object",
         "type": "string"
        },
        {
         "name": "namePassed",
         "rawType": "object",
         "type": "string"
        },
        {
         "name": "correctGender",
         "rawType": "object",
         "type": "string"
        },
        {
         "name": "predictedGender",
         "rawType": "object",
         "type": "string"
        },
        {
         "name": "localization",
         "rawType": "object",
         "type": "string"
        },
        {
         "name": "useLocalization",
         "rawType": "bool",
         "type": "boolean"
        },
        {
         "name": "serviceUsed",
         "rawType": "object",
         "type": "string"
        },
        {
         "name": "extraPreciseGenderPredicted",
         "rawType": "object",
         "type": "string"
        }
       ],
       "ref": "92daed07-db4f-4bd0-9a73-16de4d9ace80",
       "rows": [
        [
         "0",
         "0",
         "IBRAHIM BAYESH",
         "BAYESH",
         "male",
         "unknown",
         "IQ",
         "False",
         "genderGuesser",
         "unknown"
        ],
        [
         "1",
         "1",
         "Lúcia Hiratsuka",
         "Lúcia",
         "female",
         "female",
         "BR",
         "False",
         "genderGuesser",
         "female"
        ],
        [
         "2",
         "2",
         "Hendrik Soemodihardjo",
         "Hendrik",
         "male",
         "male",
         "SR",
         "False",
         "genderGuesser",
         "male"
        ],
        [
         "3",
         "3",
         "Gerri Santoro",
         "Gerri",
         "female",
         "female",
         "US",
         "False",
         "genderGuesser",
         "female"
        ],
        [
         "4",
         "4",
         "VADLAU Lara",
         "Lara",
         "female",
         "female",
         "AT",
         "False",
         "genderGuesser",
         "female"
        ]
       ],
       "shape": {
        "columns": 9,
        "rows": 5
       }
      },
      "text/html": [
       "<div>\n",
       "<style scoped>\n",
       "    .dataframe tbody tr th:only-of-type {\n",
       "        vertical-align: middle;\n",
       "    }\n",
       "\n",
       "    .dataframe tbody tr th {\n",
       "        vertical-align: top;\n",
       "    }\n",
       "\n",
       "    .dataframe thead th {\n",
       "        text-align: right;\n",
       "    }\n",
       "</style>\n",
       "<table border=\"1\" class=\"dataframe\">\n",
       "  <thead>\n",
       "    <tr style=\"text-align: right;\">\n",
       "      <th></th>\n",
       "      <th>index</th>\n",
       "      <th>fullName</th>\n",
       "      <th>namePassed</th>\n",
       "      <th>correctGender</th>\n",
       "      <th>predictedGender</th>\n",
       "      <th>localization</th>\n",
       "      <th>useLocalization</th>\n",
       "      <th>serviceUsed</th>\n",
       "      <th>extraPreciseGenderPredicted</th>\n",
       "    </tr>\n",
       "  </thead>\n",
       "  <tbody>\n",
       "    <tr>\n",
       "      <th>0</th>\n",
       "      <td>0</td>\n",
       "      <td>IBRAHIM BAYESH</td>\n",
       "      <td>BAYESH</td>\n",
       "      <td>male</td>\n",
       "      <td>unknown</td>\n",
       "      <td>IQ</td>\n",
       "      <td>False</td>\n",
       "      <td>genderGuesser</td>\n",
       "      <td>unknown</td>\n",
       "    </tr>\n",
       "    <tr>\n",
       "      <th>1</th>\n",
       "      <td>1</td>\n",
       "      <td>Lúcia Hiratsuka</td>\n",
       "      <td>Lúcia</td>\n",
       "      <td>female</td>\n",
       "      <td>female</td>\n",
       "      <td>BR</td>\n",
       "      <td>False</td>\n",
       "      <td>genderGuesser</td>\n",
       "      <td>female</td>\n",
       "    </tr>\n",
       "    <tr>\n",
       "      <th>2</th>\n",
       "      <td>2</td>\n",
       "      <td>Hendrik Soemodihardjo</td>\n",
       "      <td>Hendrik</td>\n",
       "      <td>male</td>\n",
       "      <td>male</td>\n",
       "      <td>SR</td>\n",
       "      <td>False</td>\n",
       "      <td>genderGuesser</td>\n",
       "      <td>male</td>\n",
       "    </tr>\n",
       "    <tr>\n",
       "      <th>3</th>\n",
       "      <td>3</td>\n",
       "      <td>Gerri Santoro</td>\n",
       "      <td>Gerri</td>\n",
       "      <td>female</td>\n",
       "      <td>female</td>\n",
       "      <td>US</td>\n",
       "      <td>False</td>\n",
       "      <td>genderGuesser</td>\n",
       "      <td>female</td>\n",
       "    </tr>\n",
       "    <tr>\n",
       "      <th>4</th>\n",
       "      <td>4</td>\n",
       "      <td>VADLAU Lara</td>\n",
       "      <td>Lara</td>\n",
       "      <td>female</td>\n",
       "      <td>female</td>\n",
       "      <td>AT</td>\n",
       "      <td>False</td>\n",
       "      <td>genderGuesser</td>\n",
       "      <td>female</td>\n",
       "    </tr>\n",
       "  </tbody>\n",
       "</table>\n",
       "</div>"
      ],
      "text/plain": [
       "   index               fullName namePassed correctGender predictedGender  \\\n",
       "0      0         IBRAHIM BAYESH     BAYESH          male         unknown   \n",
       "1      1        Lúcia Hiratsuka      Lúcia        female          female   \n",
       "2      2  Hendrik Soemodihardjo    Hendrik          male            male   \n",
       "3      3          Gerri Santoro      Gerri        female          female   \n",
       "4      4            VADLAU Lara       Lara        female          female   \n",
       "\n",
       "  localization  useLocalization    serviceUsed extraPreciseGenderPredicted  \n",
       "0           IQ            False  genderGuesser                     unknown  \n",
       "1           BR            False  genderGuesser                      female  \n",
       "2           SR            False  genderGuesser                        male  \n",
       "3           US            False  genderGuesser                      female  \n",
       "4           AT            False  genderGuesser                      female  "
      ]
     },
     "execution_count": 6,
     "metadata": {},
     "output_type": "execute_result"
    }
   ],
   "source": [
    "genderGuesserHandler = handler.GenderGuesserHandler(df)\n",
    "\n",
    "genderGuesserHandler.get_prediction(useLocalization=False)"
   ]
  },
  {
   "cell_type": "markdown",
   "id": "4bb287d6",
   "metadata": {},
   "source": [
    "## Testing GenderAPI.com "
   ]
  },
  {
   "cell_type": "code",
   "execution_count": 139,
   "id": "f3cbcae9",
   "metadata": {},
   "outputs": [],
   "source": [
    "# genderAPI_com_handler = handlers.GenderAPI_com_Handler(df)\n",
    "\n",
    "# genderAPI_com_handler.get_prediction(True, True)"
   ]
  },
  {
   "cell_type": "markdown",
   "id": "c36c9db4",
   "metadata": {},
   "source": [
    "## Testing NamSor Handler"
   ]
  },
  {
   "cell_type": "code",
   "execution_count": 140,
   "id": "b18a20b8",
   "metadata": {},
   "outputs": [],
   "source": [
    "# namSor_handler = handlers.NamSorHandler(df)\n",
    "\n",
    "# namSor_handler.get_prediction(endpoint=NamSorEndpoint.FULL_NAME)"
   ]
  },
  {
   "cell_type": "markdown",
   "id": "a97d85c7",
   "metadata": {},
   "source": [
    "## Testing NameAPI"
   ]
  },
  {
   "cell_type": "code",
   "execution_count": 141,
   "id": "3fd66ee5",
   "metadata": {},
   "outputs": [],
   "source": [
    "# nameAPI_handler = handler.NameAPIHandler(df)\n",
    "\n",
    "# await nameAPI_handler.get_prediction(True)"
   ]
  },
  {
   "cell_type": "markdown",
   "id": "fadab24d",
   "metadata": {},
   "source": [
    "# Testing async Wrapper"
   ]
  },
  {
   "cell_type": "code",
   "execution_count": 46,
   "id": "092a772c",
   "metadata": {},
   "outputs": [],
   "source": [
    "genderize_io_wrapper = wrapper.GenderizeWrapper(df)\n",
    "nameAPI_wrapper = wrapper.NameAPIWrapper(df)\n",
    "namSor_wrapper = wrapper.NamSorWrapper(df)\n",
    "genderCom_wrapper = wrapper.GenderAPI_com_Wrapper(df)\n",
    "genderIO_wrapper = wrapper.GenderAPI_IO_Wrapper(df)"
   ]
  },
  {
   "cell_type": "code",
   "execution_count": 56,
   "id": "51876926",
   "metadata": {},
   "outputs": [
    {
     "name": "stdout",
     "output_type": "stream",
     "text": [
      "{'context': {'priority': 'REALTIME', 'properties': []}, 'inputPerson': {'type': 'NaturalInputPerson', 'personName': {'nameFields': [{'string': 'Kamal', 'fieldType': 'GIVENNAME'}]}}}\n",
      "{'context': {'priority': 'REALTIME', 'properties': []}, 'inputPerson': {'type': 'NaturalInputPerson', 'personName': {'nameFields': [{'string': 'Ben', 'fieldType': 'GIVENNAME'}]}}}\n",
      "{'context': {'priority': 'REALTIME', 'properties': []}, 'inputPerson': {'type': 'NaturalInputPerson', 'personName': {'nameFields': [{'string': 'Gabriele', 'fieldType': 'GIVENNAME'}]}}}\n",
      "{'context': {'priority': 'REALTIME', 'properties': []}, 'inputPerson': {'type': 'NaturalInputPerson', 'personName': {'nameFields': [{'string': 'Borja', 'fieldType': 'GIVENNAME'}]}}}\n",
      "{'context': {'priority': 'REALTIME', 'properties': []}, 'inputPerson': {'type': 'NaturalInputPerson', 'personName': {'nameFields': [{'string': 'Lourdes', 'fieldType': 'GIVENNAME'}]}}}\n"
     ]
    }
   ],
   "source": [
    "testign_result = await nameAPI_wrapper.get_prediction_async(useFullName=False)"
   ]
  },
  {
   "cell_type": "code",
   "execution_count": 57,
   "id": "78dc3842",
   "metadata": {},
   "outputs": [
    {
     "data": {
      "application/vnd.microsoft.datawrangler.viewer.v0+json": {
       "columns": [
        {
         "name": "index",
         "rawType": "int64",
         "type": "integer"
        },
        {
         "name": "index",
         "rawType": "int64",
         "type": "integer"
        },
        {
         "name": "fullName",
         "rawType": "object",
         "type": "string"
        },
        {
         "name": "namePassed",
         "rawType": "object",
         "type": "string"
        },
        {
         "name": "correctGender",
         "rawType": "object",
         "type": "string"
        },
        {
         "name": "predictedGender",
         "rawType": "object",
         "type": "string"
        },
        {
         "name": "localization",
         "rawType": "object",
         "type": "string"
        },
        {
         "name": "useLocalization",
         "rawType": "bool",
         "type": "boolean"
        },
        {
         "name": "serviceUsed",
         "rawType": "object",
         "type": "string"
        },
        {
         "name": "extraPreciseGenderPredicted",
         "rawType": "object",
         "type": "string"
        },
        {
         "name": "extraMaleProportion",
         "rawType": "object",
         "type": "unknown"
        },
        {
         "name": "extraConfidence",
         "rawType": "float64",
         "type": "float"
        }
       ],
       "ref": "2848b0bd-669d-4232-bee7-a78202a59326",
       "rows": [
        [
         "0",
         "2913",
         "Kamal Sofo",
         "Kamal",
         "male",
         "male",
         "GH",
         "False",
         "NameAPI",
         "MALE",
         null,
         "0.9382594417077177"
        ],
        [
         "1",
         "12114",
         "BUCKINGHAM Ben",
         "Ben",
         "male",
         "male",
         "AU",
         "False",
         "NameAPI",
         "MALE",
         null,
         "0.9206349206349207"
        ],
        [
         "2",
         "13177",
         "LAURENZANO Gabriele",
         "Gabriele",
         "male",
         "male",
         "IT",
         "False",
         "NameAPI",
         "MALE",
         null,
         "0.9333333333333333"
        ],
        [
         "3",
         "14549",
         "CARRASCOSA Borja",
         "Borja",
         "male",
         "male",
         "ES",
         "False",
         "NameAPI",
         "MALE",
         null,
         "0.9333333333333333"
        ],
        [
         "4",
         "2029",
         "Lourdes Cuesta",
         "Lourdes",
         "female",
         "female",
         "EC",
         "False",
         "NameAPI",
         "FEMALE",
         null,
         "0.9333333333333333"
        ]
       ],
       "shape": {
        "columns": 11,
        "rows": 5
       }
      },
      "text/html": [
       "<div>\n",
       "<style scoped>\n",
       "    .dataframe tbody tr th:only-of-type {\n",
       "        vertical-align: middle;\n",
       "    }\n",
       "\n",
       "    .dataframe tbody tr th {\n",
       "        vertical-align: top;\n",
       "    }\n",
       "\n",
       "    .dataframe thead th {\n",
       "        text-align: right;\n",
       "    }\n",
       "</style>\n",
       "<table border=\"1\" class=\"dataframe\">\n",
       "  <thead>\n",
       "    <tr style=\"text-align: right;\">\n",
       "      <th></th>\n",
       "      <th>index</th>\n",
       "      <th>fullName</th>\n",
       "      <th>namePassed</th>\n",
       "      <th>correctGender</th>\n",
       "      <th>predictedGender</th>\n",
       "      <th>localization</th>\n",
       "      <th>useLocalization</th>\n",
       "      <th>serviceUsed</th>\n",
       "      <th>extraPreciseGenderPredicted</th>\n",
       "      <th>extraMaleProportion</th>\n",
       "      <th>extraConfidence</th>\n",
       "    </tr>\n",
       "  </thead>\n",
       "  <tbody>\n",
       "    <tr>\n",
       "      <th>0</th>\n",
       "      <td>2913</td>\n",
       "      <td>Kamal Sofo</td>\n",
       "      <td>Kamal</td>\n",
       "      <td>male</td>\n",
       "      <td>male</td>\n",
       "      <td>GH</td>\n",
       "      <td>False</td>\n",
       "      <td>NameAPI</td>\n",
       "      <td>MALE</td>\n",
       "      <td>None</td>\n",
       "      <td>0.938259</td>\n",
       "    </tr>\n",
       "    <tr>\n",
       "      <th>1</th>\n",
       "      <td>12114</td>\n",
       "      <td>BUCKINGHAM Ben</td>\n",
       "      <td>Ben</td>\n",
       "      <td>male</td>\n",
       "      <td>male</td>\n",
       "      <td>AU</td>\n",
       "      <td>False</td>\n",
       "      <td>NameAPI</td>\n",
       "      <td>MALE</td>\n",
       "      <td>None</td>\n",
       "      <td>0.920635</td>\n",
       "    </tr>\n",
       "    <tr>\n",
       "      <th>2</th>\n",
       "      <td>13177</td>\n",
       "      <td>LAURENZANO Gabriele</td>\n",
       "      <td>Gabriele</td>\n",
       "      <td>male</td>\n",
       "      <td>male</td>\n",
       "      <td>IT</td>\n",
       "      <td>False</td>\n",
       "      <td>NameAPI</td>\n",
       "      <td>MALE</td>\n",
       "      <td>None</td>\n",
       "      <td>0.933333</td>\n",
       "    </tr>\n",
       "    <tr>\n",
       "      <th>3</th>\n",
       "      <td>14549</td>\n",
       "      <td>CARRASCOSA Borja</td>\n",
       "      <td>Borja</td>\n",
       "      <td>male</td>\n",
       "      <td>male</td>\n",
       "      <td>ES</td>\n",
       "      <td>False</td>\n",
       "      <td>NameAPI</td>\n",
       "      <td>MALE</td>\n",
       "      <td>None</td>\n",
       "      <td>0.933333</td>\n",
       "    </tr>\n",
       "    <tr>\n",
       "      <th>4</th>\n",
       "      <td>2029</td>\n",
       "      <td>Lourdes Cuesta</td>\n",
       "      <td>Lourdes</td>\n",
       "      <td>female</td>\n",
       "      <td>female</td>\n",
       "      <td>EC</td>\n",
       "      <td>False</td>\n",
       "      <td>NameAPI</td>\n",
       "      <td>FEMALE</td>\n",
       "      <td>None</td>\n",
       "      <td>0.933333</td>\n",
       "    </tr>\n",
       "  </tbody>\n",
       "</table>\n",
       "</div>"
      ],
      "text/plain": [
       "   index             fullName namePassed correctGender predictedGender  \\\n",
       "0   2913           Kamal Sofo      Kamal          male            male   \n",
       "1  12114       BUCKINGHAM Ben        Ben          male            male   \n",
       "2  13177  LAURENZANO Gabriele   Gabriele          male            male   \n",
       "3  14549     CARRASCOSA Borja      Borja          male            male   \n",
       "4   2029       Lourdes Cuesta    Lourdes        female          female   \n",
       "\n",
       "  localization  useLocalization serviceUsed extraPreciseGenderPredicted  \\\n",
       "0           GH            False     NameAPI                        MALE   \n",
       "1           AU            False     NameAPI                        MALE   \n",
       "2           IT            False     NameAPI                        MALE   \n",
       "3           ES            False     NameAPI                        MALE   \n",
       "4           EC            False     NameAPI                      FEMALE   \n",
       "\n",
       "  extraMaleProportion  extraConfidence  \n",
       "0                None         0.938259  \n",
       "1                None         0.920635  \n",
       "2                None         0.933333  \n",
       "3                None         0.933333  \n",
       "4                None         0.933333  "
      ]
     },
     "execution_count": 57,
     "metadata": {},
     "output_type": "execute_result"
    }
   ],
   "source": [
    "testign_result"
   ]
  },
  {
   "cell_type": "markdown",
   "id": "0135ff98",
   "metadata": {},
   "source": [
    "# testing wrapper manager"
   ]
  },
  {
   "cell_type": "code",
   "execution_count": null,
   "id": "c7fc7a9d",
   "metadata": {},
   "outputs": [],
   "source": [
    "testing_manager = wrapman.WrapperManager(df)\n",
    "\n",
    "testign_result = await testing_manager.run_all(config={\n",
    "            \"genderize\": {\"useLocalization\": False},\n",
    "            \"genderapi_io\": {\"useLocalization\": False, \"useAI\": False},\n",
    "            \"genderapi_com\": {\"useFullName\": False, \"useLocalization\": False},\n",
    "            \"namsor\": {\"endpoint\": endpoint.FIRST_NAME},\n",
    "            \"nameapi\": {\"useFullName\": False}\n",
    "        })"
   ]
  },
  {
   "cell_type": "code",
   "execution_count": 151,
   "id": "f41d8508",
   "metadata": {},
   "outputs": [
    {
     "data": {
      "application/vnd.microsoft.datawrangler.viewer.v0+json": {
       "columns": [
        {
         "name": "index",
         "rawType": "int64",
         "type": "integer"
        },
        {
         "name": "index",
         "rawType": "int64",
         "type": "integer"
        },
        {
         "name": "fullName",
         "rawType": "object",
         "type": "string"
        },
        {
         "name": "namePassed",
         "rawType": "object",
         "type": "string"
        },
        {
         "name": "correctGender",
         "rawType": "object",
         "type": "string"
        },
        {
         "name": "predictedGender",
         "rawType": "object",
         "type": "string"
        },
        {
         "name": "localization",
         "rawType": "object",
         "type": "string"
        },
        {
         "name": "useLocalization",
         "rawType": "bool",
         "type": "boolean"
        },
        {
         "name": "serviceUsed",
         "rawType": "object",
         "type": "string"
        },
        {
         "name": "extraPreciseGenderPredicted",
         "rawType": "object",
         "type": "string"
        },
        {
         "name": "extraMaleProportion",
         "rawType": "object",
         "type": "unknown"
        },
        {
         "name": "extraConfidence",
         "rawType": "float64",
         "type": "float"
        }
       ],
       "ref": "81ee28b4-09aa-419f-b0e4-72c1a4076be9",
       "rows": [
        [
         "0",
         "6470",
         "KOXHAKU Grisi",
         "Grisi",
         "male",
         "unknown",
         "AL",
         "False",
         "NameAPI",
         "UNKNOWN",
         null,
         "0.8"
        ],
        [
         "1",
         "8945",
         "JI Yuchan",
         "Yuchan",
         "male",
         "unknown",
         "KP",
         "False",
         "NameAPI",
         "UNKNOWN",
         null,
         "0.8"
        ],
        [
         "2",
         "3558",
         "Pyotr Buslov",
         "Pyotr",
         "male",
         "unknown",
         "RU",
         "False",
         "NameAPI",
         "UNKNOWN",
         null,
         "0.8"
        ],
        [
         "3",
         "6016",
         "WILLIAMS Ashley",
         "Ashley",
         "female",
         "unknown",
         "JM",
         "False",
         "NameAPI",
         "UNKNOWN",
         null,
         "0.8"
        ],
        [
         "4",
         "15649",
         "BELAC Ana",
         "Ana",
         "female",
         "unknown",
         "SI",
         "False",
         "NameAPI",
         "UNKNOWN",
         null,
         "0.8"
        ]
       ],
       "shape": {
        "columns": 11,
        "rows": 5
       }
      },
      "text/html": [
       "<div>\n",
       "<style scoped>\n",
       "    .dataframe tbody tr th:only-of-type {\n",
       "        vertical-align: middle;\n",
       "    }\n",
       "\n",
       "    .dataframe tbody tr th {\n",
       "        vertical-align: top;\n",
       "    }\n",
       "\n",
       "    .dataframe thead th {\n",
       "        text-align: right;\n",
       "    }\n",
       "</style>\n",
       "<table border=\"1\" class=\"dataframe\">\n",
       "  <thead>\n",
       "    <tr style=\"text-align: right;\">\n",
       "      <th></th>\n",
       "      <th>index</th>\n",
       "      <th>fullName</th>\n",
       "      <th>namePassed</th>\n",
       "      <th>correctGender</th>\n",
       "      <th>predictedGender</th>\n",
       "      <th>localization</th>\n",
       "      <th>useLocalization</th>\n",
       "      <th>serviceUsed</th>\n",
       "      <th>extraPreciseGenderPredicted</th>\n",
       "      <th>extraMaleProportion</th>\n",
       "      <th>extraConfidence</th>\n",
       "    </tr>\n",
       "  </thead>\n",
       "  <tbody>\n",
       "    <tr>\n",
       "      <th>0</th>\n",
       "      <td>6470</td>\n",
       "      <td>KOXHAKU Grisi</td>\n",
       "      <td>Grisi</td>\n",
       "      <td>male</td>\n",
       "      <td>unknown</td>\n",
       "      <td>AL</td>\n",
       "      <td>False</td>\n",
       "      <td>NameAPI</td>\n",
       "      <td>UNKNOWN</td>\n",
       "      <td>None</td>\n",
       "      <td>0.8</td>\n",
       "    </tr>\n",
       "    <tr>\n",
       "      <th>1</th>\n",
       "      <td>8945</td>\n",
       "      <td>JI Yuchan</td>\n",
       "      <td>Yuchan</td>\n",
       "      <td>male</td>\n",
       "      <td>unknown</td>\n",
       "      <td>KP</td>\n",
       "      <td>False</td>\n",
       "      <td>NameAPI</td>\n",
       "      <td>UNKNOWN</td>\n",
       "      <td>None</td>\n",
       "      <td>0.8</td>\n",
       "    </tr>\n",
       "    <tr>\n",
       "      <th>2</th>\n",
       "      <td>3558</td>\n",
       "      <td>Pyotr Buslov</td>\n",
       "      <td>Pyotr</td>\n",
       "      <td>male</td>\n",
       "      <td>unknown</td>\n",
       "      <td>RU</td>\n",
       "      <td>False</td>\n",
       "      <td>NameAPI</td>\n",
       "      <td>UNKNOWN</td>\n",
       "      <td>None</td>\n",
       "      <td>0.8</td>\n",
       "    </tr>\n",
       "    <tr>\n",
       "      <th>3</th>\n",
       "      <td>6016</td>\n",
       "      <td>WILLIAMS Ashley</td>\n",
       "      <td>Ashley</td>\n",
       "      <td>female</td>\n",
       "      <td>unknown</td>\n",
       "      <td>JM</td>\n",
       "      <td>False</td>\n",
       "      <td>NameAPI</td>\n",
       "      <td>UNKNOWN</td>\n",
       "      <td>None</td>\n",
       "      <td>0.8</td>\n",
       "    </tr>\n",
       "    <tr>\n",
       "      <th>4</th>\n",
       "      <td>15649</td>\n",
       "      <td>BELAC Ana</td>\n",
       "      <td>Ana</td>\n",
       "      <td>female</td>\n",
       "      <td>unknown</td>\n",
       "      <td>SI</td>\n",
       "      <td>False</td>\n",
       "      <td>NameAPI</td>\n",
       "      <td>UNKNOWN</td>\n",
       "      <td>None</td>\n",
       "      <td>0.8</td>\n",
       "    </tr>\n",
       "  </tbody>\n",
       "</table>\n",
       "</div>"
      ],
      "text/plain": [
       "   index         fullName namePassed correctGender predictedGender  \\\n",
       "0   6470    KOXHAKU Grisi      Grisi          male         unknown   \n",
       "1   8945        JI Yuchan     Yuchan          male         unknown   \n",
       "2   3558     Pyotr Buslov      Pyotr          male         unknown   \n",
       "3   6016  WILLIAMS Ashley     Ashley        female         unknown   \n",
       "4  15649        BELAC Ana        Ana        female         unknown   \n",
       "\n",
       "  localization  useLocalization serviceUsed extraPreciseGenderPredicted  \\\n",
       "0           AL            False     NameAPI                     UNKNOWN   \n",
       "1           KP            False     NameAPI                     UNKNOWN   \n",
       "2           RU            False     NameAPI                     UNKNOWN   \n",
       "3           JM            False     NameAPI                     UNKNOWN   \n",
       "4           SI            False     NameAPI                     UNKNOWN   \n",
       "\n",
       "  extraMaleProportion  extraConfidence  \n",
       "0                None              0.8  \n",
       "1                None              0.8  \n",
       "2                None              0.8  \n",
       "3                None              0.8  \n",
       "4                None              0.8  "
      ]
     },
     "execution_count": 151,
     "metadata": {},
     "output_type": "execute_result"
    }
   ],
   "source": [
    "testign_result['nameapi']"
   ]
  },
  {
   "cell_type": "code",
   "execution_count": 152,
   "id": "ec3ec811",
   "metadata": {},
   "outputs": [],
   "source": [
    "manager = wrapman.WrapperManager(df)\n",
    "results = await manager.run_subset(\n",
    "            [\"genderize\", \"namsor\"],\n",
    "            config={\"genderize\": {\"useLocalization\": True}, \"namsor\": {\"endpoint\": endpoint.FIRST_NAME_GEO}}\n",
    "        )"
   ]
  },
  {
   "cell_type": "code",
   "execution_count": 153,
   "id": "824819cd",
   "metadata": {},
   "outputs": [
    {
     "name": "stdout",
     "output_type": "stream",
     "text": [
      "['index', 'fullName', 'namePassed', 'correctGender', 'predictedGender', 'localization', 'useLocalization', 'serviceUsed']\n"
     ]
    }
   ],
   "source": [
    "resultGenderize = results['genderize']\n",
    "resultNamSor = results['namsor']\n",
    "\n",
    "sameCols = [col for col in resultNamSor.columns if col in resultGenderize.columns]\n",
    "print(sameCols)"
   ]
  },
  {
   "cell_type": "code",
   "execution_count": 154,
   "id": "0c6f96f2",
   "metadata": {},
   "outputs": [
    {
     "data": {
      "application/vnd.microsoft.datawrangler.viewer.v0+json": {
       "columns": [
        {
         "name": "index",
         "rawType": "int64",
         "type": "integer"
        },
        {
         "name": "index",
         "rawType": "int64",
         "type": "integer"
        },
        {
         "name": "fullName",
         "rawType": "object",
         "type": "string"
        },
        {
         "name": "namePassed",
         "rawType": "object",
         "type": "string"
        },
        {
         "name": "correctGender",
         "rawType": "object",
         "type": "string"
        },
        {
         "name": "predictedGender",
         "rawType": "object",
         "type": "string"
        },
        {
         "name": "localization",
         "rawType": "object",
         "type": "string"
        },
        {
         "name": "useLocalization",
         "rawType": "bool",
         "type": "boolean"
        },
        {
         "name": "serviceUsed",
         "rawType": "object",
         "type": "string"
        }
       ],
       "ref": "f1dc3ed4-5edd-4986-9d64-4faaaec55e37",
       "rows": [
        [
         "0",
         "6470",
         "KOXHAKU Grisi",
         "Grisi",
         "male",
         "female",
         "AL",
         "True",
         "genderize.IO"
        ],
        [
         "1",
         "8945",
         "JI Yuchan",
         "Yuchan",
         "male",
         "female",
         "KP",
         "True",
         "genderize.IO"
        ],
        [
         "2",
         "3558",
         "Pyotr Buslov",
         "Pyotr",
         "male",
         "male",
         "RU",
         "True",
         "genderize.IO"
        ],
        [
         "3",
         "6016",
         "WILLIAMS Ashley",
         "Ashley",
         "female",
         "female",
         "JM",
         "True",
         "genderize.IO"
        ],
        [
         "4",
         "15649",
         "BELAC Ana",
         "Ana",
         "female",
         "female",
         "SI",
         "True",
         "genderize.IO"
        ],
        [
         "0",
         "6470",
         "KOXHAKU Grisi",
         "Grisi",
         "male",
         "female",
         "AL",
         "True",
         "NamSor"
        ],
        [
         "1",
         "8945",
         "JI Yuchan",
         "Yuchan",
         "male",
         "female",
         "KP",
         "True",
         "NamSor"
        ],
        [
         "2",
         "3558",
         "Pyotr Buslov",
         "Pyotr",
         "male",
         "male",
         "RU",
         "True",
         "NamSor"
        ],
        [
         "3",
         "6016",
         "WILLIAMS Ashley",
         "Ashley",
         "female",
         "female",
         "JM",
         "True",
         "NamSor"
        ],
        [
         "4",
         "15649",
         "BELAC Ana",
         "Ana",
         "female",
         "female",
         "SI",
         "True",
         "NamSor"
        ]
       ],
       "shape": {
        "columns": 8,
        "rows": 10
       }
      },
      "text/html": [
       "<div>\n",
       "<style scoped>\n",
       "    .dataframe tbody tr th:only-of-type {\n",
       "        vertical-align: middle;\n",
       "    }\n",
       "\n",
       "    .dataframe tbody tr th {\n",
       "        vertical-align: top;\n",
       "    }\n",
       "\n",
       "    .dataframe thead th {\n",
       "        text-align: right;\n",
       "    }\n",
       "</style>\n",
       "<table border=\"1\" class=\"dataframe\">\n",
       "  <thead>\n",
       "    <tr style=\"text-align: right;\">\n",
       "      <th></th>\n",
       "      <th>index</th>\n",
       "      <th>fullName</th>\n",
       "      <th>namePassed</th>\n",
       "      <th>correctGender</th>\n",
       "      <th>predictedGender</th>\n",
       "      <th>localization</th>\n",
       "      <th>useLocalization</th>\n",
       "      <th>serviceUsed</th>\n",
       "    </tr>\n",
       "  </thead>\n",
       "  <tbody>\n",
       "    <tr>\n",
       "      <th>0</th>\n",
       "      <td>6470</td>\n",
       "      <td>KOXHAKU Grisi</td>\n",
       "      <td>Grisi</td>\n",
       "      <td>male</td>\n",
       "      <td>female</td>\n",
       "      <td>AL</td>\n",
       "      <td>True</td>\n",
       "      <td>genderize.IO</td>\n",
       "    </tr>\n",
       "    <tr>\n",
       "      <th>1</th>\n",
       "      <td>8945</td>\n",
       "      <td>JI Yuchan</td>\n",
       "      <td>Yuchan</td>\n",
       "      <td>male</td>\n",
       "      <td>female</td>\n",
       "      <td>KP</td>\n",
       "      <td>True</td>\n",
       "      <td>genderize.IO</td>\n",
       "    </tr>\n",
       "    <tr>\n",
       "      <th>2</th>\n",
       "      <td>3558</td>\n",
       "      <td>Pyotr Buslov</td>\n",
       "      <td>Pyotr</td>\n",
       "      <td>male</td>\n",
       "      <td>male</td>\n",
       "      <td>RU</td>\n",
       "      <td>True</td>\n",
       "      <td>genderize.IO</td>\n",
       "    </tr>\n",
       "    <tr>\n",
       "      <th>3</th>\n",
       "      <td>6016</td>\n",
       "      <td>WILLIAMS Ashley</td>\n",
       "      <td>Ashley</td>\n",
       "      <td>female</td>\n",
       "      <td>female</td>\n",
       "      <td>JM</td>\n",
       "      <td>True</td>\n",
       "      <td>genderize.IO</td>\n",
       "    </tr>\n",
       "    <tr>\n",
       "      <th>4</th>\n",
       "      <td>15649</td>\n",
       "      <td>BELAC Ana</td>\n",
       "      <td>Ana</td>\n",
       "      <td>female</td>\n",
       "      <td>female</td>\n",
       "      <td>SI</td>\n",
       "      <td>True</td>\n",
       "      <td>genderize.IO</td>\n",
       "    </tr>\n",
       "    <tr>\n",
       "      <th>0</th>\n",
       "      <td>6470</td>\n",
       "      <td>KOXHAKU Grisi</td>\n",
       "      <td>Grisi</td>\n",
       "      <td>male</td>\n",
       "      <td>female</td>\n",
       "      <td>AL</td>\n",
       "      <td>True</td>\n",
       "      <td>NamSor</td>\n",
       "    </tr>\n",
       "    <tr>\n",
       "      <th>1</th>\n",
       "      <td>8945</td>\n",
       "      <td>JI Yuchan</td>\n",
       "      <td>Yuchan</td>\n",
       "      <td>male</td>\n",
       "      <td>female</td>\n",
       "      <td>KP</td>\n",
       "      <td>True</td>\n",
       "      <td>NamSor</td>\n",
       "    </tr>\n",
       "    <tr>\n",
       "      <th>2</th>\n",
       "      <td>3558</td>\n",
       "      <td>Pyotr Buslov</td>\n",
       "      <td>Pyotr</td>\n",
       "      <td>male</td>\n",
       "      <td>male</td>\n",
       "      <td>RU</td>\n",
       "      <td>True</td>\n",
       "      <td>NamSor</td>\n",
       "    </tr>\n",
       "    <tr>\n",
       "      <th>3</th>\n",
       "      <td>6016</td>\n",
       "      <td>WILLIAMS Ashley</td>\n",
       "      <td>Ashley</td>\n",
       "      <td>female</td>\n",
       "      <td>female</td>\n",
       "      <td>JM</td>\n",
       "      <td>True</td>\n",
       "      <td>NamSor</td>\n",
       "    </tr>\n",
       "    <tr>\n",
       "      <th>4</th>\n",
       "      <td>15649</td>\n",
       "      <td>BELAC Ana</td>\n",
       "      <td>Ana</td>\n",
       "      <td>female</td>\n",
       "      <td>female</td>\n",
       "      <td>SI</td>\n",
       "      <td>True</td>\n",
       "      <td>NamSor</td>\n",
       "    </tr>\n",
       "  </tbody>\n",
       "</table>\n",
       "</div>"
      ],
      "text/plain": [
       "   index         fullName namePassed correctGender predictedGender  \\\n",
       "0   6470    KOXHAKU Grisi      Grisi          male          female   \n",
       "1   8945        JI Yuchan     Yuchan          male          female   \n",
       "2   3558     Pyotr Buslov      Pyotr          male            male   \n",
       "3   6016  WILLIAMS Ashley     Ashley        female          female   \n",
       "4  15649        BELAC Ana        Ana        female          female   \n",
       "0   6470    KOXHAKU Grisi      Grisi          male          female   \n",
       "1   8945        JI Yuchan     Yuchan          male          female   \n",
       "2   3558     Pyotr Buslov      Pyotr          male            male   \n",
       "3   6016  WILLIAMS Ashley     Ashley        female          female   \n",
       "4  15649        BELAC Ana        Ana        female          female   \n",
       "\n",
       "  localization  useLocalization   serviceUsed  \n",
       "0           AL             True  genderize.IO  \n",
       "1           KP             True  genderize.IO  \n",
       "2           RU             True  genderize.IO  \n",
       "3           JM             True  genderize.IO  \n",
       "4           SI             True  genderize.IO  \n",
       "0           AL             True        NamSor  \n",
       "1           KP             True        NamSor  \n",
       "2           RU             True        NamSor  \n",
       "3           JM             True        NamSor  \n",
       "4           SI             True        NamSor  "
      ]
     },
     "execution_count": 154,
     "metadata": {},
     "output_type": "execute_result"
    }
   ],
   "source": [
    "testConcat = pd.concat([resultGenderize[sameCols], resultNamSor[sameCols]])\n",
    "testConcat"
   ]
  },
  {
   "cell_type": "markdown",
   "id": "7e4ff1ef",
   "metadata": {},
   "source": [
    "# Testing the Evaluator"
   ]
  },
  {
   "cell_type": "code",
   "execution_count": 155,
   "id": "2e5a7898",
   "metadata": {},
   "outputs": [],
   "source": [
    "eva = evaluator.Evaluator(testConcat[testConcat['serviceUsed']=='genderize.IO'])"
   ]
  },
  {
   "cell_type": "code",
   "execution_count": 156,
   "id": "6e628c88",
   "metadata": {},
   "outputs": [
    {
     "data": {
      "application/vnd.microsoft.datawrangler.viewer.v0+json": {
       "columns": [
        {
         "name": "index",
         "rawType": "int64",
         "type": "integer"
        },
        {
         "name": "index",
         "rawType": "int64",
         "type": "integer"
        },
        {
         "name": "fullName",
         "rawType": "object",
         "type": "string"
        },
        {
         "name": "namePassed",
         "rawType": "object",
         "type": "string"
        },
        {
         "name": "correctGender",
         "rawType": "object",
         "type": "string"
        },
        {
         "name": "predictedGender",
         "rawType": "object",
         "type": "string"
        },
        {
         "name": "localization",
         "rawType": "object",
         "type": "string"
        },
        {
         "name": "useLocalization",
         "rawType": "bool",
         "type": "boolean"
        },
        {
         "name": "serviceUsed",
         "rawType": "object",
         "type": "string"
        }
       ],
       "ref": "9e1b9a4d-97cf-4b4e-b775-9e131f150a4a",
       "rows": [
        [
         "0",
         "6470",
         "KOXHAKU Grisi",
         "Grisi",
         "male",
         "female",
         "AL",
         "True",
         "genderize.IO"
        ],
        [
         "1",
         "8945",
         "JI Yuchan",
         "Yuchan",
         "male",
         "female",
         "KP",
         "True",
         "genderize.IO"
        ],
        [
         "2",
         "3558",
         "Pyotr Buslov",
         "Pyotr",
         "male",
         "male",
         "RU",
         "True",
         "genderize.IO"
        ],
        [
         "3",
         "6016",
         "WILLIAMS Ashley",
         "Ashley",
         "female",
         "female",
         "JM",
         "True",
         "genderize.IO"
        ],
        [
         "4",
         "15649",
         "BELAC Ana",
         "Ana",
         "female",
         "female",
         "SI",
         "True",
         "genderize.IO"
        ]
       ],
       "shape": {
        "columns": 8,
        "rows": 5
       }
      },
      "text/html": [
       "<div>\n",
       "<style scoped>\n",
       "    .dataframe tbody tr th:only-of-type {\n",
       "        vertical-align: middle;\n",
       "    }\n",
       "\n",
       "    .dataframe tbody tr th {\n",
       "        vertical-align: top;\n",
       "    }\n",
       "\n",
       "    .dataframe thead th {\n",
       "        text-align: right;\n",
       "    }\n",
       "</style>\n",
       "<table border=\"1\" class=\"dataframe\">\n",
       "  <thead>\n",
       "    <tr style=\"text-align: right;\">\n",
       "      <th></th>\n",
       "      <th>index</th>\n",
       "      <th>fullName</th>\n",
       "      <th>namePassed</th>\n",
       "      <th>correctGender</th>\n",
       "      <th>predictedGender</th>\n",
       "      <th>localization</th>\n",
       "      <th>useLocalization</th>\n",
       "      <th>serviceUsed</th>\n",
       "    </tr>\n",
       "  </thead>\n",
       "  <tbody>\n",
       "    <tr>\n",
       "      <th>0</th>\n",
       "      <td>6470</td>\n",
       "      <td>KOXHAKU Grisi</td>\n",
       "      <td>Grisi</td>\n",
       "      <td>male</td>\n",
       "      <td>female</td>\n",
       "      <td>AL</td>\n",
       "      <td>True</td>\n",
       "      <td>genderize.IO</td>\n",
       "    </tr>\n",
       "    <tr>\n",
       "      <th>1</th>\n",
       "      <td>8945</td>\n",
       "      <td>JI Yuchan</td>\n",
       "      <td>Yuchan</td>\n",
       "      <td>male</td>\n",
       "      <td>female</td>\n",
       "      <td>KP</td>\n",
       "      <td>True</td>\n",
       "      <td>genderize.IO</td>\n",
       "    </tr>\n",
       "    <tr>\n",
       "      <th>2</th>\n",
       "      <td>3558</td>\n",
       "      <td>Pyotr Buslov</td>\n",
       "      <td>Pyotr</td>\n",
       "      <td>male</td>\n",
       "      <td>male</td>\n",
       "      <td>RU</td>\n",
       "      <td>True</td>\n",
       "      <td>genderize.IO</td>\n",
       "    </tr>\n",
       "    <tr>\n",
       "      <th>3</th>\n",
       "      <td>6016</td>\n",
       "      <td>WILLIAMS Ashley</td>\n",
       "      <td>Ashley</td>\n",
       "      <td>female</td>\n",
       "      <td>female</td>\n",
       "      <td>JM</td>\n",
       "      <td>True</td>\n",
       "      <td>genderize.IO</td>\n",
       "    </tr>\n",
       "    <tr>\n",
       "      <th>4</th>\n",
       "      <td>15649</td>\n",
       "      <td>BELAC Ana</td>\n",
       "      <td>Ana</td>\n",
       "      <td>female</td>\n",
       "      <td>female</td>\n",
       "      <td>SI</td>\n",
       "      <td>True</td>\n",
       "      <td>genderize.IO</td>\n",
       "    </tr>\n",
       "  </tbody>\n",
       "</table>\n",
       "</div>"
      ],
      "text/plain": [
       "   index         fullName namePassed correctGender predictedGender  \\\n",
       "0   6470    KOXHAKU Grisi      Grisi          male          female   \n",
       "1   8945        JI Yuchan     Yuchan          male          female   \n",
       "2   3558     Pyotr Buslov      Pyotr          male            male   \n",
       "3   6016  WILLIAMS Ashley     Ashley        female          female   \n",
       "4  15649        BELAC Ana        Ana        female          female   \n",
       "\n",
       "  localization  useLocalization   serviceUsed  \n",
       "0           AL             True  genderize.IO  \n",
       "1           KP             True  genderize.IO  \n",
       "2           RU             True  genderize.IO  \n",
       "3           JM             True  genderize.IO  \n",
       "4           SI             True  genderize.IO  "
      ]
     },
     "execution_count": 156,
     "metadata": {},
     "output_type": "execute_result"
    }
   ],
   "source": [
    "testConcat[testConcat['serviceUsed']=='genderize.IO']"
   ]
  },
  {
   "cell_type": "code",
   "execution_count": 157,
   "id": "0062e664",
   "metadata": {},
   "outputs": [],
   "source": [
    "conf_matrix = eva.get_confusion_matrix(None)"
   ]
  },
  {
   "cell_type": "code",
   "execution_count": 158,
   "id": "493ffe83",
   "metadata": {},
   "outputs": [
    {
     "data": {
      "application/vnd.microsoft.datawrangler.viewer.v0+json": {
       "columns": [
        {
         "name": "index",
         "rawType": "object",
         "type": "string"
        },
        {
         "name": "f_pred",
         "rawType": "int64",
         "type": "integer"
        },
        {
         "name": "m_pred",
         "rawType": "int64",
         "type": "integer"
        },
        {
         "name": "u_pred",
         "rawType": "int64",
         "type": "integer"
        }
       ],
       "ref": "8faaf880-6efc-47ee-b8bc-207fd04c161a",
       "rows": [
        [
         "f",
         "2",
         "0",
         "0"
        ],
        [
         "m",
         "2",
         "1",
         "0"
        ],
        [
         "u",
         "0",
         "0",
         "0"
        ]
       ],
       "shape": {
        "columns": 3,
        "rows": 3
       }
      },
      "text/html": [
       "<div>\n",
       "<style scoped>\n",
       "    .dataframe tbody tr th:only-of-type {\n",
       "        vertical-align: middle;\n",
       "    }\n",
       "\n",
       "    .dataframe tbody tr th {\n",
       "        vertical-align: top;\n",
       "    }\n",
       "\n",
       "    .dataframe thead th {\n",
       "        text-align: right;\n",
       "    }\n",
       "</style>\n",
       "<table border=\"1\" class=\"dataframe\">\n",
       "  <thead>\n",
       "    <tr style=\"text-align: right;\">\n",
       "      <th></th>\n",
       "      <th>f_pred</th>\n",
       "      <th>m_pred</th>\n",
       "      <th>u_pred</th>\n",
       "    </tr>\n",
       "  </thead>\n",
       "  <tbody>\n",
       "    <tr>\n",
       "      <th>f</th>\n",
       "      <td>2</td>\n",
       "      <td>0</td>\n",
       "      <td>0</td>\n",
       "    </tr>\n",
       "    <tr>\n",
       "      <th>m</th>\n",
       "      <td>2</td>\n",
       "      <td>1</td>\n",
       "      <td>0</td>\n",
       "    </tr>\n",
       "    <tr>\n",
       "      <th>u</th>\n",
       "      <td>0</td>\n",
       "      <td>0</td>\n",
       "      <td>0</td>\n",
       "    </tr>\n",
       "  </tbody>\n",
       "</table>\n",
       "</div>"
      ],
      "text/plain": [
       "   f_pred  m_pred  u_pred\n",
       "f       2       0       0\n",
       "m       2       1       0\n",
       "u       0       0       0"
      ]
     },
     "execution_count": 158,
     "metadata": {},
     "output_type": "execute_result"
    }
   ],
   "source": [
    "conf_matrix"
   ]
  },
  {
   "cell_type": "code",
   "execution_count": 159,
   "id": "bf13218b",
   "metadata": {},
   "outputs": [
    {
     "data": {
      "text/plain": [
       "{'error_with_unknown': np.float64(0.4),\n",
       " 'error_without_unknown': np.float64(0.4),\n",
       " 'error_unknown': np.float64(0.0),\n",
       " 'error_gender_bias': np.float64(0.4),\n",
       " 'weighted_error': np.float64(0.4)}"
      ]
     },
     "execution_count": 159,
     "metadata": {},
     "output_type": "execute_result"
    }
   ],
   "source": [
    "eva.compute_all_errors(conf_matrix)"
   ]
  }
 ],
 "metadata": {
  "kernelspec": {
   "display_name": "name2gender",
   "language": "python",
   "name": "python3"
  },
  "language_info": {
   "codemirror_mode": {
    "name": "ipython",
    "version": 3
   },
   "file_extension": ".py",
   "mimetype": "text/x-python",
   "name": "python",
   "nbconvert_exporter": "python",
   "pygments_lexer": "ipython3",
   "version": "3.12.4"
  }
 },
 "nbformat": 4,
 "nbformat_minor": 5
}
