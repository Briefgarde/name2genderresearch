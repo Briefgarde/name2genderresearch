{
 "cells": [
  {
   "cell_type": "code",
   "execution_count": 66,
   "id": "5daf4ab4",
   "metadata": {},
   "outputs": [
    {
     "name": "stdout",
     "output_type": "stream",
     "text": [
      "The autoreload extension is already loaded. To reload it, use:\n",
      "  %reload_ext autoreload\n"
     ]
    }
   ],
   "source": [
    "%load_ext autoreload\n",
    "%autoreload 2\n",
    "\n",
    "import pandas as pd\n",
    "import serviceHandlers as handlers\n",
    "from serviceHandlers import NamSorEndpoint\n"
   ]
  },
  {
   "cell_type": "code",
   "execution_count": 67,
   "id": "68f47747",
   "metadata": {},
   "outputs": [
    {
     "data": {
      "application/vnd.microsoft.datawrangler.viewer.v0+json": {
       "columns": [
        {
         "name": "index",
         "rawType": "int64",
         "type": "integer"
        },
        {
         "name": "Unnamed: 0",
         "rawType": "int64",
         "type": "integer"
        },
        {
         "name": "fullName",
         "rawType": "object",
         "type": "string"
        },
        {
         "name": "firstName",
         "rawType": "object",
         "type": "string"
        },
        {
         "name": "lastName",
         "rawType": "object",
         "type": "string"
        },
        {
         "name": "gender",
         "rawType": "object",
         "type": "string"
        },
        {
         "name": "isoCountry",
         "rawType": "object",
         "type": "unknown"
        },
        {
         "name": "continent",
         "rawType": "object",
         "type": "unknown"
        },
        {
         "name": "birthYear",
         "rawType": "int64",
         "type": "integer"
        },
        {
         "name": "hasMiddleName",
         "rawType": "bool",
         "type": "boolean"
        },
        {
         "name": "hasNoLastName",
         "rawType": "bool",
         "type": "boolean"
        },
        {
         "name": "source",
         "rawType": "object",
         "type": "string"
        }
       ],
       "ref": "8d1185ed-17a8-47e3-9f89-4684155103cf",
       "rows": [
        [
         "0",
         "0",
         "Clara Benson",
         "Clara",
         "Benson",
         "female",
         "GH",
         "Africa",
         "2000",
         "False",
         "False",
         "wikidata"
        ],
        [
         "2",
         "2",
         "Dalia Ziada",
         "Dalia",
         "Ziada",
         "female",
         "EG",
         "Africa",
         "1982",
         "False",
         "False",
         "wikidata"
        ],
        [
         "3",
         "3",
         "Fatou Haidara",
         "Fatou",
         "Haidara",
         "female",
         "ML",
         "Africa",
         "1962",
         "False",
         "False",
         "wikidata"
        ],
        [
         "4",
         "4",
         "Claude Haffner",
         "Claude",
         "Haffner",
         "female",
         null,
         null,
         "1976",
         "False",
         "False",
         "wikidata"
        ],
        [
         "7",
         "7",
         "Diallo Sène",
         "Diallo",
         "Sène",
         "female",
         "ML",
         "Africa",
         "1952",
         "False",
         "False",
         "wikidata"
        ],
        [
         "8",
         "8",
         "Fatoumata Sylla",
         "Fatoumata",
         "Sylla",
         "female",
         "ML",
         "Africa",
         "1954",
         "False",
         "False",
         "wikidata"
        ],
        [
         "11",
         "11",
         "Manuella Ollo",
         "Manuella",
         "Ollo",
         "female",
         null,
         null,
         "1985",
         "False",
         "False",
         "wikidata"
        ],
        [
         "12",
         "12",
         "Awa Traoré",
         "Awa",
         "Traoré",
         "female",
         "ML",
         "Africa",
         "1980",
         "False",
         "False",
         "wikidata"
        ],
        [
         "17",
         "17",
         "Lorna Doorman",
         "Lorna",
         "Doorman",
         "female",
         "ZW",
         "Africa",
         "1998",
         "False",
         "False",
         "wikidata"
        ],
        [
         "18",
         "18",
         "Enayat al-Zayyat",
         "Enayat",
         "al-Zayyat",
         "female",
         "EG",
         "Africa",
         "1936",
         "False",
         "False",
         "wikidata"
        ]
       ],
       "shape": {
        "columns": 11,
        "rows": 10
       }
      },
      "text/html": [
       "<div>\n",
       "<style scoped>\n",
       "    .dataframe tbody tr th:only-of-type {\n",
       "        vertical-align: middle;\n",
       "    }\n",
       "\n",
       "    .dataframe tbody tr th {\n",
       "        vertical-align: top;\n",
       "    }\n",
       "\n",
       "    .dataframe thead th {\n",
       "        text-align: right;\n",
       "    }\n",
       "</style>\n",
       "<table border=\"1\" class=\"dataframe\">\n",
       "  <thead>\n",
       "    <tr style=\"text-align: right;\">\n",
       "      <th></th>\n",
       "      <th>Unnamed: 0</th>\n",
       "      <th>fullName</th>\n",
       "      <th>firstName</th>\n",
       "      <th>lastName</th>\n",
       "      <th>gender</th>\n",
       "      <th>isoCountry</th>\n",
       "      <th>continent</th>\n",
       "      <th>birthYear</th>\n",
       "      <th>hasMiddleName</th>\n",
       "      <th>hasNoLastName</th>\n",
       "      <th>source</th>\n",
       "    </tr>\n",
       "  </thead>\n",
       "  <tbody>\n",
       "    <tr>\n",
       "      <th>0</th>\n",
       "      <td>0</td>\n",
       "      <td>Clara Benson</td>\n",
       "      <td>Clara</td>\n",
       "      <td>Benson</td>\n",
       "      <td>female</td>\n",
       "      <td>GH</td>\n",
       "      <td>Africa</td>\n",
       "      <td>2000</td>\n",
       "      <td>False</td>\n",
       "      <td>False</td>\n",
       "      <td>wikidata</td>\n",
       "    </tr>\n",
       "    <tr>\n",
       "      <th>2</th>\n",
       "      <td>2</td>\n",
       "      <td>Dalia Ziada</td>\n",
       "      <td>Dalia</td>\n",
       "      <td>Ziada</td>\n",
       "      <td>female</td>\n",
       "      <td>EG</td>\n",
       "      <td>Africa</td>\n",
       "      <td>1982</td>\n",
       "      <td>False</td>\n",
       "      <td>False</td>\n",
       "      <td>wikidata</td>\n",
       "    </tr>\n",
       "    <tr>\n",
       "      <th>3</th>\n",
       "      <td>3</td>\n",
       "      <td>Fatou Haidara</td>\n",
       "      <td>Fatou</td>\n",
       "      <td>Haidara</td>\n",
       "      <td>female</td>\n",
       "      <td>ML</td>\n",
       "      <td>Africa</td>\n",
       "      <td>1962</td>\n",
       "      <td>False</td>\n",
       "      <td>False</td>\n",
       "      <td>wikidata</td>\n",
       "    </tr>\n",
       "    <tr>\n",
       "      <th>4</th>\n",
       "      <td>4</td>\n",
       "      <td>Claude Haffner</td>\n",
       "      <td>Claude</td>\n",
       "      <td>Haffner</td>\n",
       "      <td>female</td>\n",
       "      <td>NaN</td>\n",
       "      <td>NaN</td>\n",
       "      <td>1976</td>\n",
       "      <td>False</td>\n",
       "      <td>False</td>\n",
       "      <td>wikidata</td>\n",
       "    </tr>\n",
       "    <tr>\n",
       "      <th>7</th>\n",
       "      <td>7</td>\n",
       "      <td>Diallo Sène</td>\n",
       "      <td>Diallo</td>\n",
       "      <td>Sène</td>\n",
       "      <td>female</td>\n",
       "      <td>ML</td>\n",
       "      <td>Africa</td>\n",
       "      <td>1952</td>\n",
       "      <td>False</td>\n",
       "      <td>False</td>\n",
       "      <td>wikidata</td>\n",
       "    </tr>\n",
       "    <tr>\n",
       "      <th>8</th>\n",
       "      <td>8</td>\n",
       "      <td>Fatoumata Sylla</td>\n",
       "      <td>Fatoumata</td>\n",
       "      <td>Sylla</td>\n",
       "      <td>female</td>\n",
       "      <td>ML</td>\n",
       "      <td>Africa</td>\n",
       "      <td>1954</td>\n",
       "      <td>False</td>\n",
       "      <td>False</td>\n",
       "      <td>wikidata</td>\n",
       "    </tr>\n",
       "    <tr>\n",
       "      <th>11</th>\n",
       "      <td>11</td>\n",
       "      <td>Manuella Ollo</td>\n",
       "      <td>Manuella</td>\n",
       "      <td>Ollo</td>\n",
       "      <td>female</td>\n",
       "      <td>NaN</td>\n",
       "      <td>NaN</td>\n",
       "      <td>1985</td>\n",
       "      <td>False</td>\n",
       "      <td>False</td>\n",
       "      <td>wikidata</td>\n",
       "    </tr>\n",
       "    <tr>\n",
       "      <th>12</th>\n",
       "      <td>12</td>\n",
       "      <td>Awa Traoré</td>\n",
       "      <td>Awa</td>\n",
       "      <td>Traoré</td>\n",
       "      <td>female</td>\n",
       "      <td>ML</td>\n",
       "      <td>Africa</td>\n",
       "      <td>1980</td>\n",
       "      <td>False</td>\n",
       "      <td>False</td>\n",
       "      <td>wikidata</td>\n",
       "    </tr>\n",
       "    <tr>\n",
       "      <th>17</th>\n",
       "      <td>17</td>\n",
       "      <td>Lorna Doorman</td>\n",
       "      <td>Lorna</td>\n",
       "      <td>Doorman</td>\n",
       "      <td>female</td>\n",
       "      <td>ZW</td>\n",
       "      <td>Africa</td>\n",
       "      <td>1998</td>\n",
       "      <td>False</td>\n",
       "      <td>False</td>\n",
       "      <td>wikidata</td>\n",
       "    </tr>\n",
       "    <tr>\n",
       "      <th>18</th>\n",
       "      <td>18</td>\n",
       "      <td>Enayat al-Zayyat</td>\n",
       "      <td>Enayat</td>\n",
       "      <td>al-Zayyat</td>\n",
       "      <td>female</td>\n",
       "      <td>EG</td>\n",
       "      <td>Africa</td>\n",
       "      <td>1936</td>\n",
       "      <td>False</td>\n",
       "      <td>False</td>\n",
       "      <td>wikidata</td>\n",
       "    </tr>\n",
       "  </tbody>\n",
       "</table>\n",
       "</div>"
      ],
      "text/plain": [
       "    Unnamed: 0          fullName  firstName   lastName  gender isoCountry  \\\n",
       "0            0      Clara Benson      Clara     Benson  female         GH   \n",
       "2            2       Dalia Ziada      Dalia      Ziada  female         EG   \n",
       "3            3     Fatou Haidara      Fatou    Haidara  female         ML   \n",
       "4            4    Claude Haffner     Claude    Haffner  female        NaN   \n",
       "7            7       Diallo Sène     Diallo       Sène  female         ML   \n",
       "8            8   Fatoumata Sylla  Fatoumata      Sylla  female         ML   \n",
       "11          11     Manuella Ollo   Manuella       Ollo  female        NaN   \n",
       "12          12        Awa Traoré        Awa     Traoré  female         ML   \n",
       "17          17     Lorna Doorman      Lorna    Doorman  female         ZW   \n",
       "18          18  Enayat al-Zayyat     Enayat  al-Zayyat  female         EG   \n",
       "\n",
       "   continent  birthYear  hasMiddleName  hasNoLastName    source  \n",
       "0     Africa       2000          False          False  wikidata  \n",
       "2     Africa       1982          False          False  wikidata  \n",
       "3     Africa       1962          False          False  wikidata  \n",
       "4        NaN       1976          False          False  wikidata  \n",
       "7     Africa       1952          False          False  wikidata  \n",
       "8     Africa       1954          False          False  wikidata  \n",
       "11       NaN       1985          False          False  wikidata  \n",
       "12    Africa       1980          False          False  wikidata  \n",
       "17    Africa       1998          False          False  wikidata  \n",
       "18    Africa       1936          False          False  wikidata  "
      ]
     },
     "execution_count": 67,
     "metadata": {},
     "output_type": "execute_result"
    }
   ],
   "source": [
    "# Getting a dataset\n",
    "\n",
    "df = pd.read_csv(\"../../data/all.csv\")\n",
    "df = df[df['hasMiddleName']==False].iloc[0:10]\n",
    "df"
   ]
  },
  {
   "cell_type": "markdown",
   "id": "5204a57e",
   "metadata": {},
   "source": [
    "# Testing GenderizeIoHandler"
   ]
  },
  {
   "cell_type": "code",
   "execution_count": 68,
   "id": "9929c0a8",
   "metadata": {},
   "outputs": [],
   "source": [
    "# genderizeIO_handler = handlers.GenderizeIoHandler(datasource=df, hasSubscription=False)\n",
    "# genderizeIO_handler.get_prediction(True)"
   ]
  },
  {
   "cell_type": "markdown",
   "id": "c065f1b8",
   "metadata": {},
   "source": [
    "# Testing GenderAPI"
   ]
  },
  {
   "cell_type": "code",
   "execution_count": 69,
   "id": "d616b638",
   "metadata": {},
   "outputs": [],
   "source": [
    "# genderAPI_IO_Handler = handlers.GenderAPI_IO_Handler(datasource=df)\n",
    "\n",
    "# genderAPI_IO_Handler.callAPI(useLocalization=True)"
   ]
  },
  {
   "cell_type": "markdown",
   "id": "aee73839",
   "metadata": {},
   "source": [
    "# Testing GenderGuesser"
   ]
  },
  {
   "cell_type": "code",
   "execution_count": 70,
   "id": "b359cc35",
   "metadata": {},
   "outputs": [],
   "source": [
    "# genderGuesserHandler = handlers.GenderGuesserHandler(df)\n",
    "\n",
    "# genderGuesserHandler.get_prediction(False)"
   ]
  },
  {
   "cell_type": "markdown",
   "id": "4bb287d6",
   "metadata": {},
   "source": [
    "# Testing GenderAPI.com "
   ]
  },
  {
   "cell_type": "code",
   "execution_count": 71,
   "id": "f3cbcae9",
   "metadata": {},
   "outputs": [],
   "source": [
    "# genderAPI_com_handler = handlers.GenderAPI_com_Handler(df)\n",
    "\n",
    "# genderAPI_com_handler.get_prediction(True, True)"
   ]
  },
  {
   "cell_type": "markdown",
   "id": "c36c9db4",
   "metadata": {},
   "source": [
    "# Testing NamSor Handler"
   ]
  },
  {
   "cell_type": "code",
   "execution_count": 72,
   "id": "b18a20b8",
   "metadata": {},
   "outputs": [],
   "source": [
    "# namSor_handler = handlers.NamSorHandler(df)\n",
    "\n",
    "# namSor_handler.get_prediction(endpoint=NamSorEndpoint.FULL_NAME)"
   ]
  },
  {
   "cell_type": "markdown",
   "id": "a97d85c7",
   "metadata": {},
   "source": [
    "# Testing NameAPI"
   ]
  },
  {
   "cell_type": "code",
   "execution_count": 73,
   "id": "3fd66ee5",
   "metadata": {},
   "outputs": [],
   "source": [
    "# nameAPI_handler = handlers.NameAPIHandler(df)\n",
    "\n",
    "# await nameAPI_handler.get_prediction(True)"
   ]
  },
  {
   "cell_type": "code",
   "execution_count": 74,
   "id": "2b60c19d",
   "metadata": {},
   "outputs": [],
   "source": [
    "import serviceWrapperAsync as wrapper\n",
    "from serviceWrapperAsync import NamSorEndpoint as endpoint"
   ]
  },
  {
   "cell_type": "code",
   "execution_count": 75,
   "id": "ff4e6e85",
   "metadata": {},
   "outputs": [
    {
     "data": {
      "application/vnd.microsoft.datawrangler.viewer.v0+json": {
       "columns": [
        {
         "name": "index",
         "rawType": "int64",
         "type": "integer"
        },
        {
         "name": "index",
         "rawType": "int64",
         "type": "integer"
        },
        {
         "name": "fullName",
         "rawType": "object",
         "type": "string"
        },
        {
         "name": "namePassed",
         "rawType": "object",
         "type": "string"
        },
        {
         "name": "correctGender",
         "rawType": "object",
         "type": "string"
        },
        {
         "name": "predictedGender",
         "rawType": "object",
         "type": "string"
        },
        {
         "name": "localization",
         "rawType": "object",
         "type": "unknown"
        },
        {
         "name": "useLocalization",
         "rawType": "bool",
         "type": "boolean"
        },
        {
         "name": "serviceUsed",
         "rawType": "object",
         "type": "string"
        },
        {
         "name": "extraCount",
         "rawType": "int64",
         "type": "integer"
        },
        {
         "name": "extraProbability",
         "rawType": "float64",
         "type": "float"
        }
       ],
       "ref": "6dba4ce8-e368-4bf7-bcce-d83760c68e16",
       "rows": [
        [
         "0",
         "0",
         "Clara Benson",
         "Clara",
         "female",
         "female",
         "GH",
         "True",
         "genderize.IO",
         "247083",
         "0.99"
        ],
        [
         "1",
         "1",
         "Dalia Ziada",
         "Dalia",
         "female",
         "female",
         "EG",
         "True",
         "genderize.IO",
         "87214",
         "0.99"
        ],
        [
         "2",
         "2",
         "Fatou Haidara",
         "Fatou",
         "female",
         "female",
         "ML",
         "True",
         "genderize.IO",
         "25477",
         "0.98"
        ],
        [
         "3",
         "3",
         "Claude Haffner",
         "Claude",
         "female",
         "male",
         null,
         "True",
         "genderize.IO",
         "161269",
         "0.93"
        ],
        [
         "4",
         "4",
         "Diallo Sène",
         "Diallo",
         "female",
         "male",
         "ML",
         "True",
         "genderize.IO",
         "8032",
         "0.82"
        ],
        [
         "5",
         "5",
         "Fatoumata Sylla",
         "Fatoumata",
         "female",
         "female",
         "ML",
         "True",
         "genderize.IO",
         "15498",
         "0.99"
        ],
        [
         "6",
         "6",
         "Manuella Ollo",
         "Manuella",
         "female",
         "female",
         null,
         "True",
         "genderize.IO",
         "12717",
         "0.99"
        ],
        [
         "7",
         "7",
         "Awa Traoré",
         "Awa",
         "female",
         "female",
         "ML",
         "True",
         "genderize.IO",
         "16472",
         "0.93"
        ],
        [
         "8",
         "8",
         "Lorna Doorman",
         "Lorna",
         "female",
         "female",
         "ZW",
         "True",
         "genderize.IO",
         "53554",
         "1.0"
        ],
        [
         "9",
         "9",
         "Enayat al-Zayyat",
         "Enayat",
         "female",
         "male",
         "EG",
         "True",
         "genderize.IO",
         "1276",
         "0.56"
        ]
       ],
       "shape": {
        "columns": 10,
        "rows": 10
       }
      },
      "text/html": [
       "<div>\n",
       "<style scoped>\n",
       "    .dataframe tbody tr th:only-of-type {\n",
       "        vertical-align: middle;\n",
       "    }\n",
       "\n",
       "    .dataframe tbody tr th {\n",
       "        vertical-align: top;\n",
       "    }\n",
       "\n",
       "    .dataframe thead th {\n",
       "        text-align: right;\n",
       "    }\n",
       "</style>\n",
       "<table border=\"1\" class=\"dataframe\">\n",
       "  <thead>\n",
       "    <tr style=\"text-align: right;\">\n",
       "      <th></th>\n",
       "      <th>index</th>\n",
       "      <th>fullName</th>\n",
       "      <th>namePassed</th>\n",
       "      <th>correctGender</th>\n",
       "      <th>predictedGender</th>\n",
       "      <th>localization</th>\n",
       "      <th>useLocalization</th>\n",
       "      <th>serviceUsed</th>\n",
       "      <th>extraCount</th>\n",
       "      <th>extraProbability</th>\n",
       "    </tr>\n",
       "  </thead>\n",
       "  <tbody>\n",
       "    <tr>\n",
       "      <th>0</th>\n",
       "      <td>0</td>\n",
       "      <td>Clara Benson</td>\n",
       "      <td>Clara</td>\n",
       "      <td>female</td>\n",
       "      <td>female</td>\n",
       "      <td>GH</td>\n",
       "      <td>True</td>\n",
       "      <td>genderize.IO</td>\n",
       "      <td>247083</td>\n",
       "      <td>0.99</td>\n",
       "    </tr>\n",
       "    <tr>\n",
       "      <th>1</th>\n",
       "      <td>1</td>\n",
       "      <td>Dalia Ziada</td>\n",
       "      <td>Dalia</td>\n",
       "      <td>female</td>\n",
       "      <td>female</td>\n",
       "      <td>EG</td>\n",
       "      <td>True</td>\n",
       "      <td>genderize.IO</td>\n",
       "      <td>87214</td>\n",
       "      <td>0.99</td>\n",
       "    </tr>\n",
       "    <tr>\n",
       "      <th>2</th>\n",
       "      <td>2</td>\n",
       "      <td>Fatou Haidara</td>\n",
       "      <td>Fatou</td>\n",
       "      <td>female</td>\n",
       "      <td>female</td>\n",
       "      <td>ML</td>\n",
       "      <td>True</td>\n",
       "      <td>genderize.IO</td>\n",
       "      <td>25477</td>\n",
       "      <td>0.98</td>\n",
       "    </tr>\n",
       "    <tr>\n",
       "      <th>3</th>\n",
       "      <td>3</td>\n",
       "      <td>Claude Haffner</td>\n",
       "      <td>Claude</td>\n",
       "      <td>female</td>\n",
       "      <td>male</td>\n",
       "      <td>NaN</td>\n",
       "      <td>True</td>\n",
       "      <td>genderize.IO</td>\n",
       "      <td>161269</td>\n",
       "      <td>0.93</td>\n",
       "    </tr>\n",
       "    <tr>\n",
       "      <th>4</th>\n",
       "      <td>4</td>\n",
       "      <td>Diallo Sène</td>\n",
       "      <td>Diallo</td>\n",
       "      <td>female</td>\n",
       "      <td>male</td>\n",
       "      <td>ML</td>\n",
       "      <td>True</td>\n",
       "      <td>genderize.IO</td>\n",
       "      <td>8032</td>\n",
       "      <td>0.82</td>\n",
       "    </tr>\n",
       "    <tr>\n",
       "      <th>5</th>\n",
       "      <td>5</td>\n",
       "      <td>Fatoumata Sylla</td>\n",
       "      <td>Fatoumata</td>\n",
       "      <td>female</td>\n",
       "      <td>female</td>\n",
       "      <td>ML</td>\n",
       "      <td>True</td>\n",
       "      <td>genderize.IO</td>\n",
       "      <td>15498</td>\n",
       "      <td>0.99</td>\n",
       "    </tr>\n",
       "    <tr>\n",
       "      <th>6</th>\n",
       "      <td>6</td>\n",
       "      <td>Manuella Ollo</td>\n",
       "      <td>Manuella</td>\n",
       "      <td>female</td>\n",
       "      <td>female</td>\n",
       "      <td>NaN</td>\n",
       "      <td>True</td>\n",
       "      <td>genderize.IO</td>\n",
       "      <td>12717</td>\n",
       "      <td>0.99</td>\n",
       "    </tr>\n",
       "    <tr>\n",
       "      <th>7</th>\n",
       "      <td>7</td>\n",
       "      <td>Awa Traoré</td>\n",
       "      <td>Awa</td>\n",
       "      <td>female</td>\n",
       "      <td>female</td>\n",
       "      <td>ML</td>\n",
       "      <td>True</td>\n",
       "      <td>genderize.IO</td>\n",
       "      <td>16472</td>\n",
       "      <td>0.93</td>\n",
       "    </tr>\n",
       "    <tr>\n",
       "      <th>8</th>\n",
       "      <td>8</td>\n",
       "      <td>Lorna Doorman</td>\n",
       "      <td>Lorna</td>\n",
       "      <td>female</td>\n",
       "      <td>female</td>\n",
       "      <td>ZW</td>\n",
       "      <td>True</td>\n",
       "      <td>genderize.IO</td>\n",
       "      <td>53554</td>\n",
       "      <td>1.00</td>\n",
       "    </tr>\n",
       "    <tr>\n",
       "      <th>9</th>\n",
       "      <td>9</td>\n",
       "      <td>Enayat al-Zayyat</td>\n",
       "      <td>Enayat</td>\n",
       "      <td>female</td>\n",
       "      <td>male</td>\n",
       "      <td>EG</td>\n",
       "      <td>True</td>\n",
       "      <td>genderize.IO</td>\n",
       "      <td>1276</td>\n",
       "      <td>0.56</td>\n",
       "    </tr>\n",
       "  </tbody>\n",
       "</table>\n",
       "</div>"
      ],
      "text/plain": [
       "   index          fullName namePassed correctGender predictedGender  \\\n",
       "0      0      Clara Benson      Clara        female          female   \n",
       "1      1       Dalia Ziada      Dalia        female          female   \n",
       "2      2     Fatou Haidara      Fatou        female          female   \n",
       "3      3    Claude Haffner     Claude        female            male   \n",
       "4      4       Diallo Sène     Diallo        female            male   \n",
       "5      5   Fatoumata Sylla  Fatoumata        female          female   \n",
       "6      6     Manuella Ollo   Manuella        female          female   \n",
       "7      7        Awa Traoré        Awa        female          female   \n",
       "8      8     Lorna Doorman      Lorna        female          female   \n",
       "9      9  Enayat al-Zayyat     Enayat        female            male   \n",
       "\n",
       "  localization  useLocalization   serviceUsed  extraCount  extraProbability  \n",
       "0           GH             True  genderize.IO      247083              0.99  \n",
       "1           EG             True  genderize.IO       87214              0.99  \n",
       "2           ML             True  genderize.IO       25477              0.98  \n",
       "3          NaN             True  genderize.IO      161269              0.93  \n",
       "4           ML             True  genderize.IO        8032              0.82  \n",
       "5           ML             True  genderize.IO       15498              0.99  \n",
       "6          NaN             True  genderize.IO       12717              0.99  \n",
       "7           ML             True  genderize.IO       16472              0.93  \n",
       "8           ZW             True  genderize.IO       53554              1.00  \n",
       "9           EG             True  genderize.IO        1276              0.56  "
      ]
     },
     "execution_count": 75,
     "metadata": {},
     "output_type": "execute_result"
    }
   ],
   "source": [
    "handler = wrapper.GenderizeWrapper(df)\n",
    "await handler.get_prediction_async(useLocalization=True)"
   ]
  }
 ],
 "metadata": {
  "kernelspec": {
   "display_name": "name2gender",
   "language": "python",
   "name": "python3"
  },
  "language_info": {
   "codemirror_mode": {
    "name": "ipython",
    "version": 3
   },
   "file_extension": ".py",
   "mimetype": "text/x-python",
   "name": "python",
   "nbconvert_exporter": "python",
   "pygments_lexer": "ipython3",
   "version": "3.12.4"
  }
 },
 "nbformat": 4,
 "nbformat_minor": 5
}
