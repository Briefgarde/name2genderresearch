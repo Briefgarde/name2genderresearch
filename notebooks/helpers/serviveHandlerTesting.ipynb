{
 "cells": [
  {
   "cell_type": "code",
   "execution_count": 16,
   "id": "5daf4ab4",
   "metadata": {},
   "outputs": [
    {
     "name": "stdout",
     "output_type": "stream",
     "text": [
      "The autoreload extension is already loaded. To reload it, use:\n",
      "  %reload_ext autoreload\n"
     ]
    }
   ],
   "source": [
    "%load_ext autoreload\n",
    "%autoreload 2\n",
    "\n",
    "import pandas as pd\n",
    "import serviceHandlers as handlers\n"
   ]
  },
  {
   "cell_type": "code",
   "execution_count": 17,
   "id": "68f47747",
   "metadata": {},
   "outputs": [
    {
     "data": {
      "application/vnd.microsoft.datawrangler.viewer.v0+json": {
       "columns": [
        {
         "name": "index",
         "rawType": "int64",
         "type": "integer"
        },
        {
         "name": "Unnamed: 0",
         "rawType": "int64",
         "type": "integer"
        },
        {
         "name": "fullName",
         "rawType": "object",
         "type": "string"
        },
        {
         "name": "firstName",
         "rawType": "object",
         "type": "string"
        },
        {
         "name": "lastName",
         "rawType": "object",
         "type": "string"
        },
        {
         "name": "gender",
         "rawType": "object",
         "type": "string"
        },
        {
         "name": "isoCountry",
         "rawType": "object",
         "type": "string"
        },
        {
         "name": "continent",
         "rawType": "object",
         "type": "string"
        },
        {
         "name": "birthYear",
         "rawType": "int64",
         "type": "integer"
        },
        {
         "name": "hasMiddleName",
         "rawType": "bool",
         "type": "boolean"
        },
        {
         "name": "hasNoLastName",
         "rawType": "bool",
         "type": "boolean"
        },
        {
         "name": "source",
         "rawType": "object",
         "type": "string"
        }
       ],
       "ref": "8dd64ba0-079a-4ddc-87a3-89fd9e19f683",
       "rows": [
        [
         "0",
         "0",
         "Clara Benson",
         "Clara",
         "Benson",
         "female",
         "GH",
         "Africa",
         "2000",
         "False",
         "False",
         "wikidata"
        ],
        [
         "2",
         "2",
         "Dalia Ziada",
         "Dalia",
         "Ziada",
         "female",
         "EG",
         "Africa",
         "1982",
         "False",
         "False",
         "wikidata"
        ],
        [
         "3",
         "3",
         "Fatou Haidara",
         "Fatou",
         "Haidara",
         "female",
         "ML",
         "Africa",
         "1962",
         "False",
         "False",
         "wikidata"
        ]
       ],
       "shape": {
        "columns": 11,
        "rows": 3
       }
      },
      "text/html": [
       "<div>\n",
       "<style scoped>\n",
       "    .dataframe tbody tr th:only-of-type {\n",
       "        vertical-align: middle;\n",
       "    }\n",
       "\n",
       "    .dataframe tbody tr th {\n",
       "        vertical-align: top;\n",
       "    }\n",
       "\n",
       "    .dataframe thead th {\n",
       "        text-align: right;\n",
       "    }\n",
       "</style>\n",
       "<table border=\"1\" class=\"dataframe\">\n",
       "  <thead>\n",
       "    <tr style=\"text-align: right;\">\n",
       "      <th></th>\n",
       "      <th>Unnamed: 0</th>\n",
       "      <th>fullName</th>\n",
       "      <th>firstName</th>\n",
       "      <th>lastName</th>\n",
       "      <th>gender</th>\n",
       "      <th>isoCountry</th>\n",
       "      <th>continent</th>\n",
       "      <th>birthYear</th>\n",
       "      <th>hasMiddleName</th>\n",
       "      <th>hasNoLastName</th>\n",
       "      <th>source</th>\n",
       "    </tr>\n",
       "  </thead>\n",
       "  <tbody>\n",
       "    <tr>\n",
       "      <th>0</th>\n",
       "      <td>0</td>\n",
       "      <td>Clara Benson</td>\n",
       "      <td>Clara</td>\n",
       "      <td>Benson</td>\n",
       "      <td>female</td>\n",
       "      <td>GH</td>\n",
       "      <td>Africa</td>\n",
       "      <td>2000</td>\n",
       "      <td>False</td>\n",
       "      <td>False</td>\n",
       "      <td>wikidata</td>\n",
       "    </tr>\n",
       "    <tr>\n",
       "      <th>2</th>\n",
       "      <td>2</td>\n",
       "      <td>Dalia Ziada</td>\n",
       "      <td>Dalia</td>\n",
       "      <td>Ziada</td>\n",
       "      <td>female</td>\n",
       "      <td>EG</td>\n",
       "      <td>Africa</td>\n",
       "      <td>1982</td>\n",
       "      <td>False</td>\n",
       "      <td>False</td>\n",
       "      <td>wikidata</td>\n",
       "    </tr>\n",
       "    <tr>\n",
       "      <th>3</th>\n",
       "      <td>3</td>\n",
       "      <td>Fatou Haidara</td>\n",
       "      <td>Fatou</td>\n",
       "      <td>Haidara</td>\n",
       "      <td>female</td>\n",
       "      <td>ML</td>\n",
       "      <td>Africa</td>\n",
       "      <td>1962</td>\n",
       "      <td>False</td>\n",
       "      <td>False</td>\n",
       "      <td>wikidata</td>\n",
       "    </tr>\n",
       "  </tbody>\n",
       "</table>\n",
       "</div>"
      ],
      "text/plain": [
       "   Unnamed: 0       fullName firstName lastName  gender isoCountry continent  \\\n",
       "0           0   Clara Benson     Clara   Benson  female         GH    Africa   \n",
       "2           2    Dalia Ziada     Dalia    Ziada  female         EG    Africa   \n",
       "3           3  Fatou Haidara     Fatou  Haidara  female         ML    Africa   \n",
       "\n",
       "   birthYear  hasMiddleName  hasNoLastName    source  \n",
       "0       2000          False          False  wikidata  \n",
       "2       1982          False          False  wikidata  \n",
       "3       1962          False          False  wikidata  "
      ]
     },
     "execution_count": 17,
     "metadata": {},
     "output_type": "execute_result"
    }
   ],
   "source": [
    "# Getting a dataset\n",
    "\n",
    "df = pd.read_csv(\"../../data/all.csv\")\n",
    "df = df[df['hasMiddleName']==False].iloc[0:3]\n",
    "df"
   ]
  },
  {
   "cell_type": "markdown",
   "id": "5204a57e",
   "metadata": {},
   "source": [
    "# Testing GenderizeIoHandler"
   ]
  },
  {
   "cell_type": "code",
   "execution_count": 18,
   "id": "9929c0a8",
   "metadata": {},
   "outputs": [],
   "source": [
    "# genderizeIO_handler = handlers.GenderizeIoHandler(datasource=df, hasSubscription=False)\n",
    "# test_df = genderizeIO_handler.get_prediction(True)"
   ]
  },
  {
   "cell_type": "code",
   "execution_count": 19,
   "id": "3350a2ac",
   "metadata": {},
   "outputs": [],
   "source": [
    "# test_df"
   ]
  },
  {
   "cell_type": "markdown",
   "id": "c065f1b8",
   "metadata": {},
   "source": [
    "# Testing "
   ]
  },
  {
   "cell_type": "code",
   "execution_count": null,
   "id": "d616b638",
   "metadata": {},
   "outputs": [
    {
     "data": {
      "application/vnd.microsoft.datawrangler.viewer.v0+json": {
       "columns": [
        {
         "name": "index",
         "rawType": "int64",
         "type": "integer"
        },
        {
         "name": "index",
         "rawType": "int64",
         "type": "integer"
        },
        {
         "name": "fullName",
         "rawType": "object",
         "type": "string"
        },
        {
         "name": "namePassed",
         "rawType": "object",
         "type": "string"
        },
        {
         "name": "correctGender",
         "rawType": "object",
         "type": "string"
        },
        {
         "name": "predictedGender",
         "rawType": "object",
         "type": "string"
        },
        {
         "name": "localization",
         "rawType": "object",
         "type": "string"
        },
        {
         "name": "useLocalization",
         "rawType": "bool",
         "type": "boolean"
        },
        {
         "name": "serviceUsed",
         "rawType": "object",
         "type": "string"
        },
        {
         "name": "extraTotalName",
         "rawType": "int64",
         "type": "integer"
        },
        {
         "name": "extraProbability",
         "rawType": "int64",
         "type": "integer"
        },
        {
         "name": "extraCountryUsedByService",
         "rawType": "object",
         "type": "string"
        },
        {
         "name": "extraUsedAI",
         "rawType": "bool",
         "type": "boolean"
        },
        {
         "name": "extraForcedGenderize",
         "rawType": "bool",
         "type": "boolean"
        }
       ],
       "ref": "bc53d0ac-dbdb-48e1-998f-3fd532c87b1c",
       "rows": [
        [
         "0",
         "0",
         "Clara Benson",
         "clara",
         "female",
         "female",
         "GH",
         "False",
         "genderAPI",
         "9346",
         "99",
         "BR",
         "False",
         "False"
        ],
        [
         "1",
         "1",
         "Dalia Ziada",
         "dalia",
         "female",
         "female",
         "EG",
         "False",
         "genderAPI",
         "2134",
         "100",
         "MX",
         "False",
         "False"
        ],
        [
         "2",
         "2",
         "Fatou Haidara",
         "fatou",
         "female",
         "female",
         "ML",
         "False",
         "genderAPI",
         "121",
         "100",
         "US",
         "False",
         "False"
        ]
       ],
       "shape": {
        "columns": 13,
        "rows": 3
       }
      },
      "text/html": [
       "<div>\n",
       "<style scoped>\n",
       "    .dataframe tbody tr th:only-of-type {\n",
       "        vertical-align: middle;\n",
       "    }\n",
       "\n",
       "    .dataframe tbody tr th {\n",
       "        vertical-align: top;\n",
       "    }\n",
       "\n",
       "    .dataframe thead th {\n",
       "        text-align: right;\n",
       "    }\n",
       "</style>\n",
       "<table border=\"1\" class=\"dataframe\">\n",
       "  <thead>\n",
       "    <tr style=\"text-align: right;\">\n",
       "      <th></th>\n",
       "      <th>index</th>\n",
       "      <th>fullName</th>\n",
       "      <th>namePassed</th>\n",
       "      <th>correctGender</th>\n",
       "      <th>predictedGender</th>\n",
       "      <th>localization</th>\n",
       "      <th>useLocalization</th>\n",
       "      <th>serviceUsed</th>\n",
       "      <th>extraTotalName</th>\n",
       "      <th>extraProbability</th>\n",
       "      <th>extraCountryUsedByService</th>\n",
       "      <th>extraUsedAI</th>\n",
       "      <th>extraForcedGenderize</th>\n",
       "    </tr>\n",
       "  </thead>\n",
       "  <tbody>\n",
       "    <tr>\n",
       "      <th>0</th>\n",
       "      <td>0</td>\n",
       "      <td>Clara Benson</td>\n",
       "      <td>clara</td>\n",
       "      <td>female</td>\n",
       "      <td>female</td>\n",
       "      <td>GH</td>\n",
       "      <td>False</td>\n",
       "      <td>genderAPI</td>\n",
       "      <td>9346</td>\n",
       "      <td>99</td>\n",
       "      <td>BR</td>\n",
       "      <td>False</td>\n",
       "      <td>False</td>\n",
       "    </tr>\n",
       "    <tr>\n",
       "      <th>1</th>\n",
       "      <td>1</td>\n",
       "      <td>Dalia Ziada</td>\n",
       "      <td>dalia</td>\n",
       "      <td>female</td>\n",
       "      <td>female</td>\n",
       "      <td>EG</td>\n",
       "      <td>False</td>\n",
       "      <td>genderAPI</td>\n",
       "      <td>2134</td>\n",
       "      <td>100</td>\n",
       "      <td>MX</td>\n",
       "      <td>False</td>\n",
       "      <td>False</td>\n",
       "    </tr>\n",
       "    <tr>\n",
       "      <th>2</th>\n",
       "      <td>2</td>\n",
       "      <td>Fatou Haidara</td>\n",
       "      <td>fatou</td>\n",
       "      <td>female</td>\n",
       "      <td>female</td>\n",
       "      <td>ML</td>\n",
       "      <td>False</td>\n",
       "      <td>genderAPI</td>\n",
       "      <td>121</td>\n",
       "      <td>100</td>\n",
       "      <td>US</td>\n",
       "      <td>False</td>\n",
       "      <td>False</td>\n",
       "    </tr>\n",
       "  </tbody>\n",
       "</table>\n",
       "</div>"
      ],
      "text/plain": [
       "   index       fullName namePassed correctGender predictedGender localization  \\\n",
       "0      0   Clara Benson      clara        female          female           GH   \n",
       "1      1    Dalia Ziada      dalia        female          female           EG   \n",
       "2      2  Fatou Haidara      fatou        female          female           ML   \n",
       "\n",
       "   useLocalization serviceUsed  extraTotalName  extraProbability  \\\n",
       "0            False   genderAPI            9346                99   \n",
       "1            False   genderAPI            2134               100   \n",
       "2            False   genderAPI             121               100   \n",
       "\n",
       "  extraCountryUsedByService  extraUsedAI  extraForcedGenderize  \n",
       "0                        BR        False                 False  \n",
       "1                        MX        False                 False  \n",
       "2                        US        False                 False  "
      ]
     },
     "execution_count": 20,
     "metadata": {},
     "output_type": "execute_result"
    }
   ],
   "source": [
    "genderAPI_handler = handlers.GenderAPIHandler(datasource=df)\n",
    "\n",
    "response = genderAPI_handler.get_prediction(False)\n",
    "response"
   ]
  }
 ],
 "metadata": {
  "kernelspec": {
   "display_name": "name2gender",
   "language": "python",
   "name": "python3"
  },
  "language_info": {
   "codemirror_mode": {
    "name": "ipython",
    "version": 3
   },
   "file_extension": ".py",
   "mimetype": "text/x-python",
   "name": "python",
   "nbconvert_exporter": "python",
   "pygments_lexer": "ipython3",
   "version": "3.12.4"
  }
 },
 "nbformat": 4,
 "nbformat_minor": 5
}
