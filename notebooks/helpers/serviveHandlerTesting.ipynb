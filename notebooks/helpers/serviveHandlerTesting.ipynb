{
 "cells": [
  {
   "cell_type": "code",
   "execution_count": 89,
   "id": "5daf4ab4",
   "metadata": {},
   "outputs": [
    {
     "name": "stdout",
     "output_type": "stream",
     "text": [
      "The autoreload extension is already loaded. To reload it, use:\n",
      "  %reload_ext autoreload\n"
     ]
    }
   ],
   "source": [
    "%load_ext autoreload\n",
    "%autoreload 2\n",
    "\n",
    "import pandas as pd\n",
    "import serviceHandlers as handlers\n"
   ]
  },
  {
   "cell_type": "code",
   "execution_count": 90,
   "id": "68f47747",
   "metadata": {},
   "outputs": [
    {
     "data": {
      "application/vnd.microsoft.datawrangler.viewer.v0+json": {
       "columns": [
        {
         "name": "index",
         "rawType": "int64",
         "type": "integer"
        },
        {
         "name": "Unnamed: 0",
         "rawType": "int64",
         "type": "integer"
        },
        {
         "name": "fullName",
         "rawType": "object",
         "type": "string"
        },
        {
         "name": "firstName",
         "rawType": "object",
         "type": "string"
        },
        {
         "name": "lastName",
         "rawType": "object",
         "type": "string"
        },
        {
         "name": "gender",
         "rawType": "object",
         "type": "string"
        },
        {
         "name": "isoCountry",
         "rawType": "object",
         "type": "string"
        },
        {
         "name": "continent",
         "rawType": "object",
         "type": "string"
        },
        {
         "name": "birthYear",
         "rawType": "int64",
         "type": "integer"
        },
        {
         "name": "hasMiddleName",
         "rawType": "bool",
         "type": "boolean"
        },
        {
         "name": "hasNoLastName",
         "rawType": "bool",
         "type": "boolean"
        },
        {
         "name": "source",
         "rawType": "object",
         "type": "string"
        }
       ],
       "ref": "b4b6f0c9-2a54-4a24-8513-419b30cb4d6c",
       "rows": [
        [
         "0",
         "0",
         "Clara Benson",
         "Clara",
         "Benson",
         "female",
         "GH",
         "Africa",
         "2000",
         "False",
         "False",
         "wikidata"
        ],
        [
         "2",
         "2",
         "Dalia Ziada",
         "Dalia",
         "Ziada",
         "female",
         "EG",
         "Africa",
         "1982",
         "False",
         "False",
         "wikidata"
        ],
        [
         "3",
         "3",
         "Fatou Haidara",
         "Fatou",
         "Haidara",
         "female",
         "ML",
         "Africa",
         "1962",
         "False",
         "False",
         "wikidata"
        ]
       ],
       "shape": {
        "columns": 11,
        "rows": 3
       }
      },
      "text/html": [
       "<div>\n",
       "<style scoped>\n",
       "    .dataframe tbody tr th:only-of-type {\n",
       "        vertical-align: middle;\n",
       "    }\n",
       "\n",
       "    .dataframe tbody tr th {\n",
       "        vertical-align: top;\n",
       "    }\n",
       "\n",
       "    .dataframe thead th {\n",
       "        text-align: right;\n",
       "    }\n",
       "</style>\n",
       "<table border=\"1\" class=\"dataframe\">\n",
       "  <thead>\n",
       "    <tr style=\"text-align: right;\">\n",
       "      <th></th>\n",
       "      <th>Unnamed: 0</th>\n",
       "      <th>fullName</th>\n",
       "      <th>firstName</th>\n",
       "      <th>lastName</th>\n",
       "      <th>gender</th>\n",
       "      <th>isoCountry</th>\n",
       "      <th>continent</th>\n",
       "      <th>birthYear</th>\n",
       "      <th>hasMiddleName</th>\n",
       "      <th>hasNoLastName</th>\n",
       "      <th>source</th>\n",
       "    </tr>\n",
       "  </thead>\n",
       "  <tbody>\n",
       "    <tr>\n",
       "      <th>0</th>\n",
       "      <td>0</td>\n",
       "      <td>Clara Benson</td>\n",
       "      <td>Clara</td>\n",
       "      <td>Benson</td>\n",
       "      <td>female</td>\n",
       "      <td>GH</td>\n",
       "      <td>Africa</td>\n",
       "      <td>2000</td>\n",
       "      <td>False</td>\n",
       "      <td>False</td>\n",
       "      <td>wikidata</td>\n",
       "    </tr>\n",
       "    <tr>\n",
       "      <th>2</th>\n",
       "      <td>2</td>\n",
       "      <td>Dalia Ziada</td>\n",
       "      <td>Dalia</td>\n",
       "      <td>Ziada</td>\n",
       "      <td>female</td>\n",
       "      <td>EG</td>\n",
       "      <td>Africa</td>\n",
       "      <td>1982</td>\n",
       "      <td>False</td>\n",
       "      <td>False</td>\n",
       "      <td>wikidata</td>\n",
       "    </tr>\n",
       "    <tr>\n",
       "      <th>3</th>\n",
       "      <td>3</td>\n",
       "      <td>Fatou Haidara</td>\n",
       "      <td>Fatou</td>\n",
       "      <td>Haidara</td>\n",
       "      <td>female</td>\n",
       "      <td>ML</td>\n",
       "      <td>Africa</td>\n",
       "      <td>1962</td>\n",
       "      <td>False</td>\n",
       "      <td>False</td>\n",
       "      <td>wikidata</td>\n",
       "    </tr>\n",
       "  </tbody>\n",
       "</table>\n",
       "</div>"
      ],
      "text/plain": [
       "   Unnamed: 0       fullName firstName lastName  gender isoCountry continent  \\\n",
       "0           0   Clara Benson     Clara   Benson  female         GH    Africa   \n",
       "2           2    Dalia Ziada     Dalia    Ziada  female         EG    Africa   \n",
       "3           3  Fatou Haidara     Fatou  Haidara  female         ML    Africa   \n",
       "\n",
       "   birthYear  hasMiddleName  hasNoLastName    source  \n",
       "0       2000          False          False  wikidata  \n",
       "2       1982          False          False  wikidata  \n",
       "3       1962          False          False  wikidata  "
      ]
     },
     "execution_count": 90,
     "metadata": {},
     "output_type": "execute_result"
    }
   ],
   "source": [
    "# Getting a dataset\n",
    "\n",
    "df = pd.read_csv(\"../../data/all.csv\")\n",
    "df = df[df['hasMiddleName']==False].iloc[0:3]\n",
    "df"
   ]
  },
  {
   "cell_type": "markdown",
   "id": "5204a57e",
   "metadata": {},
   "source": [
    "# Testing GenderizeIoHandler"
   ]
  },
  {
   "cell_type": "code",
   "execution_count": 91,
   "id": "9929c0a8",
   "metadata": {},
   "outputs": [],
   "source": [
    "# genderizeIO_handler = handlers.GenderizeIoHandler(datasource=df, hasSubscription=False)\n",
    "# test_df = genderizeIO_handler.get_prediction(True)"
   ]
  },
  {
   "cell_type": "code",
   "execution_count": 92,
   "id": "3350a2ac",
   "metadata": {},
   "outputs": [],
   "source": [
    "# test_df"
   ]
  },
  {
   "cell_type": "markdown",
   "id": "c065f1b8",
   "metadata": {},
   "source": [
    "# Testing GenderAPI"
   ]
  },
  {
   "cell_type": "code",
   "execution_count": 93,
   "id": "d616b638",
   "metadata": {},
   "outputs": [],
   "source": [
    "# genderAPI_IO_Handler = handlers.GenderAPI_IO_Handler(datasource=df)\n",
    "\n",
    "# response = genderAPI_IO_Handler.get_prediction(False)\n",
    "# response"
   ]
  },
  {
   "cell_type": "markdown",
   "id": "aee73839",
   "metadata": {},
   "source": [
    "# Testing GenderGuesser"
   ]
  },
  {
   "cell_type": "code",
   "execution_count": 94,
   "id": "b359cc35",
   "metadata": {},
   "outputs": [],
   "source": [
    "# genderGuesserHandler = handlers.GenderGuesserHandler(df)\n",
    "\n",
    "# genderGuesserHandler.get_prediction(False)"
   ]
  },
  {
   "cell_type": "markdown",
   "id": "4bb287d6",
   "metadata": {},
   "source": [
    "# Testing GenderAPI.com "
   ]
  },
  {
   "cell_type": "code",
   "execution_count": 96,
   "id": "f3cbcae9",
   "metadata": {},
   "outputs": [
    {
     "data": {
      "application/vnd.microsoft.datawrangler.viewer.v0+json": {
       "columns": [
        {
         "name": "index",
         "rawType": "int64",
         "type": "integer"
        },
        {
         "name": "index",
         "rawType": "int64",
         "type": "integer"
        },
        {
         "name": "fullName",
         "rawType": "object",
         "type": "string"
        },
        {
         "name": "namePassed",
         "rawType": "object",
         "type": "string"
        },
        {
         "name": "correctGender",
         "rawType": "object",
         "type": "string"
        },
        {
         "name": "predictedGender",
         "rawType": "object",
         "type": "string"
        },
        {
         "name": "localization",
         "rawType": "object",
         "type": "string"
        },
        {
         "name": "useLocalization",
         "rawType": "bool",
         "type": "boolean"
        },
        {
         "name": "serviceUsed",
         "rawType": "object",
         "type": "string"
        },
        {
         "name": "extraProbability",
         "rawType": "float64",
         "type": "float"
        },
        {
         "name": "extraIdentifiedFirstName",
         "rawType": "object",
         "type": "string"
        },
        {
         "name": "extraIdentifiedLastName",
         "rawType": "object",
         "type": "string"
        }
       ],
       "ref": "681e82c9-8d05-4ef7-97f7-8e417b0eafb1",
       "rows": [
        [
         "0",
         "0",
         "Clara Benson",
         "Clara Benson",
         "female",
         "female",
         "GH",
         "True",
         "genderAPI.com",
         "0.98",
         "Clara",
         "Benson"
        ],
        [
         "1",
         "1",
         "Dalia Ziada",
         "Dalia Ziada",
         "female",
         "female",
         "EG",
         "True",
         "genderAPI.com",
         "0.98",
         "Dalia",
         "Ziada"
        ],
        [
         "2",
         "2",
         "Fatou Haidara",
         "Fatou Haidara",
         "female",
         "female",
         "ML",
         "True",
         "genderAPI.com",
         "0.97",
         "Fatou",
         "Haidara"
        ]
       ],
       "shape": {
        "columns": 11,
        "rows": 3
       }
      },
      "text/html": [
       "<div>\n",
       "<style scoped>\n",
       "    .dataframe tbody tr th:only-of-type {\n",
       "        vertical-align: middle;\n",
       "    }\n",
       "\n",
       "    .dataframe tbody tr th {\n",
       "        vertical-align: top;\n",
       "    }\n",
       "\n",
       "    .dataframe thead th {\n",
       "        text-align: right;\n",
       "    }\n",
       "</style>\n",
       "<table border=\"1\" class=\"dataframe\">\n",
       "  <thead>\n",
       "    <tr style=\"text-align: right;\">\n",
       "      <th></th>\n",
       "      <th>index</th>\n",
       "      <th>fullName</th>\n",
       "      <th>namePassed</th>\n",
       "      <th>correctGender</th>\n",
       "      <th>predictedGender</th>\n",
       "      <th>localization</th>\n",
       "      <th>useLocalization</th>\n",
       "      <th>serviceUsed</th>\n",
       "      <th>extraProbability</th>\n",
       "      <th>extraIdentifiedFirstName</th>\n",
       "      <th>extraIdentifiedLastName</th>\n",
       "    </tr>\n",
       "  </thead>\n",
       "  <tbody>\n",
       "    <tr>\n",
       "      <th>0</th>\n",
       "      <td>0</td>\n",
       "      <td>Clara Benson</td>\n",
       "      <td>Clara Benson</td>\n",
       "      <td>female</td>\n",
       "      <td>female</td>\n",
       "      <td>GH</td>\n",
       "      <td>True</td>\n",
       "      <td>genderAPI.com</td>\n",
       "      <td>0.98</td>\n",
       "      <td>Clara</td>\n",
       "      <td>Benson</td>\n",
       "    </tr>\n",
       "    <tr>\n",
       "      <th>1</th>\n",
       "      <td>1</td>\n",
       "      <td>Dalia Ziada</td>\n",
       "      <td>Dalia Ziada</td>\n",
       "      <td>female</td>\n",
       "      <td>female</td>\n",
       "      <td>EG</td>\n",
       "      <td>True</td>\n",
       "      <td>genderAPI.com</td>\n",
       "      <td>0.98</td>\n",
       "      <td>Dalia</td>\n",
       "      <td>Ziada</td>\n",
       "    </tr>\n",
       "    <tr>\n",
       "      <th>2</th>\n",
       "      <td>2</td>\n",
       "      <td>Fatou Haidara</td>\n",
       "      <td>Fatou Haidara</td>\n",
       "      <td>female</td>\n",
       "      <td>female</td>\n",
       "      <td>ML</td>\n",
       "      <td>True</td>\n",
       "      <td>genderAPI.com</td>\n",
       "      <td>0.97</td>\n",
       "      <td>Fatou</td>\n",
       "      <td>Haidara</td>\n",
       "    </tr>\n",
       "  </tbody>\n",
       "</table>\n",
       "</div>"
      ],
      "text/plain": [
       "   index       fullName     namePassed correctGender predictedGender  \\\n",
       "0      0   Clara Benson   Clara Benson        female          female   \n",
       "1      1    Dalia Ziada    Dalia Ziada        female          female   \n",
       "2      2  Fatou Haidara  Fatou Haidara        female          female   \n",
       "\n",
       "  localization  useLocalization    serviceUsed  extraProbability  \\\n",
       "0           GH             True  genderAPI.com              0.98   \n",
       "1           EG             True  genderAPI.com              0.98   \n",
       "2           ML             True  genderAPI.com              0.97   \n",
       "\n",
       "  extraIdentifiedFirstName extraIdentifiedLastName  \n",
       "0                    Clara                  Benson  \n",
       "1                    Dalia                   Ziada  \n",
       "2                    Fatou                 Haidara  "
      ]
     },
     "execution_count": 96,
     "metadata": {},
     "output_type": "execute_result"
    }
   ],
   "source": [
    "genderAPI_com_handler = handlers.GenderAPI_com_Handler(df)\n",
    "\n",
    "response = genderAPI_com_handler.callAPI(True, True)\n",
    "\n",
    "genderAPI_com_handler.parse_response(response, True, True)"
   ]
  }
 ],
 "metadata": {
  "kernelspec": {
   "display_name": "name2gender",
   "language": "python",
   "name": "python3"
  },
  "language_info": {
   "codemirror_mode": {
    "name": "ipython",
    "version": 3
   },
   "file_extension": ".py",
   "mimetype": "text/x-python",
   "name": "python",
   "nbconvert_exporter": "python",
   "pygments_lexer": "ipython3",
   "version": "3.12.4"
  }
 },
 "nbformat": 4,
 "nbformat_minor": 5
}
